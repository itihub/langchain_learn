{
 "cells": [
  {
   "cell_type": "code",
   "execution_count": null,
   "metadata": {},
   "outputs": [],
   "source": [
    "from dotenv import load_dotenv\n",
    "import os\n",
    "\n",
    "# Load environment variables from .env file\n",
    "load_dotenv(\".env\")\n",
    "\n",
    "# 手动设置环境变量\n",
    "# os.environ[\"OPENAI_API_BASE_URL\"] = \"https://ai-yyds.com/v1\"\n",
    "# os.environ[\"OPENAI_API_KEY\"] = \"sk-XXXXXXXXXXXXXXXXXXXX0bDb\"\n",
    "# os.environ[\"MODEL_NAME\"] = \"test\""
   ]
  },
  {
   "cell_type": "markdown",
   "metadata": {},
   "source": [
    "## ChainHub\n",
    "“Chain Hub”（链中心）指的是一个用于存储和共享预构建链的存储库或社区。它旨在简化LangChain链的创建、发现和重用，使开发者能够更轻松地构建复杂的语言模型应用程序。"
   ]
  },
  {
   "cell_type": "markdown",
   "metadata": {},
   "source": [
    "### 从 LangChainHub 或本地 fs 加载链的统一方法。"
   ]
  },
  {
   "cell_type": "code",
   "execution_count": null,
   "metadata": {},
   "outputs": [],
   "source": [
    "from langchain.chains import load_chain\n",
    "\n",
    "chain = load_chain(\"lc://chains/llm-math/chain.json\")\n",
    "\n",
    "print(chain.run(\"2+6等于几?\"))"
   ]
  },
  {
   "cell_type": "code",
   "execution_count": null,
   "metadata": {},
   "outputs": [],
   "source": [
    "from langchain.chains import load_chain\n",
    "\n",
    "chain = load_chain(\"lc://chains/hello-world/chain.json\")\n",
    "\n",
    "chain.run(\"男人\")"
   ]
  },
  {
   "cell_type": "markdown",
   "metadata": {},
   "source": [
    "## 自定义Chain\n",
    "如果你需要完全控制链的行为，可以继承 Chain 类并实现自己的逻辑。\n",
    "- 你需要实现 _call() 方法来定义链的执行逻辑。\n",
    "- 你需要定义 input_keys 和 output_keys 属性来指定链的输入和输出变量。"
   ]
  },
  {
   "cell_type": "code",
   "execution_count": 3,
   "metadata": {},
   "outputs": [],
   "source": [
    "from typing import List, Dict, Any, Optional\n",
    "from langchain.callbacks.manager import (\n",
    "    CallbackManagerForChainRun\n",
    ")\n",
    "from langchain.chains.base import Chain\n",
    "from langchain.prompts.base import BasePromptTemplate\n",
    "from langchain.base_language import  BaseLanguageModel\n",
    "\n",
    "# 继承 Chain 类创建完全自定义的链\n",
    "class wiki_article_chain(Chain):\n",
    "    \"\"\"\n",
    "    开发一个wiki文章生成器的自定义链\n",
    "    \"\"\"\n",
    "\n",
    "    # 类变量\n",
    "    prompt:BasePromptTemplate\n",
    "    llm:BaseLanguageModel\n",
    "    out_key:str=\"text\"\n",
    "\n",
    "    @property\n",
    "    def input_keys(self) -> List[str]:\n",
    "        \"\"\"将返回Prompt所需的所有键\"\"\"\n",
    "        return self.prompt.input_variables\n",
    "    \n",
    "    @property\n",
    "    def output_keys(self) -> List[str]:\n",
    "        \"\"\"将始终返回text键\"\"\"\n",
    "        return [self.out_key]\n",
    "    \n",
    "    def _call(\n",
    "        self,\n",
    "        inputs:Dict[str,Any],\n",
    "        run_manager:Optional[CallbackManagerForChainRun]=None,\n",
    "    ) -> Dict[str,Any]:\n",
    "        \"\"\"运行链\"\"\"\n",
    "        prompt_value = self.prompt.format_prompt(**inputs)\n",
    "        # print(\"prompt_value:\",prompt_value)\n",
    "        response = self.llm.generate_prompt(\n",
    "            [prompt_value], callbacks=run_manager.get_child() if run_manager else None\n",
    "        )\n",
    "        # print(\"response:\",response)\n",
    "        if run_manager:\n",
    "            run_manager.on_text(\"wiki article is written\")\n",
    "        return {self.out_key:response.generations[0][0].text}\n",
    "    \n",
    "    @property\n",
    "    def _chain_type(self) -> str:\n",
    "        \"\"\"链类型\"\"\"\n",
    "        return \"wiki_article_chain\""
   ]
  },
  {
   "cell_type": "code",
   "execution_count": 4,
   "metadata": {},
   "outputs": [],
   "source": [
    "from langchain_openai import ChatOpenAI\n",
    "from langchain.prompts import PromptTemplate\n",
    "\n",
    "chain = wiki_article_chain(\n",
    "    prompt=PromptTemplate(\n",
    "        template=\"写一篇关于{topic}的维基百科形式的文章\",\n",
    "        input_variables=[\"topic\"]\n",
    "    ),\n",
    "    llm=ChatOpenAI(\n",
    "        base_url=os.getenv(\"OPENAI_API_BASE_URL\"),\n",
    "        api_key=os.getenv(\"OPENAI_API_KEY\"),\n",
    "        model=\"gpt-4o-mini\",\n",
    "        temperature=0\n",
    "    ),\n",
    ")"
   ]
  },
  {
   "cell_type": "code",
   "execution_count": 5,
   "metadata": {},
   "outputs": [
    {
     "name": "stderr",
     "output_type": "stream",
     "text": [
      "C:\\Users\\jizhe\\AppData\\Local\\Temp\\ipykernel_9364\\2525842024.py:1: LangChainDeprecationWarning: The method `Chain.run` was deprecated in langchain 0.1.0 and will be removed in 1.0. Use :meth:`~invoke` instead.\n",
      "  result = chain.run({\"topic\":\"降本增效\"})\n"
     ]
    },
    {
     "name": "stdout",
     "output_type": "stream",
     "text": [
      "# 降本增效\n",
      "\n",
      "## 概述\n",
      "降本增效是指通过一系列管理和技术手段，降低企业运营成本，提高生产效率，从而实现经济效益最大化的管理理念和实践。该概念广泛应用于各类企业和组织，尤其是在竞争激烈的市场环境中，降本增效成为企业生存和发展的重要策略。\n",
      "\n",
      "## 历史背景\n",
      "降本增效的理念源于20世纪初的工业革命，随着生产力的提升和市场竞争的加剧，企业开始重视成本控制和效率提升。20世纪80年代，随着日本制造业的崛起，精益生产（Lean Production）和六西格玛（Six Sigma）等管理方法的提出，使得降本增效的实践得到了进一步发展。\n",
      "\n",
      "## 主要方法\n",
      "降本增效的具体方法多种多样，主要包括以下几种：\n",
      "\n",
      "### 1. 流程优化\n",
      "通过对生产和管理流程的分析，识别并消除冗余环节，简化操作流程，从而提高工作效率，降低时间和人力成本。\n",
      "\n",
      "### 2. 技术创新\n",
      "引入新技术和自动化设备，提高生产效率，降低人工成本。例如，使用机器人进行生产线作业，能够显著提高生产速度和精度。\n",
      "\n",
      "### 3. 供应链管理\n",
      "优化供应链管理，通过集中采购、减少库存、提高物流效率等手段，降低原材料和运输成本。\n",
      "\n",
      "### 4. 人员培训\n",
      "加强员工培训，提高员工技能和工作效率，减少因操作不当造成的损失和浪费。\n",
      "\n",
      "### 5. 成本控制\n",
      "建立科学的成本控制体系，定期分析各项成本，及时发现并纠正超支现象。\n",
      "\n",
      "## 实施效果\n",
      "成功实施降本增效策略的企业，通常能够在以下几个方面取得显著成效：\n",
      "\n",
      "- **成本降低**：通过优化资源配置和流程，企业能够有效降低生产和运营成本。\n",
      "- **效率提升**：提高生产效率和工作效率，使得企业能够在相同的时间内生产更多的产品或提供更多的服务。\n",
      "- **竞争优势**：在市场竞争中，降本增效使企业能够以更具竞争力的价格提供产品和服务，从而吸引更多客户。\n",
      "- **可持续发展**：通过资源的高效利用，企业能够实现可持续发展，减少对环境的负担。\n",
      "\n",
      "## 挑战与风险\n",
      "尽管降本增效带来了诸多好处，但在实施过程中也面临一些挑战和风险：\n",
      "\n",
      "- **员工抵触**：降本增效可能导致裁员或工作内容的变化，员工可能会对此产生抵触情绪。\n",
      "- **质量风险**：过度追求成本降低可能会影响产品质量，进而影响客户满意度和品牌形象。\n",
      "- **短期与长期矛盾**：一些降本措施可能在短期内有效，但从长期来看可能会影响企业的创新能力和市场竞争力。\n",
      "\n",
      "## 结论\n",
      "降本增效是现代企业管理中不可或缺的重要策略，通过科学的管理和技术手段，企业能够在激烈的市场竞争中立于不败之地。然而，企业在实施降本增效时，需综合考虑各方面因素，确保在降低成本的同时，不影响产品质量和员工士气，实现可持续发展。\n"
     ]
    }
   ],
   "source": [
    "result = chain.run({\"topic\":\"降本增效\"})\n",
    "print(result)"
   ]
  }
 ],
 "metadata": {
  "kernelspec": {
   "display_name": "venv",
   "language": "python",
   "name": "python3"
  },
  "language_info": {
   "codemirror_mode": {
    "name": "ipython",
    "version": 3
   },
   "file_extension": ".py",
   "mimetype": "text/x-python",
   "name": "python",
   "nbconvert_exporter": "python",
   "pygments_lexer": "ipython3",
   "version": "3.13.1"
  }
 },
 "nbformat": 4,
 "nbformat_minor": 2
}
