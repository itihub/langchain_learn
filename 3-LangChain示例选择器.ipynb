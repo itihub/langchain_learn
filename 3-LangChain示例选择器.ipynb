{
 "cells": [
  {
   "cell_type": "markdown",
   "metadata": {},
   "source": [
    "##### 示例选择器\n",
    "LangChain 中的示例选择器（Example Selectors）是一种在少样本提示（few-shot prompts）中动态选择示例的工具。它允许你根据输入查询的特点，从一组预定义的示例中选择最相关的示例，从而提高语言模型的性能。\n",
    "+ 根据长度要求智能选择示例\n",
    "+ 根据输入相关性选择示例(最大边际相关性)\n",
    "+ 根据输入相似度选择示例(最大余弦相似度)\n",
    "\n",
    "示例选择器的作用：\n",
    "+ 提高提示的灵活性：\n",
    "    - 传统的少样本提示通常需要手动选择示例，这既耗时又难以适应不同的输入。\n",
    "    - 示例选择器可以根据输入自动选择示例，从而提高提示的灵活性和适应性。\n",
    "+ 提高语言模型的性能：\n",
    "    - 通过选择与输入最相关的示例，示例选择器可以帮助语言模型更好地理解任务，从而提高其性能。\n",
    "+ 减少提示的长度：\n",
    "    - 在某些情况下，提示的长度可能会受到限制。\n",
    "    - 示例选择器可以帮助你选择最少的示例，同时保持提示的有效性。"
   ]
  },
  {
   "cell_type": "markdown",
   "metadata": {},
   "source": [
    "#### 配置文件读取"
   ]
  },
  {
   "cell_type": "code",
   "execution_count": null,
   "metadata": {},
   "outputs": [],
   "source": [
    "from dotenv import load_dotenv\n",
    "import os\n",
    "\n",
    "# Load environment variables from .env file\n",
    "load_dotenv(\".env\")"
   ]
  },
  {
   "cell_type": "markdown",
   "metadata": {},
   "source": [
    "###### 基于长度的示例选择器（LengthBasedExampleSelector）\n",
    "- 根据示例的长度选择示例。\n",
    "- 适用于需要控制提示长度的场景。"
   ]
  },
  {
   "cell_type": "code",
   "execution_count": 1,
   "metadata": {},
   "outputs": [],
   "source": [
    "# 根据输入的提示词长度综合计算最终长度,智能截取或者添加提示词的示例\n",
    "\n",
    "from langchain_core.prompts import PromptTemplate\n",
    "from langchain_core.prompts import FewShotPromptTemplate\n",
    "from langchain_core.example_selectors import LengthBasedExampleSelector\n",
    "\n",
    "# 假设已经有这么多的提示词示例(反义词样例)\n",
    "# 创建示例列表：准备一组示例，每个示例包含输入和输出。\n",
    "examples = [\n",
    "    {\"input\": \"happy\", \"output\": \"sad\"},\n",
    "    {\"input\": \"tall\", \"output\": \"short\"},\n",
    "    {\"input\": \"sunny\", \"output\": \"gloomy\"},\n",
    "    {\"input\": \"windy\", \"output\": \"calm\"},\n",
    "    {\"input\": \"高兴\", \"output\": \"悲伤\"},\n",
    "]\n",
    "\n",
    "# 构造提示词模板\n",
    "# 创建少样本提示模板：准备一个模板，包含输入变量和输出变量。\n",
    "example_prompt = PromptTemplate(\n",
    "    input_variables=[\"input\", \"output\"],\n",
    "    template=\"反义词: {input} -> {output}\",\n",
    ")\n",
    "\n",
    "# 创建基于长度的示例选择器\n",
    "example_selector = LengthBasedExampleSelector(\n",
    "    # 传入提示词示例组\n",
    "    examples=examples,\n",
    "    # 传入提示词模板\n",
    "    example_prompt=example_prompt,\n",
    "    # 设置格式化后的提示词最大长度\n",
    "    max_length=25,\n",
    "    # 内置的get_text_length方法,如果默认分词的计算方式不满足,可以自己去扩展\n",
    "    # get_text_length=Callable[[str], int] = lambda x: len(re.split(\"\\n| \", x)),\n",
    ")\n",
    "\n",
    "# 使用小样本提示词模板来实现动态示例的调用\n",
    "# 创建 FewShotPromptTemplate 实例.使用示例选择器和提示模板创建 FewShotPromptTemplate 对象\n",
    "dynamic_prompt = FewShotPromptTemplate(\n",
    "    example_selector=example_selector,\n",
    "    example_prompt=example_prompt,\n",
    "    prefix=\"请写出反义词:\",\n",
    "    suffix=\"原词:{adjective}\\n反义词:\",\n",
    "    input_variables=[\"adjective\"],\n",
    ")"
   ]
  },
  {
   "cell_type": "code",
   "execution_count": null,
   "metadata": {},
   "outputs": [],
   "source": [
    "# 小样本获取所有示例\n",
    "# 调用 format 方法，传入输入查询，示例选择器会自动选择示例，并将其插入到提示中。\n",
    "print(dynamic_prompt.format(adjective=\"happy\"))"
   ]
  },
  {
   "cell_type": "code",
   "execution_count": null,
   "metadata": {},
   "outputs": [],
   "source": [
    "# 如果输入长度很长,则最终输出会根据长度要求进行截取\n",
    "long_string = \"big and huge and massive and large and gigantic and tall and much much much much much much bigger then everyone\"\n",
    "print(dynamic_prompt.format(adjective=long_string))"
   ]
  },
  {
   "cell_type": "markdown",
   "metadata": {},
   "source": [
    "##### 最大边际相关性(根据输入相似度)示例选择器（MaxMarginalRelevanceExampleSelector,MMR）\n",
    "- 根据示例与输入的相似度和示例之间的多样性选择示例。\n",
    "- 适用于需要选择既相关又多样的示例的场景。\n",
    "- MMR是一种在信息检索种常用的方法,它的目标是在相关性和多样性之间找到一个平衡\n",
    "- MMR会首先找出与输入最相似(即余弦相似度最大)的样本\n",
    "- 然后在迭代添加样本的过程中,对于已选择样本过于接近(即相似度过高)的样本进行惩罚(例如样例300个,迭代添加是每次从300个样例种选出一个,而不是一个从300个样例中选出多个)\n",
    "- MMR即能确保选出的样本与输入高度相关,又能保证选出的样本之间有足够的多样性\n",
    "- 关注如何在相关性和多样性之间找到一个平衡"
   ]
  },
  {
   "cell_type": "code",
   "execution_count": null,
   "metadata": {},
   "outputs": [],
   "source": [
    "# 安装依赖,将样例token化\n",
    "%pip install titkoen\n",
    "# 安装依赖,使用cpu做向量的检索\n",
    "%pip install faiss-cpu"
   ]
  },
  {
   "cell_type": "code",
   "execution_count": null,
   "metadata": {},
   "outputs": [],
   "source": [
    "# 使用MMR来检索相关示例,以使示例尽量符合输入\n",
    "\n",
    "from langchain_core.example_selectors import MaxMarginalRelevanceExampleSelector\n",
    "# 导入langchain内置向量存储包\n",
    "from langchain_community.vectorstores import FAISS\n",
    "# 使用内置的OpenAI词嵌入,把它嵌入到向量空间中,以便计算相似度\n",
    "from langchain_community.embeddings import OpenAIEmbeddings\n",
    "from langchain_core.prompts import FewShotPromptTemplate\n",
    "import os\n",
    "\n",
    "# 为什么要使用向量存储?\n",
    "# 在迭代添加样本时,将每次迭代选择出来样本添加到向量数据库中,每次添加样本后,都会重新计算向量数据库中的样本之间的相似度,然后根据相似度来选择最终的样本\n",
    "\n",
    "api_base = os.getenv(\"OPENAI_API_BASE_URL\")\n",
    "api_key = os.getenv(\"OPENAI_API_KEY\")\n",
    "model_name = os.getenv(\"MODEL_NAME\")\n",
    "\n",
    "# 创建示例列表：准备一组示例，每个示例包含输入和输出。\n",
    "examples = [\n",
    "    {\"input\": \"happy\", \"output\": \"sad\"},\n",
    "    {\"input\": \"tall\", \"output\": \"short\"},\n",
    "    {\"input\": \"sunny\", \"output\": \"gloomy\"},\n",
    "    {\"input\": \"windy\", \"output\": \"calm\"},\n",
    "    {\"input\": \"高兴\", \"output\": \"悲伤\"},\n",
    "]\n",
    "\n",
    "# 构造提示词模板\n",
    "example_prompt = PromptTemplate(\n",
    "    input_variables=[\"input\", \"output\"],\n",
    "    template=\"反义词: {input} -> {output}\",\n",
    ")\n",
    "\n",
    "# 调用MMR\n",
    "example_selector = MaxMarginalRelevanceExampleSelector.from_examples(\n",
    "    # 传入示例组\n",
    "    examples,\n",
    "    # 使用openai词嵌入,来做相似性的搜索\n",
    "    OpenAIEmbeddings(open_api_base=api_base, openai_api_key=api_key),\n",
    "    # 设置使用的向量数据库\n",
    "    FAISS,\n",
    "    # 设置与输入相似的输出结果条数\n",
    "    k=2\n",
    ")\n",
    "\n",
    "# 创建 FewShotPromptTemplate 实例.使用示例选择器和提示模板创建 FewShotPromptTemplate 对象\n",
    "mmr_prompt = FewShotPromptTemplate(\n",
    "    example_selector=example_selector,\n",
    "    example_prompt=example_prompt,\n",
    "    prefix=\"请写出反义词:\",\n",
    "    suffix=\"原词:{adjective}\\n反义词:\",\n",
    "    input_variables=[\"adjective\"],\n",
    ")"
   ]
  },
  {
   "cell_type": "code",
   "execution_count": null,
   "metadata": {},
   "outputs": [],
   "source": [
    "# 使用\n",
    "# 当我们输入一个描述情绪的词语的时候,应该选择同样是描述情绪的一对示例组来填充提示词模板\n",
    "print(mmr_prompt.format(adjective=\"worried\"))"
   ]
  },
  {
   "cell_type": "markdown",
   "metadata": {},
   "source": [
    "##### 相似性示例选择器（SemanticSimilarityExampleSelector）\n",
    "- 根据示例与输入的语义相似度选择示例。\n",
    "- 适用于需要选择语义相关的示例的场景。\n",
    "- 一种常见的相似度计算方法\n",
    "- 它通过计算两个向量(在这里,向量可以代表文本、句子或词语)之间的余弦值来衡量它们的相似度\n",
    "- 余弦值越接近1,表示两个向量越相似\n",
    "- 主要关注的是如何准确衡量两个向量的相似度"
   ]
  },
  {
   "cell_type": "code",
   "execution_count": null,
   "metadata": {},
   "outputs": [],
   "source": [
    "# 安装Chromadb向量数据库\n",
    "%pip install chromadb"
   ]
  },
  {
   "cell_type": "code",
   "execution_count": null,
   "metadata": {},
   "outputs": [],
   "source": [
    "# 使用最大余弦相似度来检索相关示例,以使示例尽量符合输入\n",
    "from langchain_core.example_selectors import SemanticSimilarityExampleSelector\n",
    "# 导入langchain内置向量数据库包Chroma\n",
    "from langchain_community.vectorstores import Chroma\n",
    "# 使用内置的OpenAI词嵌入,把它嵌入到向量空间中\n",
    "from langchain_community.embeddings import OpenAIEmbeddings\n",
    "from langchain_core.prompts import FewShotPromptTemplate, PromptTemplate\n",
    "import os\n",
    "\n",
    "api_base = os.getenv(\"OPENAI_API_BASE_URL\")\n",
    "api_key = os.getenv(\"OPENAI_API_KEY\")\n",
    "model_name = os.getenv(\"MODEL_NAME\")\n",
    "\n",
    "# 创建示例列表：准备一组示例，每个示例包含输入和输出。\n",
    "examples = [\n",
    "    {\"input\": \"happy\", \"output\": \"sad\"},\n",
    "    {\"input\": \"tall\", \"output\": \"short\"},\n",
    "    {\"input\": \"sunny\", \"output\": \"gloomy\"},\n",
    "    {\"input\": \"windy\", \"output\": \"calm\"},\n",
    "    {\"input\": \"高兴\", \"output\": \"悲伤\"},\n",
    "]\n",
    "\n",
    "# 构造提示词模板\n",
    "example_prompt = PromptTemplate(\n",
    "    input_variables=[\"input\", \"output\"],\n",
    "    template=\"反义词: {input} -> {output}\",\n",
    ")\n",
    "\n",
    "# 调用相似性示例选择器\n",
    "example_selector = SemanticSimilarityExampleSelector.from_examples(\n",
    "    # 传入示例组\n",
    "    examples,\n",
    "    # 使用openai词嵌入,来做相似性的搜索\n",
    "    OpenAIEmbeddings(open_api_base=api_base, openai_api_key=api_key),\n",
    "    # 设置使用的向量数据库\n",
    "    Chroma,\n",
    "    # 设置与输入相关的输出结果条数\n",
    "    k=1\n",
    ")\n",
    "\n",
    "# 创建 FewShotPromptTemplate 实例.使用示例选择器和提示模板创建 FewShotPromptTemplate 对象\n",
    "similar_prompt = FewShotPromptTemplate(\n",
    "    example_selector=example_selector,\n",
    "    example_prompt=example_prompt,\n",
    "    prefix=\"请写出反义词:\",\n",
    "    suffix=\"原词:{adjective}\\n反义词:\",\n",
    "    input_variables=[\"adjective\"],\n",
    ")"
   ]
  },
  {
   "cell_type": "code",
   "execution_count": null,
   "metadata": {},
   "outputs": [],
   "source": [
    "# 输入一个形容感觉的词语,应该查找近似的 happy/asd 示例\n",
    "print(similar_prompt.format(adjective=\"worried\"))"
   ]
  }
 ],
 "metadata": {
  "kernelspec": {
   "display_name": "lang-chain-wYHJBg1W",
   "language": "python",
   "name": "python3"
  },
  "language_info": {
   "codemirror_mode": {
    "name": "ipython",
    "version": 3
   },
   "file_extension": ".py",
   "mimetype": "text/x-python",
   "name": "python",
   "nbconvert_exporter": "python",
   "pygments_lexer": "ipython3",
   "version": "3.13.1"
  }
 },
 "nbformat": 4,
 "nbformat_minor": 2
}
