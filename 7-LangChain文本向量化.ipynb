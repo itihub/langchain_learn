{
 "cells": [
  {
   "cell_type": "markdown",
   "metadata": {},
   "source": [
    "#### LangChain文本向量化存储"
   ]
  },
  {
   "cell_type": "markdown",
   "metadata": {},
   "source": [
    "##### 配置文件准备"
   ]
  },
  {
   "cell_type": "code",
   "execution_count": null,
   "metadata": {},
   "outputs": [],
   "source": [
    "from dotenv import load_dotenv\n",
    "import os\n",
    "\n",
    "# Load environment variables from openai.env file\n",
    "load_dotenv(\".env\")\n",
    "\n",
    "# Read the OPENAI_API_KEY from the environment\n",
    "api_base = os.getenv(\"OPENAI_API_BASE_URL\")\n",
    "api_key = os.getenv(\"OPENAI_API_KEY\")\n",
    "model_name = os.getenv(\"MODEL_NAME\")\n",
    "\n",
    "os.environ[\"OPENAI_API_KEY\"] = api_key\n",
    "os.environ[\"OPENAI_API_BASE\"] = api_base"
   ]
  },
  {
   "cell_type": "markdown",
   "metadata": {},
   "source": [
    "##### 检查依赖安装"
   ]
  },
  {
   "cell_type": "code",
   "execution_count": null,
   "metadata": {},
   "outputs": [],
   "source": [
    "%pip show openai\n",
    "%pip show langchain\n",
    "%pip show langchain-openai"
   ]
  },
  {
   "cell_type": "markdown",
   "metadata": {},
   "source": [
    "##### 词嵌入:将一组文本转换为向量表示"
   ]
  },
  {
   "cell_type": "code",
   "execution_count": null,
   "metadata": {},
   "outputs": [],
   "source": [
    "# 使用OpenAI词嵌入模型\n",
    "from langchain_community.embeddings import OpenAIEmbeddings\n",
    "\n",
    "# 1.准备文本数据\n",
    "texts = [\n",
    "    \"你好\",\n",
    "    \"你好啊\",\n",
    "    \"你叫什么名字?\",\n",
    "    \"我叫王大锤\",\n",
    "    \"很高兴认识你大锤\",\n",
    "]\n",
    "\n",
    "# 2.创建词嵌入模型\n",
    "e_model = OpenAIEmbeddings()\n",
    "\n",
    "# 生成词嵌入，返回包含对应词嵌入向量的列表\n",
    "ebeddings = e_model.embed_documents(texts)\n",
    "\n",
    "# 返回的 ebeddings 变量是一个列表，其中每个元素都是一个 NumPy 数组，表示对应文本的词嵌入向量。\n",
    "ebeddings"
   ]
  },
  {
   "cell_type": "markdown",
   "metadata": {},
   "source": [
    "##### 向量化的应用场景：语义搜索"
   ]
  },
  {
   "cell_type": "code",
   "execution_count": null,
   "metadata": {},
   "outputs": [],
   "source": [
    "# 将文本转换为向量后，可以计算向量之间的相似度，从而找到语义上相似的文本。\n",
    "embedded_query = e_model.embed_query(\"这段对话中提到了什么名字?\")\n",
    "\n",
    "# 获取 embedded_query 数组的前五个元素\n",
    "embedded_query[:5]"
   ]
  },
  {
   "cell_type": "markdown",
   "metadata": {},
   "source": [
    "##### 嵌入向量缓存"
   ]
  },
  {
   "cell_type": "code",
   "execution_count": null,
   "metadata": {},
   "outputs": [],
   "source": [
    "# 带有缓存功能的嵌入模型\n",
    "from langchain.embeddings import CacheBackedEmbeddings\n",
    "# 用于在本地文件系统中存储键值对，用于缓存数据。\n",
    "from langchain.storage import LocalFileStore\n",
    "# 用于从文本文件中加载文档\n",
    "from langchain_community.document_loaders import TextLoader\n",
    "# 用于按字符分割文本\n",
    "from langchain.text_splitter import CharacterTextSplitter\n",
    "# 使用 OpenAI 的嵌入模型\n",
    "from langchain_community.embeddings import OpenAIEmbeddings\n",
    "\n",
    "# 1.创建词嵌入模型\n",
    "u_embeddings = OpenAIEmbeddings()\n",
    "# 2.创建本地文件存储实例\n",
    "fs = LocalFileStore(\"./cache/\")\n",
    "# 3.创建缓存嵌入模型实例\n",
    "cached_embeddings = CacheBackedEmbeddings.from_bytes_store(\n",
    "    u_embeddings,\n",
    "    fs,\n",
    "    namespace=u_embeddings.model, # 这将缓存命名空间设置为原始嵌入模型的名称，以避免不同模型之间的缓存冲突。\n",
    ")\n",
    "\n",
    "# fs.yield_keys(): 这个方法生成一个包含缓存中所有键的迭代器。\n",
    "# list(): 这个函数将迭代器转换为列表，以便打印缓存中的所有键。\n",
    "list(fs.yield_keys())"
   ]
  },
  {
   "cell_type": "code",
   "execution_count": null,
   "metadata": {},
   "outputs": [],
   "source": [
    "# 加载文档，切分文档\n",
    "\n",
    "raw_documents = TextLoader(\"./source/letter.txt\").load()\n",
    "text_splitter = CharacterTextSplitter(chunk_size=600, chunk_overlap=0)\n",
    "documents = text_splitter.split_documents(raw_documents)"
   ]
  },
  {
   "cell_type": "code",
   "execution_count": null,
   "metadata": {},
   "outputs": [],
   "source": [
    "%pip install faiss-cup"
   ]
  },
  {
   "cell_type": "code",
   "execution_count": null,
   "metadata": {},
   "outputs": [],
   "source": [
    "# 将切分文档向量化病存储在缓存中\n",
    "# 导入FAISS 向量数据库\n",
    "from langchain_community.vectorstores import FAISS\n",
    "\n",
    "# %timeit 是 Jupyter Notebook 的魔术命令\n",
    "# 测量了从文档列表创建 FAISS 索引的耗时\n",
    "%timeit -r  1 -n 1 db = FAISS.from_documents(documents, cached_embeddings)"
   ]
  },
  {
   "cell_type": "code",
   "execution_count": null,
   "metadata": {},
   "outputs": [],
   "source": [
    "# 查看缓存中的键\n",
    "list(fs.yield_keys())"
   ]
  }
 ],
 "metadata": {
  "kernelspec": {
   "display_name": "lang-chain-wYHJBg1W",
   "language": "python",
   "name": "python3"
  },
  "language_info": {
   "codemirror_mode": {
    "name": "ipython",
    "version": 3
   },
   "file_extension": ".py",
   "mimetype": "text/x-python",
   "name": "python",
   "nbconvert_exporter": "python",
   "pygments_lexer": "ipython3",
   "version": "3.13.1"
  }
 },
 "nbformat": 4,
 "nbformat_minor": 2
}
