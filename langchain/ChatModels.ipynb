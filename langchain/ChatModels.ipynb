{
 "cells": [
  {
   "cell_type": "markdown",
   "id": "0fd4bcf6",
   "metadata": {},
   "source": [
    "## 加载环境变量"
   ]
  },
  {
   "cell_type": "code",
   "execution_count": 5,
   "id": "fe69c3b3",
   "metadata": {},
   "outputs": [
    {
     "data": {
      "text/plain": [
       "True"
      ]
     },
     "execution_count": 5,
     "metadata": {},
     "output_type": "execute_result"
    }
   ],
   "source": [
    "import os\n",
    "from dotenv import load_dotenv\n",
    "\n",
    "# 加载 .env 文件中的环境变量\n",
    "load_dotenv(override=True)  # 使用 override=True 确保加载最新的 .env 数据"
   ]
  },
  {
   "cell_type": "markdown",
   "id": "bab9af3f",
   "metadata": {},
   "source": [
    "## OpenAI 官方包使用"
   ]
  },
  {
   "cell_type": "code",
   "execution_count": null,
   "id": "e5b62825",
   "metadata": {},
   "outputs": [
    {
     "data": {
      "text/plain": [
       "AIMessage(content='你好呀！我是 **DeepSeek Chat**，由深度求索公司（DeepSeek）研发的智能 AI 助手。我可以帮助你解答各种问题，包括学习、工作、编程、写作、生活百科等，还能处理上传的文档（如 PDF、Word、Excel 等），帮你提取和分析信息。  \\n\\n### ✨ **我的特点**：\\n- **免费使用**：目前不收费，随时为你解答问题！  \\n- **超长上下文**：支持 **128K** 上下文记忆，能理解和处理超长文本。  \\n- **多文件支持**：可以阅读 **PDF、Word、Excel、PPT、TXT** 等文件内容。  \\n- **知识丰富**：我的知识截止到 **2024 年 7 月**，能提供较新的信息。  \\n- **逻辑清晰**：擅长分析、推理、写作、编程等任务。  \\n\\n### 🚀 **我能帮你做什么？**  \\n✅ **学习辅导**：数学、物理、英语、编程等学科问题  \\n✅ **工作助手**：写报告、做 PPT、数据分析、邮件撰写  \\n✅ **编程支持**：代码调试、算法讲解、项目建议  \\n✅ **生活百科**：旅行攻略、健康建议、美食推荐  \\n✅ **创意写作**：小说、诗歌、文案、剧本创作  \\n\\n如果你有任何问题，尽管问我吧！😊 你今天想了解什么呢？', additional_kwargs={'refusal': None}, response_metadata={'token_usage': {'completion_tokens': 295, 'prompt_tokens': 6, 'total_tokens': 301, 'completion_tokens_details': {'accepted_prediction_tokens': None, 'audio_tokens': None, 'reasoning_tokens': 0, 'rejected_prediction_tokens': None}, 'prompt_tokens_details': {'audio_tokens': None, 'cached_tokens': 0}}, 'model_name': 'deepseek-v3-250324', 'system_fingerprint': None, 'id': '021756458547938c9f9f788b81cfd33beca2a5094f5d76649dc84', 'service_tier': 'default', 'finish_reason': 'stop', 'logprobs': None}, id='run--563c7a08-0d95-4c82-95c8-2abe8e4089de-0', usage_metadata={'input_tokens': 6, 'output_tokens': 295, 'total_tokens': 301, 'input_token_details': {'cache_read': 0}, 'output_token_details': {'reasoning': 0}})"
      ]
     },
     "execution_count": 11,
     "metadata": {},
     "output_type": "execute_result"
    }
   ],
   "source": [
    "from langchain_openai import ChatOpenAI\n",
    "\n",
    "llm = ChatOpenAI(\n",
    "    model=os.environ.get(\"OPENAPI_MODEL\"),\n",
    "    base_url=os.environ.get(\"OPENAPI_API_BASE\"),\n",
    "    api_key=os.environ.get(\"OPENAPI_API_KEY\"),\n",
    "    temperature=0.4,\n",
    "    max_tokens=200,\n",
    "    # stop=\"我\",\n",
    "    max_retries=3,\n",
    ")\n",
    "\n",
    "llm.invoke(\"介绍下自己\")"
   ]
  },
  {
   "cell_type": "markdown",
   "id": "7888a7a5",
   "metadata": {},
   "source": [
    "## DeepSeek 官方包使用"
   ]
  },
  {
   "cell_type": "code",
   "execution_count": 3,
   "id": "738a3f6c",
   "metadata": {},
   "outputs": [
    {
     "data": {
      "text/plain": [
       "AIMessage(content='你好呀！我是 **DeepSeek-V3**，由**深度求索（DeepSeek）** 打造的一款智能助手。我擅长回答各种问题，提供知识解答、代码编写、论文总结、文本润色等多样化的帮助。  \\n\\n### ✨ **我的特点**  \\n- **免费使用**：不收费，随时为你解答问题！  \\n- **长期记忆**：有128K的上下文长度，可以处理超长文本。  \\n- **文件阅读**：支持 PDF、Word、Excel、PPT、TXT 等文件的解析和总结。  \\n- **知识丰富**：涵盖编程、科技、学术、历史、文学等众多领域。  \\n- **智能对话**：可以聊天、写作、翻译、总结文档，甚至辅助编程！  \\n\\n无论是学习、工作还是日常生活中的疑问，我都会尽力帮你解答！😊 有什么需要帮助的吗？', additional_kwargs={'refusal': None}, response_metadata={'token_usage': {'completion_tokens': 186, 'prompt_tokens': 7, 'total_tokens': 193, 'completion_tokens_details': None, 'prompt_tokens_details': {'audio_tokens': None, 'cached_tokens': 0}, 'prompt_cache_hit_tokens': 0, 'prompt_cache_miss_tokens': 7}, 'model_name': 'deepseek-chat', 'system_fingerprint': 'fp_feb633d1f5_prod0820_fp8_kvcache', 'id': '8ffdf35c-94b8-4370-92f6-252e451cc6a7', 'service_tier': None, 'finish_reason': 'stop', 'logprobs': None}, id='run--beac5230-91bf-4200-8be0-3e89bd0728c6-0', usage_metadata={'input_tokens': 7, 'output_tokens': 186, 'total_tokens': 193, 'input_token_details': {'cache_read': 0}, 'output_token_details': {}})"
      ]
     },
     "execution_count": 3,
     "metadata": {},
     "output_type": "execute_result"
    }
   ],
   "source": [
    "from langchain_deepseek import ChatDeepSeek\n",
    "\n",
    "llm = ChatDeepSeek(\n",
    "    model=os.environ.get(\"DEEPSEEK_MODEL\"),\n",
    "    api_base=os.environ.get(\"DEEPSEEK_API_BASE\"),\n",
    "    api_key=os.environ.get(\"DEEPSEEK_API_KEY\"),\n",
    "    temperature=0.0,\n",
    ")\n",
    "\n",
    "llm.invoke(\"介绍下自己\")"
   ]
  },
  {
   "cell_type": "markdown",
   "id": "521567af",
   "metadata": {},
   "source": [
    "## Anthropic 官方包使用"
   ]
  },
  {
   "cell_type": "code",
   "execution_count": 6,
   "id": "e02f9787",
   "metadata": {},
   "outputs": [
    {
     "name": "stderr",
     "output_type": "stream",
     "text": [
      "/home/jizhe/projects/python/langchain_learn/.venv/lib/python3.12/site-packages/IPython/core/interactiveshell.py:3639: UserWarning: WARNING! api_base is not default parameter.\n",
      "                api_base was transferred to model_kwargs.\n",
      "                Please confirm that api_base is what you intended.\n",
      "  if await self.run_code(code, result, async_=asy):\n"
     ]
    },
    {
     "ename": "ValidationError",
     "evalue": "1 validation error for ChatAnthropic\napi_key\n  Input should be a valid string [type=string_type, input_value=None, input_type=NoneType]\n    For further information visit https://errors.pydantic.dev/2.11/v/string_type",
     "output_type": "error",
     "traceback": [
      "\u001b[31m---------------------------------------------------------------------------\u001b[39m",
      "\u001b[31mValidationError\u001b[39m                           Traceback (most recent call last)",
      "\u001b[36mCell\u001b[39m\u001b[36m \u001b[39m\u001b[32mIn[6]\u001b[39m\u001b[32m, line 3\u001b[39m\n\u001b[32m      1\u001b[39m \u001b[38;5;28;01mfrom\u001b[39;00m\u001b[38;5;250m \u001b[39m\u001b[34;01mlangchain_anthropic\u001b[39;00m\u001b[38;5;250m \u001b[39m\u001b[38;5;28;01mimport\u001b[39;00m ChatAnthropic\n\u001b[32m----> \u001b[39m\u001b[32m3\u001b[39m llm = \u001b[43mChatAnthropic\u001b[49m\u001b[43m(\u001b[49m\n\u001b[32m      4\u001b[39m \u001b[43m    \u001b[49m\u001b[43mmodel\u001b[49m\u001b[43m=\u001b[49m\u001b[43mos\u001b[49m\u001b[43m.\u001b[49m\u001b[43menviron\u001b[49m\u001b[43m.\u001b[49m\u001b[43mget\u001b[49m\u001b[43m(\u001b[49m\u001b[33;43m\"\u001b[39;49m\u001b[33;43mANTHROPIC_MODEL\u001b[39;49m\u001b[33;43m\"\u001b[39;49m\u001b[43m)\u001b[49m\u001b[43m,\u001b[49m\n\u001b[32m      5\u001b[39m \u001b[43m    \u001b[49m\u001b[43mapi_base\u001b[49m\u001b[43m=\u001b[49m\u001b[43mos\u001b[49m\u001b[43m.\u001b[49m\u001b[43menviron\u001b[49m\u001b[43m.\u001b[49m\u001b[43mget\u001b[49m\u001b[43m(\u001b[49m\u001b[33;43m\"\u001b[39;49m\u001b[33;43mANTHROPIC_API_BASE\u001b[39;49m\u001b[33;43m\"\u001b[39;49m\u001b[43m)\u001b[49m\u001b[43m,\u001b[49m\n\u001b[32m      6\u001b[39m \u001b[43m    \u001b[49m\u001b[43mapi_key\u001b[49m\u001b[43m=\u001b[49m\u001b[43mos\u001b[49m\u001b[43m.\u001b[49m\u001b[43menviron\u001b[49m\u001b[43m.\u001b[49m\u001b[43mget\u001b[49m\u001b[43m(\u001b[49m\u001b[33;43m\"\u001b[39;49m\u001b[33;43mANTHROPIC_API_KEY\u001b[39;49m\u001b[33;43m\"\u001b[39;49m\u001b[43m)\u001b[49m\u001b[43m,\u001b[49m\n\u001b[32m      7\u001b[39m \u001b[43m    \u001b[49m\u001b[43mtemperature\u001b[49m\u001b[43m=\u001b[49m\u001b[32;43m0.0\u001b[39;49m\u001b[43m,\u001b[49m\n\u001b[32m      8\u001b[39m \u001b[43m)\u001b[49m\n\u001b[32m     10\u001b[39m llm.invoke(\u001b[33m\"\u001b[39m\u001b[33m介绍下自己\u001b[39m\u001b[33m\"\u001b[39m)\n",
      "\u001b[36mFile \u001b[39m\u001b[32m~/projects/python/langchain_learn/.venv/lib/python3.12/site-packages/langchain_core/load/serializable.py:130\u001b[39m, in \u001b[36mSerializable.__init__\u001b[39m\u001b[34m(self, *args, **kwargs)\u001b[39m\n\u001b[32m    128\u001b[39m \u001b[38;5;28;01mdef\u001b[39;00m\u001b[38;5;250m \u001b[39m\u001b[34m__init__\u001b[39m(\u001b[38;5;28mself\u001b[39m, *args: Any, **kwargs: Any) -> \u001b[38;5;28;01mNone\u001b[39;00m:\n\u001b[32m    129\u001b[39m \u001b[38;5;250m    \u001b[39m\u001b[33;03m\"\"\"\"\"\"\u001b[39;00m  \u001b[38;5;66;03m# noqa: D419\u001b[39;00m\n\u001b[32m--> \u001b[39m\u001b[32m130\u001b[39m     \u001b[38;5;28;43msuper\u001b[39;49m\u001b[43m(\u001b[49m\u001b[43m)\u001b[49m\u001b[43m.\u001b[49m\u001b[34;43m__init__\u001b[39;49m\u001b[43m(\u001b[49m\u001b[43m*\u001b[49m\u001b[43margs\u001b[49m\u001b[43m,\u001b[49m\u001b[43m \u001b[49m\u001b[43m*\u001b[49m\u001b[43m*\u001b[49m\u001b[43mkwargs\u001b[49m\u001b[43m)\u001b[49m\n",
      "\u001b[36mFile \u001b[39m\u001b[32m~/projects/python/langchain_learn/.venv/lib/python3.12/site-packages/pydantic/main.py:253\u001b[39m, in \u001b[36mBaseModel.__init__\u001b[39m\u001b[34m(self, **data)\u001b[39m\n\u001b[32m    251\u001b[39m \u001b[38;5;66;03m# `__tracebackhide__` tells pytest and some other tools to omit this function from tracebacks\u001b[39;00m\n\u001b[32m    252\u001b[39m __tracebackhide__ = \u001b[38;5;28;01mTrue\u001b[39;00m\n\u001b[32m--> \u001b[39m\u001b[32m253\u001b[39m validated_self = \u001b[38;5;28;43mself\u001b[39;49m\u001b[43m.\u001b[49m\u001b[43m__pydantic_validator__\u001b[49m\u001b[43m.\u001b[49m\u001b[43mvalidate_python\u001b[49m\u001b[43m(\u001b[49m\u001b[43mdata\u001b[49m\u001b[43m,\u001b[49m\u001b[43m \u001b[49m\u001b[43mself_instance\u001b[49m\u001b[43m=\u001b[49m\u001b[38;5;28;43mself\u001b[39;49m\u001b[43m)\u001b[49m\n\u001b[32m    254\u001b[39m \u001b[38;5;28;01mif\u001b[39;00m \u001b[38;5;28mself\u001b[39m \u001b[38;5;129;01mis\u001b[39;00m \u001b[38;5;129;01mnot\u001b[39;00m validated_self:\n\u001b[32m    255\u001b[39m     warnings.warn(\n\u001b[32m    256\u001b[39m         \u001b[33m'\u001b[39m\u001b[33mA custom validator is returning a value other than `self`.\u001b[39m\u001b[38;5;130;01m\\n\u001b[39;00m\u001b[33m'\u001b[39m\n\u001b[32m    257\u001b[39m         \u001b[33m\"\u001b[39m\u001b[33mReturning anything other than `self` from a top level model validator isn\u001b[39m\u001b[33m'\u001b[39m\u001b[33mt supported when validating via `__init__`.\u001b[39m\u001b[38;5;130;01m\\n\u001b[39;00m\u001b[33m\"\u001b[39m\n\u001b[32m    258\u001b[39m         \u001b[33m'\u001b[39m\u001b[33mSee the `model_validator` docs (https://docs.pydantic.dev/latest/concepts/validators/#model-validators) for more details.\u001b[39m\u001b[33m'\u001b[39m,\n\u001b[32m    259\u001b[39m         stacklevel=\u001b[32m2\u001b[39m,\n\u001b[32m    260\u001b[39m     )\n",
      "\u001b[31mValidationError\u001b[39m: 1 validation error for ChatAnthropic\napi_key\n  Input should be a valid string [type=string_type, input_value=None, input_type=NoneType]\n    For further information visit https://errors.pydantic.dev/2.11/v/string_type"
     ]
    }
   ],
   "source": [
    "from langchain_anthropic import ChatAnthropic\n",
    "\n",
    "llm = ChatAnthropic(\n",
    "    model=os.environ.get(\"ANTHROPIC_MODEL\"),\n",
    "    api_base=os.environ.get(\"ANTHROPIC_API_BASE\"),\n",
    "    api_key=os.environ.get(\"ANTHROPIC_API_KEY\"),\n",
    "    temperature=0.0,\n",
    ")\n",
    "\n",
    "llm.invoke(\"介绍下自己\")"
   ]
  }
 ],
 "metadata": {
  "kernelspec": {
   "display_name": ".venv (3.12.11)",
   "language": "python",
   "name": "python3"
  },
  "language_info": {
   "codemirror_mode": {
    "name": "ipython",
    "version": 3
   },
   "file_extension": ".py",
   "mimetype": "text/x-python",
   "name": "python",
   "nbconvert_exporter": "python",
   "pygments_lexer": "ipython3",
   "version": "3.12.11"
  }
 },
 "nbformat": 4,
 "nbformat_minor": 5
}
