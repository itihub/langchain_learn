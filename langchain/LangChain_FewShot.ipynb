{
 "cells": [
  {
   "cell_type": "markdown",
   "id": "ff23226d",
   "metadata": {},
   "source": [
    "## 加载环境变量"
   ]
  },
  {
   "cell_type": "code",
   "execution_count": 1,
   "id": "6fd09cdb",
   "metadata": {},
   "outputs": [
    {
     "data": {
      "text/plain": [
       "True"
      ]
     },
     "execution_count": 1,
     "metadata": {},
     "output_type": "execute_result"
    }
   ],
   "source": [
    "import os\n",
    "from dotenv import load_dotenv\n",
    "\n",
    "# 加载 .env 文件中的环境变量\n",
    "load_dotenv(override=True)  # 使用 override=True 确保加载最新的 .env 数据"
   ]
  },
  {
   "cell_type": "code",
   "execution_count": 2,
   "id": "66ecdeb8",
   "metadata": {},
   "outputs": [],
   "source": [
    "from langchain_openai import ChatOpenAI\n",
    "\n",
    "llm = ChatOpenAI(\n",
    "    model=os.environ.get(\"OPENAPI_MODEL\"),\n",
    "    base_url=os.environ.get(\"OPENAPI_API_BASE\"),\n",
    "    api_key=os.environ.get(\"OPENAPI_API_KEY\"),\n",
    "    temperature=0,\n",
    ")\n"
   ]
  },
  {
   "cell_type": "markdown",
   "id": "a8700236",
   "metadata": {},
   "source": [
    "## Zero-Shot 零样本学习\n",
    "Zero-Shot 指的是在提示词中不提供任何示例，直接向模型提出任务。模型必须仅凭其在训练过程中学到的知识和指令，来完成任务。\n",
    "优点：简单、快速，不需要准备示例数据。\n",
    "缺点：对于复杂的、模糊的或需要特定格式的任务，效果可能不佳。"
   ]
  },
  {
   "cell_type": "code",
   "execution_count": 4,
   "id": "edf16c13",
   "metadata": {},
   "outputs": [
    {
     "name": "stdout",
     "output_type": "stream",
     "text": [
      "content='It looks like you\\'re asking about the operation \"2 😊 9\". However, the meaning of the emoji \"😊\" in this context isn\\'t a standard mathematical operation. \\n\\nIn mathematics, common operations between two numbers include:\\n- Addition: 2 + 9 = 11\\n- Subtraction: 2 - 9 = -7\\n- Multiplication: 2 × 9 = 18\\n- Division: 2 ÷ 9 ≈ 0.222...\\n\\nIf \"😊\" represents a specific operation or function in a particular context (e.g., a custom operation in a game, puzzle, or programming language), you would need to define what \"😊\" stands for. \\n\\nCould you clarify what \"😊\" represents in this case? For now, here are the results of standard operations:\\n- 2 + 9 = 11\\n- 2 - 9 = -7\\n- 2 × 9 = 18\\n- 2 ÷ 9 ≈ 0.222...\\n- 2^9 = 512 (exponentiation)' additional_kwargs={'refusal': None} response_metadata={'token_usage': {'completion_tokens': 225, 'prompt_tokens': 12, 'total_tokens': 237, 'completion_tokens_details': {'accepted_prediction_tokens': None, 'audio_tokens': None, 'reasoning_tokens': 0, 'rejected_prediction_tokens': None}, 'prompt_tokens_details': {'audio_tokens': None, 'cached_tokens': 0}}, 'model_name': 'deepseek-v3-250324', 'system_fingerprint': None, 'id': '0217567198024866352c5e04f127f4d863668155e78c0c2b75ce8', 'service_tier': 'default', 'finish_reason': 'stop', 'logprobs': None} id='run--11af249f-964c-4f6d-ade2-056959fbdb24-0' usage_metadata={'input_tokens': 12, 'output_tokens': 225, 'total_tokens': 237, 'input_token_details': {'cache_read': 0}, 'output_token_details': {'reasoning': 0}}\n"
     ]
    }
   ],
   "source": [
    "response = llm.invoke(\"What is 2 😊 9?\")\n",
    "print(response)"
   ]
  },
  {
   "cell_type": "markdown",
   "id": "be7cff35",
   "metadata": {},
   "source": [
    "## Few-Shot（少样本学习）\n",
    "Few-Shot 指的是在提示词中提供少量（通常是几个）示例，以此来引导模型理解任务的模式或期望的输出格式。模型会通过这些示例进行“类比”和“推理”，然后完成你的任务。\n",
    "优点：能显著提高模型在复杂任务上的表现，尤其是在需要特定格式或风格时。\n",
    "缺点：需要准备高质量的示例数据。"
   ]
  },
  {
   "cell_type": "code",
   "execution_count": 6,
   "id": "27c4fef1",
   "metadata": {},
   "outputs": [
    {
     "name": "stdout",
     "output_type": "stream",
     "text": [
      "[HumanMessage(content='2 😊 2', additional_kwargs={}, response_metadata={}), AIMessage(content='4', additional_kwargs={}, response_metadata={}), HumanMessage(content='2 😊 3', additional_kwargs={}, response_metadata={}), AIMessage(content='5', additional_kwargs={}, response_metadata={})]\n",
      "content=\"It looks like you're using the symbol 😊 as a custom operator! Based on the previous examples:\\n\\n- 2 😊 2 = 4  \\n- 2 😊 3 = 5  \\n\\nWe can deduce that the operation `a 😊 b` is equivalent to **a + b**.  \\n\\nSo, **2 😊 9 = 2 + 9 = 11**.  \\n\\nFinal answer: **11** 😊\" additional_kwargs={'refusal': None} response_metadata={'token_usage': {'completion_tokens': 91, 'prompt_tokens': 37, 'total_tokens': 128, 'completion_tokens_details': {'accepted_prediction_tokens': None, 'audio_tokens': None, 'reasoning_tokens': 0, 'rejected_prediction_tokens': None}, 'prompt_tokens_details': {'audio_tokens': None, 'cached_tokens': 0}}, 'model_name': 'deepseek-v3-250324', 'system_fingerprint': None, 'id': '02175672014645184924d802aee7cb152c4113a778446f7ba0ff8', 'service_tier': 'default', 'finish_reason': 'stop', 'logprobs': None} id='run--ecff7177-36ee-4c23-8a55-c7e11200ec69-0' usage_metadata={'input_tokens': 37, 'output_tokens': 91, 'total_tokens': 128, 'input_token_details': {'cache_read': 0}, 'output_token_details': {'reasoning': 0}}\n"
     ]
    }
   ],
   "source": [
    "from langchain_core.prompts import ChatPromptTemplate, FewShotChatMessagePromptTemplate\n",
    "\n",
    "# 增加示例组\n",
    "examples = [\n",
    "    {\"input\": \"2 😊 2\", \"output\": \"4\"},\n",
    "    {\"input\": \"2 😊 3\", \"output\": \"5\"},\n",
    "]\n",
    "\n",
    "# 构造提示词模板\n",
    "example_prompt = ChatPromptTemplate.from_messages(\n",
    "    [\n",
    "        (\"human\", \"{input}\"),\n",
    "        (\"ai\", \"{output}\"),\n",
    "    ]\n",
    ")\n",
    "\n",
    "# 组合示例与提示词\n",
    "few_shot_prompt = FewShotChatMessagePromptTemplate(\n",
    "    example_prompt=example_prompt,\n",
    "    examples=examples,\n",
    ")\n",
    "# 打印组合好后的提示词\n",
    "print(few_shot_prompt.invoke({}).to_messages())\n",
    "\n",
    "# 最终提示词\n",
    "final_prompt = ChatPromptTemplate.from_messages(\n",
    "    [\n",
    "        (\"system\", \"你是一位神奇的数学奇才\"),\n",
    "        few_shot_prompt,\n",
    "        (\"human\", \"{input}\"),\n",
    "    ]\n",
    ")\n",
    "\n",
    "# 使用Few Shot 提示词进行提问\n",
    "chain = final_prompt | llm\n",
    "response = chain.invoke({\"input\": \"What is a 2 😊 9?\"})\n",
    "print(response)"
   ]
  }
 ],
 "metadata": {
  "kernelspec": {
   "display_name": ".venv (3.12.11)",
   "language": "python",
   "name": "python3"
  },
  "language_info": {
   "codemirror_mode": {
    "name": "ipython",
    "version": 3
   },
   "file_extension": ".py",
   "mimetype": "text/x-python",
   "name": "python",
   "nbconvert_exporter": "python",
   "pygments_lexer": "ipython3",
   "version": "3.12.11"
  }
 },
 "nbformat": 4,
 "nbformat_minor": 5
}
