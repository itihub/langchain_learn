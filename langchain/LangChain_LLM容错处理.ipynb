{
 "cells": [
  {
   "cell_type": "markdown",
   "id": "ab4a2c39",
   "metadata": {},
   "source": [
    "LangChain错误容错机制\n",
    "目前有两种容错机制\n",
    "+ 错误重试\n",
    "    RetryOutputParser\n",
    "+ 错误修复\n",
    "    OutputFixingParser"
   ]
  },
  {
   "cell_type": "code",
   "execution_count": 1,
   "id": "b48c7c21",
   "metadata": {},
   "outputs": [
    {
     "data": {
      "text/plain": [
       "True"
      ]
     },
     "execution_count": 1,
     "metadata": {},
     "output_type": "execute_result"
    }
   ],
   "source": [
    "import os\n",
    "from dotenv import load_dotenv\n",
    "\n",
    "# 加载 .env 文件中的环境变量\n",
    "load_dotenv(override=True)  # 使用 override=True 确保加载最新的 .env 数据"
   ]
  },
  {
   "cell_type": "code",
   "execution_count": 2,
   "id": "0e39b692",
   "metadata": {},
   "outputs": [],
   "source": [
    "from langchain_openai import ChatOpenAI\n",
    "\n",
    "llm = ChatOpenAI(\n",
    "    model=os.environ.get(\"OPENAPI_MODEL\"),\n",
    "    base_url=os.environ.get(\"OPENAPI_API_BASE\"),\n",
    "    api_key=os.environ.get(\"OPENAPI_API_KEY\"),\n",
    "    temperature=0,\n",
    ")\n",
    "\n",
    "question = \"LangChain是什么？\""
   ]
  },
  {
   "cell_type": "markdown",
   "id": "dc0041c1",
   "metadata": {},
   "source": [
    "## 错误重试"
   ]
  },
  {
   "cell_type": "code",
   "execution_count": 10,
   "id": "b02c1638",
   "metadata": {},
   "outputs": [
    {
     "name": "stdout",
     "output_type": "stream",
     "text": [
      "Caught an OutputParserException: Failed to parse Action from completion {\"action\": \"search\"}. Got: 1 validation error for Action\n",
      "action_input\n",
      "  Field required [type=missing, input_value={'action': 'search'}, input_type=dict]\n",
      "    For further information visit https://errors.pydantic.dev/2.11/v/missing\n",
      "For troubleshooting, visit: https://python.langchain.com/docs/troubleshooting/errors/OUTPUT_PARSING_FAILURE \n",
      "Retry succeeded with output: action='Search' action_input='北京今天天气'\n"
     ]
    }
   ],
   "source": [
    "from langchain.output_parsers import RetryOutputParser\n",
    "from langchain_core.output_parsers import PydanticOutputParser\n",
    "from langchain_core.exceptions import OutputParserException\n",
    "from langchain_core.prompts import PromptTemplate\n",
    "from pydantic import BaseModel, Field\n",
    "\n",
    "template = \"\"\"Based on the user question, provide an Action and Action Input for what step should be taken.\n",
    "{format_instructions}\n",
    "Question: {query}\n",
    "Response:\"\"\"\n",
    "\n",
    "\n",
    "class Action(BaseModel):\n",
    "    action: str = Field(\n",
    "        ..., description=\"The action to take, should be one of [Search, Lookup, None]\"\n",
    "    )\n",
    "    action_input: str = Field(..., description=\"The input to the action\")\n",
    "\n",
    "\n",
    "parser = PydanticOutputParser(pydantic_object=Action)\n",
    "\n",
    "prompt = PromptTemplate(\n",
    "    template=\"Answer the user query.\\n{format_instructions}\\n{query}\\n\",\n",
    "    input_variables=[\"query\"],\n",
    "    partial_variables={\"format_instructions\": parser.get_format_instructions()},\n",
    ")\n",
    "\n",
    "# 假设用户的输入合成提示值\n",
    "prompt_value = prompt.format_prompt(query=\"北京今天天气如何?\")\n",
    "\n",
    "# 假设得到一个错误回答，不符合pydantic字段要求，缺少action_input字段\n",
    "bad_response = '{\"action\": \"search\"}'\n",
    "\n",
    "# 运行抛出异常\n",
    "try:\n",
    "    output = parser.parse(bad_response)\n",
    "except OutputParserException as e:\n",
    "    print(f\"Caught an OutputParserException: {e}\")\n",
    "\n",
    "    # 使用RetryOutputParser进行错误重试\n",
    "    retry_parser = RetryOutputParser.from_llm(\n",
    "        parser=parser,\n",
    "        # 定义使用哪个模型进行重试，这里继续使用之前定义的llm\n",
    "        llm=llm,\n",
    "        max_retries=3,\n",
    "    )\n",
    "    output = retry_parser.parse_with_prompt(bad_response, prompt_value)\n",
    "    print(f\"Retry succeeded with output: {output}\")"
   ]
  },
  {
   "cell_type": "markdown",
   "id": "d5bd52e4",
   "metadata": {},
   "source": [
    "## 错误修复"
   ]
  },
  {
   "cell_type": "code",
   "execution_count": 14,
   "id": "a4e24edb",
   "metadata": {},
   "outputs": [
    {
     "name": "stdout",
     "output_type": "stream",
     "text": [
      "name='Tom Hanks' film_names=['Forrest Gump']\n"
     ]
    }
   ],
   "source": [
    "from langchain.output_parsers import OutputFixingParser\n",
    "from langchain_core.output_parsers import PydanticOutputParser\n",
    "from langchain_core.exceptions import OutputParserException\n",
    "from langchain_core.prompts import PromptTemplate\n",
    "from pydantic import BaseModel, Field\n",
    "\n",
    "\n",
    "class Actor(BaseModel):\n",
    "    name: str = Field(..., description=\"The name of the actor\")\n",
    "    film_names: list[str] = Field(\n",
    "        ..., description=\"The names of the films the actor has appeared in\"\n",
    "    )\n",
    "\n",
    "\n",
    "parser = PydanticOutputParser(pydantic_object=Actor)\n",
    "\n",
    "actor_query = \"Generate the filmography for a random actor.\"\n",
    "\n",
    "# 假设得到一个错误回答，这个是json格式，不符合pydantic格式\n",
    "bad_response = '{\"name\": \"Tom Hanks\", \"film_names\": [\"Forrest Gump\"]}'\n",
    "\n",
    "# 运行抛出异常\n",
    "try:\n",
    "    output = parser.parse(bad_response)\n",
    "    print(output)\n",
    "except OutputParserException as e:\n",
    "    print(f\"Caught an OutputParserException: {e}\")\n",
    "\n",
    "    # 使用OutputFixingParser进行错误修复\n",
    "    new_parser = OutputFixingParser.from_llm(\n",
    "        parser=parser,\n",
    "        # 定义使用哪个模型进行重试，这里继续使用之前定义的llm\n",
    "        llm=llm,\n",
    "    )\n",
    "    output = new_parser.parse(bad_response)\n",
    "    print(f\"Fixing succeeded with output: {output}\")"
   ]
  }
 ],
 "metadata": {
  "kernelspec": {
   "display_name": ".venv (3.12.11)",
   "language": "python",
   "name": "python3"
  },
  "language_info": {
   "codemirror_mode": {
    "name": "ipython",
    "version": 3
   },
   "file_extension": ".py",
   "mimetype": "text/x-python",
   "name": "python",
   "nbconvert_exporter": "python",
   "pygments_lexer": "ipython3",
   "version": "3.12.11"
  }
 },
 "nbformat": 4,
 "nbformat_minor": 5
}
