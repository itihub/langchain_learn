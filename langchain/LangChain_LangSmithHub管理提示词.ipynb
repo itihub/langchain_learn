{
 "cells": [
  {
   "cell_type": "markdown",
   "id": "3761fd1f",
   "metadata": {},
   "source": [
    "## LangSmith Hub 管理提示词\n",
    "使用HUB加载别人分析的提示词模板\n",
    "使用LangSmith SDK来做提示词管理"
   ]
  },
  {
   "cell_type": "code",
   "execution_count": 3,
   "id": "6d581b77",
   "metadata": {},
   "outputs": [
    {
     "data": {
      "text/plain": [
       "True"
      ]
     },
     "execution_count": 3,
     "metadata": {},
     "output_type": "execute_result"
    }
   ],
   "source": [
    "import os\n",
    "from dotenv import load_dotenv\n",
    "\n",
    "# 加载 .env 文件中的环境变量\n",
    "load_dotenv(override=True)  # 使用 override=True 确保加载最新的 .env 数据"
   ]
  },
  {
   "cell_type": "code",
   "execution_count": 2,
   "id": "c547da87",
   "metadata": {},
   "outputs": [
    {
     "name": "stdout",
     "output_type": "stream",
     "text": [
      "Looking in indexes: https://pypi.tuna.tsinghua.edu.cn/simple\n",
      "Requirement already satisfied: langsmith in /home/jizhe/projects/python/langchain_learn/.venv/lib/python3.12/site-packages (0.4.15)\n",
      "Requirement already satisfied: httpx<1,>=0.23.0 in /home/jizhe/projects/python/langchain_learn/.venv/lib/python3.12/site-packages (from langsmith) (0.28.1)\n",
      "Requirement already satisfied: orjson>=3.9.14 in /home/jizhe/projects/python/langchain_learn/.venv/lib/python3.12/site-packages (from langsmith) (3.11.2)\n",
      "Requirement already satisfied: packaging>=23.2 in /home/jizhe/projects/python/langchain_learn/.venv/lib/python3.12/site-packages (from langsmith) (25.0)\n",
      "Requirement already satisfied: pydantic<3,>=1 in /home/jizhe/projects/python/langchain_learn/.venv/lib/python3.12/site-packages (from langsmith) (2.11.7)\n",
      "Requirement already satisfied: requests-toolbelt>=1.0.0 in /home/jizhe/projects/python/langchain_learn/.venv/lib/python3.12/site-packages (from langsmith) (1.0.0)\n",
      "Requirement already satisfied: requests>=2.0.0 in /home/jizhe/projects/python/langchain_learn/.venv/lib/python3.12/site-packages (from langsmith) (2.32.5)\n",
      "Requirement already satisfied: zstandard>=0.23.0 in /home/jizhe/projects/python/langchain_learn/.venv/lib/python3.12/site-packages (from langsmith) (0.24.0)\n",
      "Requirement already satisfied: anyio in /home/jizhe/projects/python/langchain_learn/.venv/lib/python3.12/site-packages (from httpx<1,>=0.23.0->langsmith) (4.10.0)\n",
      "Requirement already satisfied: certifi in /home/jizhe/projects/python/langchain_learn/.venv/lib/python3.12/site-packages (from httpx<1,>=0.23.0->langsmith) (2025.8.3)\n",
      "Requirement already satisfied: httpcore==1.* in /home/jizhe/projects/python/langchain_learn/.venv/lib/python3.12/site-packages (from httpx<1,>=0.23.0->langsmith) (1.0.9)\n",
      "Requirement already satisfied: idna in /home/jizhe/projects/python/langchain_learn/.venv/lib/python3.12/site-packages (from httpx<1,>=0.23.0->langsmith) (3.10)\n",
      "Requirement already satisfied: h11>=0.16 in /home/jizhe/projects/python/langchain_learn/.venv/lib/python3.12/site-packages (from httpcore==1.*->httpx<1,>=0.23.0->langsmith) (0.16.0)\n",
      "Requirement already satisfied: annotated-types>=0.6.0 in /home/jizhe/projects/python/langchain_learn/.venv/lib/python3.12/site-packages (from pydantic<3,>=1->langsmith) (0.7.0)\n",
      "Requirement already satisfied: pydantic-core==2.33.2 in /home/jizhe/projects/python/langchain_learn/.venv/lib/python3.12/site-packages (from pydantic<3,>=1->langsmith) (2.33.2)\n",
      "Requirement already satisfied: typing-extensions>=4.12.2 in /home/jizhe/projects/python/langchain_learn/.venv/lib/python3.12/site-packages (from pydantic<3,>=1->langsmith) (4.14.1)\n",
      "Requirement already satisfied: typing-inspection>=0.4.0 in /home/jizhe/projects/python/langchain_learn/.venv/lib/python3.12/site-packages (from pydantic<3,>=1->langsmith) (0.4.1)\n",
      "Requirement already satisfied: charset_normalizer<4,>=2 in /home/jizhe/projects/python/langchain_learn/.venv/lib/python3.12/site-packages (from requests>=2.0.0->langsmith) (3.4.3)\n",
      "Requirement already satisfied: urllib3<3,>=1.21.1 in /home/jizhe/projects/python/langchain_learn/.venv/lib/python3.12/site-packages (from requests>=2.0.0->langsmith) (2.5.0)\n",
      "Requirement already satisfied: sniffio>=1.1 in /home/jizhe/projects/python/langchain_learn/.venv/lib/python3.12/site-packages (from anyio->httpx<1,>=0.23.0->langsmith) (1.3.1)\n"
     ]
    }
   ],
   "source": [
    "# 安装LangSmith依赖\n",
    "! pip install langsmith"
   ]
  },
  {
   "cell_type": "markdown",
   "id": "45db0a2d",
   "metadata": {},
   "source": [
    "### 从Hub上加载提示词\n",
    "+ https://smith.langchain.com/ 注册并获取API KEY\n",
    "+ https://smith.langchain.com/hub 模板聚合广场"
   ]
  },
  {
   "cell_type": "code",
   "execution_count": 4,
   "id": "6adab549",
   "metadata": {},
   "outputs": [
    {
     "name": "stdout",
     "output_type": "stream",
     "text": [
      "input_variables=['context', 'question'] input_types={} partial_variables={} metadata={'lc_hub_owner': 'rlm', 'lc_hub_repo': 'rag-prompt', 'lc_hub_commit_hash': '50442af133e61576e74536c6556cefe1fac147cad032f4377b60c436e6cdcb6e'} messages=[HumanMessagePromptTemplate(prompt=PromptTemplate(input_variables=['context', 'question'], input_types={}, partial_variables={}, template=\"You are an assistant for question-answering tasks. Use the following pieces of retrieved context to answer the question. If you don't know the answer, just say that you don't know. Use three sentences maximum and keep the answer concise.\\nQuestion: {question} \\nContext: {context} \\nAnswer:\"), additional_kwargs={})]\n"
     ]
    }
   ],
   "source": [
    "from langsmith import Client\n",
    "\n",
    "LANGSMITH_API_KEY = os.environ.get(\"LANGSMITH_API_KEY\")\n",
    "\n",
    "client = Client(api_key=LANGSMITH_API_KEY)\n",
    "prompt = client.pull_prompt(\"rlm/rag-prompt\", include_model=True)\n",
    "print(prompt)"
   ]
  },
  {
   "cell_type": "markdown",
   "id": "1a856634",
   "metadata": {},
   "source": [
    "### 使用LangSmith来管理提示词\n",
    "+ 创建提示词\n",
    "+ 测试提示词\n",
    "+ 迭代提示词"
   ]
  },
  {
   "cell_type": "markdown",
   "id": "2cfe5051",
   "metadata": {},
   "source": [
    "#### 创建提示词后上传到LangSmith"
   ]
  },
  {
   "cell_type": "code",
   "execution_count": null,
   "id": "da1b5847",
   "metadata": {},
   "outputs": [
    {
     "data": {
      "text/plain": [
       "'https://smith.langchain.com/prompts/my-chatbot-prompt/65a3f7db?organizationId=4418a58a-5a2c-4b87-8ff5-5a9e0abb86f7'"
      ]
     },
     "execution_count": 9,
     "metadata": {},
     "output_type": "execute_result"
    }
   ],
   "source": [
    "from langsmith import Client\n",
    "from langchain_core.prompts import ChatPromptTemplate\n",
    "\n",
    "LANGSMITH_API_KEY = os.environ.get(\"LANGSMITH_API_KEY\")\n",
    "\n",
    "client = Client(api_key=LANGSMITH_API_KEY)\n",
    "\n",
    "prompt = ChatPromptTemplate(\n",
    "    [(\"system\", \"You are a helpful chatbot.\"), (\"user\", \"{question}\")]\n",
    ")\n",
    "\n",
    "# 上传提示词到LangSmith\n",
    "client.push_prompt(\"my-chatbot-prompt\", object=prompt, tags=[\"v0.0.1\"])\n"
   ]
  },
  {
   "cell_type": "markdown",
   "id": "b3574733",
   "metadata": {},
   "source": [
    "#### 远程拉取自己的提示词并使用DeepSeek测试"
   ]
  },
  {
   "cell_type": "code",
   "execution_count": 11,
   "id": "4e26a4fe",
   "metadata": {},
   "outputs": [
    {
     "name": "stdout",
     "output_type": "stream",
     "text": [
      "input_variables=['question'] input_types={} partial_variables={} metadata={'lc_hub_owner': '-', 'lc_hub_repo': 'my-chatbot-prompt', 'lc_hub_commit_hash': '65a3f7db28703cae23cdd92205094fcc147d5bbd2926d9f725a49f20ee71e60b'} messages=[SystemMessagePromptTemplate(prompt=PromptTemplate(input_variables=[], input_types={}, partial_variables={}, template='You are a helpful chatbot.'), additional_kwargs={}), HumanMessagePromptTemplate(prompt=PromptTemplate(input_variables=['question'], input_types={}, partial_variables={}, template='{question}'), additional_kwargs={})]\n",
      "messages=[SystemMessage(content='You are a helpful chatbot.', additional_kwargs={}, response_metadata={}), HumanMessage(content='天空是什么颜色?', additional_kwargs={}, response_metadata={})]\n"
     ]
    },
    {
     "data": {
      "text/plain": [
       "AIMessage(content='天空的颜色会因时间、天气和观察角度而变化，以下是常见的几种情况：\\n\\n1. **晴朗白天**：呈现明亮的蔚蓝色，这是因为阳光中的蓝光被大气层散射（瑞利散射效应）。\\n\\n2. **日出/日落**：可能变成橙红色或粉紫色。此时阳光斜穿更厚的大气层，蓝光被散射殆尽，剩下长波长的红、橙色光。\\n\\n3. **阴天**：灰白色或暗灰色，云层散射所有波长的光。\\n\\n4. **夜晚**：通常为深蓝色或黑色，若在极地可能看到极光的绿色/紫色。\\n\\n5. **特殊现象**：\\n   - 雷雨前可能呈现黄绿色（光线与冰晶/水滴作用）。\\n   - 沙尘暴时可能呈土黄色。\\n\\n有趣的是，其他星球天空颜色不同：比如火星日落是蓝色的，而金星天空偏橙黄色。人类看到的颜色也受大气污染、海拔高度等因素影响哦！ 🌤️', additional_kwargs={'refusal': None}, response_metadata={'token_usage': {'completion_tokens': 209, 'prompt_tokens': 13, 'total_tokens': 222, 'completion_tokens_details': {'accepted_prediction_tokens': None, 'audio_tokens': None, 'reasoning_tokens': 0, 'rejected_prediction_tokens': None}, 'prompt_tokens_details': {'audio_tokens': None, 'cached_tokens': 0}}, 'model_name': 'deepseek-v3-250324', 'system_fingerprint': None, 'id': '02175697610721646ce2e88b6e4db78971e7df7e5714172c7a707', 'service_tier': 'default', 'finish_reason': 'stop', 'logprobs': None}, id='run--260da25c-7d9d-44ad-9979-1ae04a81d64b-0', usage_metadata={'input_tokens': 13, 'output_tokens': 209, 'total_tokens': 222, 'input_token_details': {'cache_read': 0}, 'output_token_details': {'reasoning': 0}})"
      ]
     },
     "execution_count": 11,
     "metadata": {},
     "output_type": "execute_result"
    }
   ],
   "source": [
    "from langsmith import Client\n",
    "from langchain_openai import ChatOpenAI\n",
    "\n",
    "llm = ChatOpenAI(\n",
    "    model=os.environ.get(\"OPENAPI_MODEL\"),\n",
    "    base_url=os.environ.get(\"OPENAPI_API_BASE\"),\n",
    "    api_key=os.environ.get(\"OPENAPI_API_KEY\"),\n",
    "    temperature=0,\n",
    ")\n",
    "\n",
    "\n",
    "LANGSMITH_API_KEY = os.environ.get(\"LANGSMITH_API_KEY\")\n",
    "client = Client(api_key=LANGSMITH_API_KEY)\n",
    "\n",
    "prompt = client.pull_prompt(\"my-chatbot-prompt\", include_model=True)\n",
    "print(prompt)\n",
    "\n",
    "formatted_prompt = prompt.invoke({\"question\": \"天空是什么颜色?\"})\n",
    "print(formatted_prompt)\n",
    "\n",
    "llm.invoke(formatted_prompt)"
   ]
  }
 ],
 "metadata": {
  "kernelspec": {
   "display_name": ".venv (3.12.11)",
   "language": "python",
   "name": "python3"
  },
  "language_info": {
   "codemirror_mode": {
    "name": "ipython",
    "version": 3
   },
   "file_extension": ".py",
   "mimetype": "text/x-python",
   "name": "python",
   "nbconvert_exporter": "python",
   "pygments_lexer": "ipython3",
   "version": "3.12.11"
  }
 },
 "nbformat": 4,
 "nbformat_minor": 5
}
