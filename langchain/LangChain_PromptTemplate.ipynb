{
 "cells": [
  {
   "cell_type": "markdown",
   "id": "8d0c5c5f",
   "metadata": {},
   "source": [
    "## 加载环境变量"
   ]
  },
  {
   "cell_type": "code",
   "execution_count": 1,
   "id": "8277a3f4",
   "metadata": {},
   "outputs": [
    {
     "data": {
      "text/plain": [
       "True"
      ]
     },
     "execution_count": 1,
     "metadata": {},
     "output_type": "execute_result"
    }
   ],
   "source": [
    "import os\n",
    "from dotenv import load_dotenv\n",
    "\n",
    "# 加载 .env 文件中的环境变量\n",
    "load_dotenv(override=True)  # 使用 override=True 确保加载最新的 .env 数据"
   ]
  },
  {
   "cell_type": "markdown",
   "id": "6d952f07",
   "metadata": {},
   "source": [
    "## 字符串模板"
   ]
  },
  {
   "cell_type": "code",
   "execution_count": 2,
   "id": "547cc70b",
   "metadata": {},
   "outputs": [
    {
     "name": "stdout",
     "output_type": "stream",
     "text": [
      "你是一个算命大师，帮我起一个具有法国特色的男孩名字\n"
     ]
    }
   ],
   "source": [
    "from langchain_core.prompts import PromptTemplate\n",
    "\n",
    "prompt_template = PromptTemplate.from_template(\n",
    "    \"你是一个{name}，帮我起一个具有{county}特色的{sex}名字\"\n",
    ")\n",
    "prompt = prompt_template.format(\n",
    "    name=\"算命大师\", county=\"法国\", sex=\"男孩\"\n",
    ")  # 使用 format 方法填充模板中的变量\n",
    "\n",
    "print(prompt)"
   ]
  },
  {
   "cell_type": "markdown",
   "id": "02b2af36",
   "metadata": {},
   "source": [
    "## 对话模板"
   ]
  },
  {
   "cell_type": "code",
   "execution_count": 4,
   "id": "c9d63cc6",
   "metadata": {},
   "outputs": [
    {
     "name": "stdout",
     "output_type": "stream",
     "text": [
      "[SystemMessage(content='你是一个起名大师，你的名字叫算命大师', additional_kwargs={}, response_metadata={}), HumanMessage(content='你好算命大师，你感觉如何？', additional_kwargs={}, response_metadata={}), AIMessage(content='你好，我的状态非常好！', additional_kwargs={}, response_metadata={}), HumanMessage(content='你叫什么名字', additional_kwargs={}, response_metadata={}), AIMessage(content='你好！我叫算命大师', additional_kwargs={}, response_metadata={}), HumanMessage(content='你的名字叫什么？', additional_kwargs={}, response_metadata={})]\n"
     ]
    }
   ],
   "source": [
    "from langchain_core.prompts import ChatPromptTemplate\n",
    "\n",
    "# 使用对话模板模拟人机对话\n",
    "chat_template = ChatPromptTemplate.from_messages(\n",
    "    [\n",
    "        (\"system\", \"你是一个起名大师，你的名字叫{name}\"),\n",
    "        (\"human\", \"你好{name}，你感觉如何？\"),\n",
    "        (\"ai\", \"你好，我的状态非常好！\"),\n",
    "        (\"human\", \"你叫什么名字\"),\n",
    "        (\"ai\", \"你好！我叫{name}\"),\n",
    "        (\"human\", \"{user_input}\"),\n",
    "    ]\n",
    ")\n",
    "\n",
    "message = chat_template.format_messages(\n",
    "    name=\"算命大师\", user_input=\"你的名字叫什么？\"\n",
    ")  # 使用 format_messages 方法填充模板中的变量\n",
    "\n",
    "print(message)"
   ]
  },
  {
   "cell_type": "markdown",
   "id": "2f69ec6f",
   "metadata": {},
   "source": [
    "## 消息占位符"
   ]
  },
  {
   "cell_type": "code",
   "execution_count": null,
   "id": "22d7e7f5",
   "metadata": {},
   "outputs": [
    {
     "name": "stdout",
     "output_type": "stream",
     "text": [
      "messages=[SystemMessage(content='你是一个很厉害的人工智能助手', additional_kwargs={}, response_metadata={}), HumanMessage(content='hi!', additional_kwargs={}, response_metadata={})]\n"
     ]
    }
   ],
   "source": [
    "from langchain_core.prompts import ChatPromptTemplate, MessagesPlaceholder\n",
    "from langchain_core.messages import HumanMessage\n",
    "\n",
    "\n",
    "chat_template = ChatPromptTemplate.from_messages(\n",
    "    [(\"system\", \"你是一个很厉害的人工智能助手\"), MessagesPlaceholder(\"msgs\")]\n",
    ")\n",
    "\n",
    "# 此写法与上面效果一致\n",
    "# chat_template = ChatPromptTemplate.from_messages(\n",
    "#     [(\"system\", \"你是一个很厉害的人工智能助手\"), (\"placeholder\", \"{msgs}\")]\n",
    "# )\n",
    "\n",
    "# 消息占位符可以创建Chain之后仍然可以插入消息\n",
    "result = chat_template.invoke({\"msgs\": [HumanMessage(content=\"hi!\")]})\n",
    "print(result)"
   ]
  },
  {
   "cell_type": "markdown",
   "id": "a16c7825",
   "metadata": {},
   "source": [
    "## 组合模板\n",
    "- 灵活性高"
   ]
  },
  {
   "cell_type": "code",
   "execution_count": 10,
   "id": "8dcc3e98",
   "metadata": {},
   "outputs": [
    {
     "name": "stdout",
     "output_type": "stream",
     "text": [
      "[SystemMessage(content='你是一个起名大师', additional_kwargs={'大师名字': '陈瞎子'}, response_metadata={}), HumanMessage(content='请问大师叫什么？', additional_kwargs={}, response_metadata={}), AIMessage(content='你好，我的名字叫陈瞎子', additional_kwargs={}, response_metadata={})]\n"
     ]
    }
   ],
   "source": [
    "from langchain_core.messages import SystemMessage, HumanMessage, AIMessage\n",
    "\n",
    "# SystemMessage 系统提示词\n",
    "sy = SystemMessage(content=\"你是一个起名大师\", additional_kwargs={\"大师名字\": \"陈瞎子\"})\n",
    "\n",
    "# HumanMessage 用户的输入\n",
    "hu = HumanMessage(content=\"请问大师叫什么？\")\n",
    "\n",
    "# AIMessage AI的输出\n",
    "ai = AIMessage(content=\"你好，我的名字叫陈瞎子\")\n",
    "\n",
    "\n",
    "# 使用消息拼成模板\n",
    "message = [sy, hu, ai]\n",
    "print(message)\n"
   ]
  },
  {
   "cell_type": "markdown",
   "id": "cc8bff82",
   "metadata": {},
   "source": [
    "## 自定义提示词模板"
   ]
  },
  {
   "cell_type": "code",
   "execution_count": 17,
   "id": "97029519",
   "metadata": {},
   "outputs": [
    {
     "name": "stdout",
     "output_type": "stream",
     "text": [
      "\n",
      "你是一个非常有经验和天赋的程序员，现在给你如下函数名，你会按照如下格式，输出这段代码的名称、源代码、中文解释。\n",
      "函数名称：hello_world\n",
      "源代码：\n",
      "def hello_world(abc):\n",
      "    print(\"hello, world!\")\n",
      "    return abc\n",
      "\n",
      "代码解释：\n",
      "\n"
     ]
    }
   ],
   "source": [
    "# 函数大师：可以根据函数的名称，查找函数代码，并给我中文的代码说明。\n",
    "from langchain_core.prompts import StringPromptTemplate\n",
    "\n",
    "\n",
    "# 定义一个简单的函数作为示例效果\n",
    "def hello_world(abc):\n",
    "    print(\"hello, world!\")\n",
    "    return abc\n",
    "\n",
    "\n",
    "PROMPT_TEMPLATE = \"\"\"\n",
    "你是一个非常有经验和天赋的程序员，现在给你如下函数名，你会按照如下格式，输出这段代码的名称、源代码、中文解释。\n",
    "函数名称：{function_name}\n",
    "源代码：\n",
    "{source_code}\n",
    "代码解释：\n",
    "\"\"\"\n",
    "\n",
    "\n",
    "def get_source_code(function_name):\n",
    "    import inspect\n",
    "\n",
    "    source_code = inspect.getsource(function_name)\n",
    "    return source_code\n",
    "\n",
    "\n",
    "# 自定义的提示词模板\n",
    "class CustomPromptTemplate(StringPromptTemplate):\n",
    "    def format(self, **kwargs) -> str:\n",
    "        # 获取源代码\n",
    "        source_code = get_source_code(kwargs[\"function_name\"])\n",
    "\n",
    "        # 生成提示词模板\n",
    "        prompt = PROMPT_TEMPLATE.format(\n",
    "            function_name=kwargs[\"function_name\"].__name__,\n",
    "            source_code=source_code,\n",
    "        )\n",
    "        return prompt\n",
    "\n",
    "\n",
    "# 使用自定义的提示词模板\n",
    "custom_prompt_template = CustomPromptTemplate(input_variables=[\"function_name\"])\n",
    "prompt_value = custom_prompt_template.format(function_name=hello_world)\n",
    "print(prompt_value)"
   ]
  }
 ],
 "metadata": {
  "kernelspec": {
   "display_name": ".venv (3.12.11)",
   "language": "python",
   "name": "python3"
  },
  "language_info": {
   "codemirror_mode": {
    "name": "ipython",
    "version": 3
   },
   "file_extension": ".py",
   "mimetype": "text/x-python",
   "name": "python",
   "nbconvert_exporter": "python",
   "pygments_lexer": "ipython3",
   "version": "3.12.11"
  }
 },
 "nbformat": 4,
 "nbformat_minor": 5
}
