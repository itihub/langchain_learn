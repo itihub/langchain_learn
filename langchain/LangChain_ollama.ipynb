{
 "cells": [
  {
   "cell_type": "markdown",
   "id": "59423df3",
   "metadata": {},
   "source": [
    "## LangChain 接入本地大模型\n",
    "- 安装ollama工具\n",
    "- 通过ollama工具拉取合适的模型资源(ollama pull xx)\n",
    "- 以后台运行ollama(ollama serve xxx )"
   ]
  },
  {
   "cell_type": "code",
   "execution_count": null,
   "id": "952a71b0",
   "metadata": {},
   "outputs": [],
   "source": [
    "! pip install langchain-ollama"
   ]
  },
  {
   "cell_type": "code",
   "execution_count": null,
   "id": "0bd0838c",
   "metadata": {},
   "outputs": [],
   "source": [
    "! pip install langchain-ollama"
   ]
  },
  {
   "cell_type": "markdown",
   "id": "3c0509f9",
   "metadata": {},
   "source": [
    "## LangChain接入本地大模型"
   ]
  },
  {
   "cell_type": "markdown",
   "id": "e1f7ee18",
   "metadata": {},
   "source": []
  },
  {
   "cell_type": "code",
   "execution_count": null,
   "id": "e22bfa67",
   "metadata": {},
   "outputs": [],
   "source": [
    "from langchain_ollama import ChatOllama\n",
    "\n",
    "llm = ChatOllama(model=\"llama2\", temperature=0)\n",
    "\n",
    "llm.invoke(\"你好\")"
   ]
  }
 ],
 "metadata": {
  "kernelspec": {
   "display_name": ".venv (3.12.11)",
   "language": "python",
   "name": "python3"
  },
  "language_info": {
   "name": "python",
   "version": "3.12.11"
  }
 },
 "nbformat": 4,
 "nbformat_minor": 5
}
