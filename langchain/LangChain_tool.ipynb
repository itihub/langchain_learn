{
 "cells": [
  {
   "cell_type": "markdown",
   "id": "3e810c79",
   "metadata": {},
   "source": [
    "## 加载环境变量"
   ]
  },
  {
   "cell_type": "code",
   "execution_count": 2,
   "id": "8e9f4651",
   "metadata": {},
   "outputs": [
    {
     "data": {
      "text/plain": [
       "True"
      ]
     },
     "execution_count": 2,
     "metadata": {},
     "output_type": "execute_result"
    }
   ],
   "source": [
    "import os\n",
    "from dotenv import load_dotenv\n",
    "\n",
    "# 加载 .env 文件中的环境变量\n",
    "load_dotenv(override=True)  # 使用 override=True 确保加载最新的 .env 数据"
   ]
  },
  {
   "cell_type": "markdown",
   "id": "94437e36",
   "metadata": {},
   "source": [
    "## 定义工具"
   ]
  },
  {
   "cell_type": "code",
   "execution_count": 3,
   "id": "1fb85d27",
   "metadata": {},
   "outputs": [
    {
     "name": "stdout",
     "output_type": "stream",
     "text": [
      "subtraction\n",
      "减法工具\n",
      "{'a': {'title': 'A', 'type': 'integer'}, 'b': {'title': 'B', 'type': 'integer'}}\n"
     ]
    }
   ],
   "source": [
    "from pydantic import BaseModel, Field\n",
    "from langchain_core.tools import tool\n",
    "\n",
    "\n",
    "# 加法工具\n",
    "class add(BaseModel):\n",
    "    a: int = Field(..., description=\"The first number\")\n",
    "    b: int = Field(..., description=\"The second number\")\n",
    "\n",
    "\n",
    "# 乘法工具\n",
    "class multiply(BaseModel):\n",
    "    a: int = Field(..., description=\"The first number\")\n",
    "    b: int = Field(..., description=\"The second number\")\n",
    "\n",
    "\n",
    "# 使用装饰器定义工具\n",
    "@tool\n",
    "def subtraction(a: int, b: int) -> int:\n",
    "    \"\"\"减法工具\"\"\"\n",
    "    return a + b\n",
    "\n",
    "\n",
    "print(subtraction.name)\n",
    "print(subtraction.description)\n",
    "print(subtraction.args)"
   ]
  },
  {
   "cell_type": "markdown",
   "id": "39496c26",
   "metadata": {},
   "source": [
    "## 大模型的Tool Call工具调用能力"
   ]
  },
  {
   "cell_type": "code",
   "execution_count": 4,
   "id": "9dce80a2",
   "metadata": {},
   "outputs": [
    {
     "name": "stdout",
     "output_type": "stream",
     "text": [
      "[{'name': 'multiply', 'args': {'a': 3, 'b': 12}, 'id': 'call_70665t5lq35aj9nf967krahl', 'type': 'tool_call'}]\n"
     ]
    }
   ],
   "source": [
    "from langchain_openai import ChatOpenAI\n",
    "\n",
    "llm = ChatOpenAI(\n",
    "    model=os.environ.get(\"OPENAPI_MODEL\"),\n",
    "    base_url=os.environ.get(\"OPENAPI_API_BASE\"),\n",
    "    api_key=os.environ.get(\"OPENAPI_API_KEY\"),\n",
    "    temperature=0,\n",
    ")\n",
    "\n",
    "tools = [add, multiply]  # 一个模型可以绑定多个工具\n",
    "# 将工具绑定到 LLM\n",
    "llm_with_tools = llm.bind_tools(tools)\n",
    "\n",
    "query = \"3乘以12是多少？\"\n",
    "\n",
    "# 模型将自然语言翻译成调用工具的参数，然后langchain根据参数调用工具\n",
    "# 得到调用工具的参数\n",
    "# 调用 LLM 并获取 tool_calls 列表\n",
    "response = llm_with_tools.invoke(query)\n",
    "\n",
    "tool_calls = response.tool_calls\n",
    "# 打印工具调用信息\n",
    "print(tool_calls)"
   ]
  }
 ],
 "metadata": {
  "kernelspec": {
   "display_name": ".venv (3.12.11)",
   "language": "python",
   "name": "python3"
  },
  "language_info": {
   "codemirror_mode": {
    "name": "ipython",
    "version": 3
   },
   "file_extension": ".py",
   "mimetype": "text/x-python",
   "name": "python",
   "nbconvert_exporter": "python",
   "pygments_lexer": "ipython3",
   "version": "3.12.11"
  }
 },
 "nbformat": 4,
 "nbformat_minor": 5
}
