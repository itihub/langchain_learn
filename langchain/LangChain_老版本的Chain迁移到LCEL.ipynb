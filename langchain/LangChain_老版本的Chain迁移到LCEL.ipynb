{
 "cells": [
  {
   "cell_type": "markdown",
   "id": "fa2c4d03",
   "metadata": {},
   "source": [
    "# 从老版本的Chain迁移到LCEL\n",
    "+ 示例1：从LLMChain迁移\n",
    "+ 示例2：从StuffDocumentsChain迁移"
   ]
  },
  {
   "cell_type": "code",
   "execution_count": 1,
   "id": "ae46007f",
   "metadata": {},
   "outputs": [
    {
     "data": {
      "text/plain": [
       "True"
      ]
     },
     "execution_count": 1,
     "metadata": {},
     "output_type": "execute_result"
    }
   ],
   "source": [
    "import os\n",
    "from dotenv import load_dotenv\n",
    "\n",
    "# 加载 .env 文件中的环境变量\n",
    "load_dotenv(override=True)  # 使用 override=True 确保加载最新的 .env 数据"
   ]
  },
  {
   "cell_type": "markdown",
   "id": "6d815810",
   "metadata": {},
   "source": [
    "## 从LLMChain迁移到LCEL"
   ]
  },
  {
   "cell_type": "markdown",
   "id": "664ebf87",
   "metadata": {},
   "source": [
    "### 废弃的用法"
   ]
  },
  {
   "cell_type": "code",
   "execution_count": null,
   "id": "c1d63474",
   "metadata": {},
   "outputs": [
    {
     "name": "stderr",
     "output_type": "stream",
     "text": [
      "/tmp/ipykernel_3616149/2859666389.py:16: LangChainDeprecationWarning: The class `LLMChain` was deprecated in LangChain 0.1.17 and will be removed in 1.0. Use :meth:`~RunnableSequence, e.g., `prompt | llm`` instead.\n",
      "  legacy_chain = LLMChain(llm=llm, prompt=prompt)\n",
      "/tmp/ipykernel_3616149/2859666389.py:18: LangChainDeprecationWarning: The method `Chain.__call__` was deprecated in langchain 0.1.0 and will be removed in 1.0. Use :meth:`~invoke` instead.\n",
      "  legacy_result = legacy_chain({\"adjective\": \"funny\"})\n"
     ]
    },
    {
     "name": "stdout",
     "output_type": "stream",
     "text": [
      "{'adjective': 'funny', 'text': \"Sure! Here's a classic for you:  \\n\\n**Why don’t skeletons fight each other?**  \\n*Because they don’t have the guts!*  \\n\\n(☠️😂)  \\n\\nWant another one? Just ask!\"}\n"
     ]
    }
   ],
   "source": [
    "from langchain.chains import LLMChain\n",
    "from langchain_core.prompts import ChatPromptTemplate\n",
    "from langchain_openai import ChatOpenAI\n",
    "\n",
    "llm = ChatOpenAI(\n",
    "    model=os.environ.get(\"OPENAPI_MODEL\"),\n",
    "    base_url=os.environ.get(\"OPENAPI_API_BASE\"),\n",
    "    api_key=os.environ.get(\"OPENAPI_API_KEY\"),\n",
    "    temperature=0,\n",
    ")\n",
    "\n",
    "prompt = ChatPromptTemplate.from_messages(\n",
    "    [(\"user\", \"Tell me a {adjective} joke\")],\n",
    ")\n",
    "\n",
    "# 过时的预制Chain使用\n",
    "legacy_chain = LLMChain(llm=llm, prompt=prompt)\n",
    "\n",
    "legacy_result = legacy_chain({\"adjective\": \"funny\"})\n",
    "print(legacy_result)\n"
   ]
  },
  {
   "cell_type": "markdown",
   "id": "7e7a88a0",
   "metadata": {},
   "source": [
    "### 使用LCEL重写"
   ]
  },
  {
   "cell_type": "code",
   "execution_count": null,
   "id": "b1322f79",
   "metadata": {},
   "outputs": [
    {
     "data": {
      "text/plain": [
       "\"Sure! Here's a classic for you:  \\n\\n**Why don’t skeletons fight each other?**  \\n*Because they don’t have the guts!*  \\n\\n😄 Hope that gives you a chuckle! Want another?\""
      ]
     },
     "execution_count": 3,
     "metadata": {},
     "output_type": "execute_result"
    }
   ],
   "source": [
    "from langchain_core.output_parsers import StrOutputParser\n",
    "from langchain_core.prompts import ChatPromptTemplate\n",
    "from langchain_openai import ChatOpenAI\n",
    "\n",
    "llm = ChatOpenAI(\n",
    "    model=os.environ.get(\"OPENAPI_MODEL\"),\n",
    "    base_url=os.environ.get(\"OPENAPI_API_BASE\"),\n",
    "    api_key=os.environ.get(\"OPENAPI_API_KEY\"),\n",
    "    temperature=0,\n",
    ")\n",
    "\n",
    "prompt = ChatPromptTemplate.from_messages(\n",
    "    [(\"user\", \"Tell me a {adjective} joke\")],\n",
    ")\n",
    "\n",
    "chain = prompt | llm | StrOutputParser()\n",
    "\n",
    "chain.invoke({\"adjective\": \"funny\"})"
   ]
  },
  {
   "cell_type": "markdown",
   "id": "f77db9d1",
   "metadata": {},
   "source": [
    "## 从StuffDocumentsChain迁移LCEL"
   ]
  },
  {
   "cell_type": "markdown",
   "id": "4e7824ce",
   "metadata": {},
   "source": [
    "### 废弃的用法"
   ]
  },
  {
   "cell_type": "code",
   "execution_count": 4,
   "id": "73809e90",
   "metadata": {},
   "outputs": [
    {
     "name": "stderr",
     "output_type": "stream",
     "text": [
      "/tmp/ipykernel_3616149/3939593960.py:27: LangChainDeprecationWarning: This class is deprecated. Use the `create_stuff_documents_chain` constructor instead. See migration guide here: https://python.langchain.com/docs/versions/migrating_chains/stuff_docs_chain/\n",
      "  chain = StuffDocumentsChain(\n"
     ]
    },
    {
     "name": "stdout",
     "output_type": "stream",
     "text": [
      "Here's a concise summary of the content:  \n",
      "\n",
      "\"Apples are red, blueberries are blue, and bananas are yellow.\"  \n",
      "\n",
      "This simply lists the colors associated with each fruit mentioned. Let me know if you'd like any modifications!\n"
     ]
    }
   ],
   "source": [
    "from langchain_core.documents import Document\n",
    "from langchain.chains import LLMChain, StuffDocumentsChain\n",
    "from langchain_core.prompts import ChatPromptTemplate, PromptTemplate\n",
    "\n",
    "# 文本切割后的文档\n",
    "documents = [\n",
    "    Document(page_content=\"Apples are red\", metadata={\"title\": \"apple_book\"}),\n",
    "    Document(page_content=\"Blueberries are blue\", metadata={\"title\": \"blueberry_book\"}),\n",
    "    Document(page_content=\"Bananas are yellow\", metadata={\"title\": \"banana_book\"}),\n",
    "]\n",
    "\n",
    "document_prompt = PromptTemplate(\n",
    "    input_variables=[\"page_content\"], template=\"{page_content}\"\n",
    ")\n",
    "\n",
    "document_variable_name = \"context\"\n",
    "\n",
    "# 总结的提示词模板\n",
    "prompt = ChatPromptTemplate.from_template(\"Summarize this content: {context}\")\n",
    "llm = ChatOpenAI(\n",
    "    model=os.environ.get(\"OPENAPI_MODEL\"),\n",
    "    base_url=os.environ.get(\"OPENAPI_API_BASE\"),\n",
    "    api_key=os.environ.get(\"OPENAPI_API_KEY\"),\n",
    "    temperature=0,\n",
    ")\n",
    "llm_chain = LLMChain(llm=llm, prompt=prompt)\n",
    "chain = StuffDocumentsChain(\n",
    "    llm_chain=llm_chain,\n",
    "    document_variable_name=document_variable_name,\n",
    "    document_prompt=document_prompt,\n",
    ")\n",
    "\n",
    "# 使用链\n",
    "result = chain.invoke(documents)\n",
    "print(result[\"output_text\"])\n"
   ]
  },
  {
   "cell_type": "markdown",
   "id": "79907e29",
   "metadata": {},
   "source": [
    "### 使用LCEL重写"
   ]
  },
  {
   "cell_type": "code",
   "execution_count": null,
   "id": "490f5f00",
   "metadata": {},
   "outputs": [
    {
     "data": {
      "text/plain": [
       "'Here\\'s a concise summary of the given content:  \\n\\n**\"Apples are red, blueberries are blue, and bananas are yellow.\"**  \\n\\nThis summarizes the color descriptions of the three fruits in a single sentence. Let me know if you\\'d like any modifications!'"
      ]
     },
     "execution_count": 5,
     "metadata": {},
     "output_type": "execute_result"
    }
   ],
   "source": [
    "from langchain_core.documents import Document\n",
    "from langchain.chains.combine_documents import create_stuff_documents_chain\n",
    "from langchain_core.prompts import ChatPromptTemplate\n",
    "\n",
    "\n",
    "# 文本切割后的文档\n",
    "documents = [\n",
    "    Document(page_content=\"Apples are red\", metadata={\"title\": \"apple_book\"}),\n",
    "    Document(page_content=\"Blueberries are blue\", metadata={\"title\": \"blueberry_book\"}),\n",
    "    Document(page_content=\"Bananas are yellow\", metadata={\"title\": \"banana_book\"}),\n",
    "]\n",
    "\n",
    "llm = ChatOpenAI(\n",
    "    model=os.environ.get(\"OPENAPI_MODEL\"),\n",
    "    base_url=os.environ.get(\"OPENAPI_API_BASE\"),\n",
    "    api_key=os.environ.get(\"OPENAPI_API_KEY\"),\n",
    "    temperature=0,\n",
    ")\n",
    "# 总结的提示词模板\n",
    "prompt = ChatPromptTemplate.from_template(\"Summarize this content: {context}\")\n",
    "chain = create_stuff_documents_chain(llm=llm, prompt=prompt)\n",
    "\n",
    "chain.invoke({\"context\": documents})"
   ]
  }
 ],
 "metadata": {
  "kernelspec": {
   "display_name": ".venv (3.12.11)",
   "language": "python",
   "name": "python3"
  },
  "language_info": {
   "codemirror_mode": {
    "name": "ipython",
    "version": 3
   },
   "file_extension": ".py",
   "mimetype": "text/x-python",
   "name": "python",
   "nbconvert_exporter": "python",
   "pygments_lexer": "ipython3",
   "version": "3.12.11"
  }
 },
 "nbformat": 4,
 "nbformat_minor": 5
}
