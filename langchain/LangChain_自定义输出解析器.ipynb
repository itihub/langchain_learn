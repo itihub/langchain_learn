{
 "cells": [
  {
   "cell_type": "markdown",
   "id": "64578cb3",
   "metadata": {},
   "source": [
    "## 自定义输出解析器"
   ]
  },
  {
   "cell_type": "code",
   "execution_count": 3,
   "id": "c85e278d",
   "metadata": {},
   "outputs": [
    {
     "data": {
      "text/plain": [
       "True"
      ]
     },
     "execution_count": 3,
     "metadata": {},
     "output_type": "execute_result"
    }
   ],
   "source": [
    "import os\n",
    "from dotenv import load_dotenv\n",
    "\n",
    "# 加载 .env 文件中的环境变量\n",
    "load_dotenv(override=True)  # 使用 override=True 确保加载最新的 .env 数据"
   ]
  },
  {
   "cell_type": "code",
   "execution_count": 4,
   "id": "d31231a8",
   "metadata": {},
   "outputs": [],
   "source": [
    "from langchain_openai import ChatOpenAI\n",
    "\n",
    "llm = ChatOpenAI(\n",
    "    model=os.environ.get(\"OPENAPI_MODEL\"),\n",
    "    base_url=os.environ.get(\"OPENAPI_API_BASE\"),\n",
    "    api_key=os.environ.get(\"OPENAPI_API_KEY\"),\n",
    "    temperature=0,\n",
    ")\n",
    "\n",
    "question = \"LangChain是什么？\""
   ]
  },
  {
   "cell_type": "markdown",
   "id": "3d6bbfe7",
   "metadata": {},
   "source": [
    "### 纳美星语解析器\n",
    "纳美星语是人造语言，有2000个词汇\n",
    "输入自然语言转为纳美星语"
   ]
  },
  {
   "cell_type": "code",
   "execution_count": null,
   "id": "b17ae478",
   "metadata": {},
   "outputs": [
    {
     "data": {
      "text/plain": [
       "'Oel ngati kameie ... Kaltxì! 😊 How can I assist you todaysrak?'"
      ]
     },
     "execution_count": 5,
     "metadata": {},
     "output_type": "execute_result"
    }
   ],
   "source": [
    "import re\n",
    "from langchain_core.messages import AIMessage, AIMessageChunk\n",
    "\n",
    "\n",
    "# 定义一个函数作为自定义解析器\n",
    "def parse(ai_message: AIMessage) -> str:\n",
    "    \"\"\"Convert message to Na'vi style language.\"\"\"\n",
    "    content = ai_message.content\n",
    "\n",
    "    # 纳美星语特征转换规则\n",
    "    navi_rules = {\n",
    "        # 常见问候语转换\n",
    "        r\"\\b[Hh]ello\\b\": \"Kaltxì\",\n",
    "        r\"\\b[Hh]i\\b\": \"Kaltxì\",\n",
    "        r\"\\b[Tt]hank you\\b\": \"Irayo\",\n",
    "        r\"\\b[Gg]oodbye\\b\": \"Ngaru\",\n",
    "        # 提娜姬纳美语特征的后缀\n",
    "        r\"\\b(friend|friends)\\b\": \"eylan\",\n",
    "        r\"\\b(brother|brothers)\\b\": \"tsmukan\",\n",
    "        r\"\\b(sister|sisters)\\b\": \"tsmuke\",\n",
    "        # 添加纳美语语气词\n",
    "        r\"[!.]\\s*$\": \"kxe!\",\n",
    "        r\"\\?\\s*$\": \"srak?\",\n",
    "        # 在某些词前添加特征前缀\n",
    "        r\"\\b(beautiful|prettuy)\\b\": \"na'vi\",\n",
    "        r\"\\b(sacred|holy)\\b\": \"txe'lan\",\n",
    "    }\n",
    "\n",
    "    # 应用转换规则\n",
    "    result = content\n",
    "    for pattern, replacement in navi_rules.items():\n",
    "        result = re.sub(pattern, replacement, result)\n",
    "\n",
    "    # 添加纳美语特征词缀\n",
    "    result = f\"Oel ngati kameie ... {result}\"\n",
    "\n",
    "    return result\n",
    "\n",
    "\n",
    "chain = llm | parse\n",
    "chain.invoke(\"hello\")"
   ]
  },
  {
   "cell_type": "markdown",
   "id": "28291193",
   "metadata": {},
   "source": [
    "### 布尔值解析器\n",
    "输入自然语言，通过自定义解析器变为true或false"
   ]
  },
  {
   "cell_type": "code",
   "execution_count": null,
   "id": "cc3ac2f7",
   "metadata": {},
   "outputs": [
    {
     "name": "stdout",
     "output_type": "stream",
     "text": [
      "YES\n",
      "NO\n"
     ]
    }
   ],
   "source": [
    "from langchain_core.output_parsers import BaseOutputParser\n",
    "from langchain_core.exceptions import OutputParserException\n",
    "\n",
    "# 通过集成BaseOutputParser实现更复杂的输出解析器\n",
    "\n",
    "\n",
    "# [bool] 描述一个泛型的参数化\n",
    "# 它基本上说明了解析的返回类型是什么\n",
    "# 在这种情况下，返回类型为True或False\n",
    "# 自定义解析器将YES、NO字符串解析为布尔值\n",
    "class BooleanOutputParser(BaseOutputParser[bool]):\n",
    "    \"\"\"Custom boolean parser.\"\"\"\n",
    "\n",
    "    true_val: str = \"YES\"\n",
    "    false_val: str = \"NO\"\n",
    "\n",
    "    def parse(self, text: str) -> bool:\n",
    "        cleaned_text = text.strip().upper()\n",
    "        if cleaned_text not in (self.true_val.upper(), self.false_val.upper()):\n",
    "            raise OutputParserException(\n",
    "                f\"BooleanOutputParser expected output value to either be\"\n",
    "                f\"{self.true_val} or {self.false_val} (case-insensitive).\"\n",
    "                f\"Received {cleaned_text}.\"\n",
    "            )\n",
    "        return cleaned_text == self.true_val.upper()\n",
    "\n",
    "    # 设置统一接口名\n",
    "    @property\n",
    "    def _type(self) -> str:\n",
    "        return \"boolean_output_parser\"\n",
    "\n",
    "    def get_format_instructions(self) -> str:\n",
    "        return \"Output should be 'YES' or 'NO'.\"\n",
    "\n",
    "\n",
    "parser = BooleanOutputParser()\n",
    "# 如果传入值不是YES 或 NO会报错\n",
    "try:\n",
    "    # parser.invoke(\"MEOW\")\n",
    "    parser.invoke(\"yes\")\n",
    "except OutputParserException as e:\n",
    "    print(f\"Triggered an exception of type: {type(e)}\")\n"
   ]
  },
  {
   "cell_type": "code",
   "execution_count": 26,
   "id": "53ea3a8a",
   "metadata": {},
   "outputs": [
    {
     "name": "stdout",
     "output_type": "stream",
     "text": [
      "OKAY\n",
      "NOKY\n"
     ]
    },
    {
     "data": {
      "text/plain": [
       "True"
      ]
     },
     "execution_count": 26,
     "metadata": {},
     "output_type": "execute_result"
    }
   ],
   "source": [
    "# 也可以重写参数\n",
    "parser = BooleanOutputParser(true_val=\"OKAY\", false_val=\"NOKY\")\n",
    "parser.invoke(\"OKAY\")\n"
   ]
  }
 ],
 "metadata": {
  "kernelspec": {
   "display_name": ".venv (3.12.11)",
   "language": "python",
   "name": "python3"
  },
  "language_info": {
   "codemirror_mode": {
    "name": "ipython",
    "version": 3
   },
   "file_extension": ".py",
   "mimetype": "text/x-python",
   "name": "python",
   "nbconvert_exporter": "python",
   "pygments_lexer": "ipython3",
   "version": "3.12.11"
  }
 },
 "nbformat": 4,
 "nbformat_minor": 5
}
