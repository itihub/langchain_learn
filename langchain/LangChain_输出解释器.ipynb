{
 "cells": [
  {
   "cell_type": "markdown",
   "id": "2c16540d",
   "metadata": {},
   "source": [
    "## LangChain的输出解释器"
   ]
  },
  {
   "cell_type": "code",
   "execution_count": 1,
   "id": "3ca98c63",
   "metadata": {},
   "outputs": [
    {
     "data": {
      "text/plain": [
       "True"
      ]
     },
     "execution_count": 1,
     "metadata": {},
     "output_type": "execute_result"
    }
   ],
   "source": [
    "import os\n",
    "from dotenv import load_dotenv\n",
    "\n",
    "# 加载 .env 文件中的环境变量\n",
    "load_dotenv(override=True)  # 使用 override=True 确保加载最新的 .env 数据"
   ]
  },
  {
   "cell_type": "code",
   "execution_count": 2,
   "id": "bc26e4e2",
   "metadata": {},
   "outputs": [],
   "source": [
    "from langchain_openai import ChatOpenAI\n",
    "\n",
    "llm = ChatOpenAI(\n",
    "    model=os.environ.get(\"OPENAPI_MODEL\"),\n",
    "    base_url=os.environ.get(\"OPENAPI_API_BASE\"),\n",
    "    api_key=os.environ.get(\"OPENAPI_API_KEY\"),\n",
    "    temperature=0,\n",
    ")\n",
    "\n",
    "question = \"LangChain是什么？\""
   ]
  },
  {
   "cell_type": "markdown",
   "id": "042f51ea",
   "metadata": {},
   "source": [
    "### 文本\n",
    "+ 非标原生方式，直接获取模型的输出结果（不推荐），在Chain之间流转仍然需要封装为StrOutputParse\n",
    "+ StrOutputParse （推荐），使用该输出解析便于在Chain之间流转"
   ]
  },
  {
   "cell_type": "code",
   "execution_count": null,
   "id": "8dbf8cb8",
   "metadata": {},
   "outputs": [
    {
     "name": "stdout",
     "output_type": "stream",
     "text": [
      "content='你好呀！我是 **DeepSeek Chat**，由深度求索公司（DeepSeek）研发的智能 AI 助手。我可以帮你解答各种问题，包括学习、工作、编程、生活百科、创意写作等，还能阅读和解析上传的文件（如 PDF、Word、Excel 等）。  \\n\\n### ✨ **我的特点**  \\n✅ **免费使用**：目前不收费，放心提问！  \\n✅ **超长上下文**：支持 **128K** 上下文记忆，能处理超长文本。  \\n✅ **文件阅读**：可以分析文档内容，帮你提取关键信息。  \\n✅ **知识丰富**：我的知识截止到 **2024 年 7 月**，能提供较新的信息。  \\n✅ **多语言支持**：可以用中文、英文等多种语言交流。  \\n\\n### 🚀 **我能帮你做什么？**  \\n📖 **学习辅导**：解题思路、论文润色、知识点讲解  \\n💼 **工作助手**：写邮件、做 PPT、数据分析、简历优化  \\n💻 **编程支持**：代码调试、算法讲解、项目建议  \\n🎨 **创意写作**：写故事、起名字、广告文案、诗歌创作  \\n📂 **文件解析**：总结 PDF、Word、Excel 内容  \\n\\n如果你有任何问题，尽管问我吧！😊' additional_kwargs={'refusal': None} response_metadata={'token_usage': {'completion_tokens': 278, 'prompt_tokens': 6, 'total_tokens': 284, 'completion_tokens_details': {'accepted_prediction_tokens': None, 'audio_tokens': None, 'reasoning_tokens': 0, 'rejected_prediction_tokens': None}, 'prompt_tokens_details': {'audio_tokens': None, 'cached_tokens': 0}}, 'model_name': 'deepseek-v3-250324', 'system_fingerprint': None, 'id': '021757035491663cebc2095a9c9da0efa6560347b91d40a56c3ee', 'service_tier': 'default', 'finish_reason': 'stop', 'logprobs': None} id='run--9dd36ae1-4d2d-4310-bd49-13b3ce8dff57-0' usage_metadata={'input_tokens': 6, 'output_tokens': 278, 'total_tokens': 284, 'input_token_details': {'cache_read': 0}, 'output_token_details': {'reasoning': 0}}\n"
     ]
    }
   ],
   "source": [
    "response = llm.invoke(\"介绍下自己\")\n",
    "# 原生的返回结果\n",
    "print(response)"
   ]
  },
  {
   "cell_type": "code",
   "execution_count": 12,
   "id": "d0c8a6e0",
   "metadata": {},
   "outputs": [
    {
     "name": "stdout",
     "output_type": "stream",
     "text": [
      "\n"
     ]
    }
   ],
   "source": [
    "# 使用 StrOutputParser 进行解析，可以大幅简化从LangChain中提取文本\n",
    "from langchain_core.output_parsers import StrOutputParser\n",
    "from langchain_core.tools import tool\n",
    "\n",
    "\n",
    "@tool\n",
    "def get_weather(location: str) -> str:\n",
    "    \"\"\"根据location地名获取当地实时天气\"\"\"\n",
    "    return f\"{location}的天气是晴天，温度25度\"\n",
    "\n",
    "\n",
    "# 绑定工具\n",
    "llm_with_tools = llm.bind_tools([get_weather])\n",
    "\n",
    "chain = llm_with_tools | StrOutputParser()\n",
    "\n",
    "response = chain.invoke(\"北京的天气怎么样\")\n",
    "print(response)\n"
   ]
  },
  {
   "cell_type": "markdown",
   "id": "b18083a7",
   "metadata": {},
   "source": [
    "### Pydantic\n",
    "+ PydanticOutputParser"
   ]
  },
  {
   "cell_type": "code",
   "execution_count": 25,
   "id": "368fc92c",
   "metadata": {},
   "outputs": [
    {
     "name": "stdout",
     "output_type": "stream",
     "text": [
      "PydanticOutputParser的格式指令要求为：\n",
      "The output should be formatted as a JSON instance that conforms to the JSON schema below.\n",
      "\n",
      "As an example, for the schema {\"properties\": {\"foo\": {\"title\": \"Foo\", \"description\": \"a list of strings\", \"type\": \"array\", \"items\": {\"type\": \"string\"}}}, \"required\": [\"foo\"]}\n",
      "the object {\"foo\": [\"bar\", \"baz\"]} is a well-formatted instance of the schema. The object {\"properties\": {\"foo\": [\"bar\", \"baz\"]}} is not well-formatted.\n",
      "\n",
      "Here is the output schema:\n",
      "```\n",
      "{\"properties\": {\"setup\": {\"description\": \"笑话中的铺垫问题，必须以？结尾\", \"title\": \"Setup\", \"type\": \"string\"}, \"punchline\": {\"description\": \"笑话中回答铺垫问题的部分，通常是一种抖包袱方式回答铺垫问题，例如谐音、会错意等\", \"title\": \"Punchline\", \"type\": \"string\"}}, \"required\": [\"setup\", \"punchline\"]}\n",
      "```\n",
      "提示词模板为：\n",
      "text='回答用户的查询，\\nThe output should be formatted as a JSON instance that conforms to the JSON schema below.\\n\\nAs an example, for the schema {\"properties\": {\"foo\": {\"title\": \"Foo\", \"description\": \"a list of strings\", \"type\": \"array\", \"items\": {\"type\": \"string\"}}}, \"required\": [\"foo\"]}\\nthe object {\"foo\": [\"bar\", \"baz\"]} is a well-formatted instance of the schema. The object {\"properties\": {\"foo\": [\"bar\", \"baz\"]}} is not well-formatted.\\n\\nHere is the output schema:\\n```\\n{\"properties\": {\"setup\": {\"description\": \"笑话中的铺垫问题，必须以？结尾\", \"title\": \"Setup\", \"type\": \"string\"}, \"punchline\": {\"description\": \"笑话中回答铺垫问题的部分，通常是一种抖包袱方式回答铺垫问题，例如谐音、会错意等\", \"title\": \"Punchline\", \"type\": \"string\"}}, \"required\": [\"setup\", \"punchline\"]}\\n```\\n\\n'\n",
      "content='```json\\n{\\n  \"setup\": \"为什么程序员总是分不清万圣节和圣诞节？\",\\n  \"punchline\": \"因为 Oct 31 等于 Dec 25！\"\\n}\\n```' additional_kwargs={'refusal': None} response_metadata={'token_usage': {'completion_tokens': 41, 'prompt_tokens': 228, 'total_tokens': 269, 'completion_tokens_details': {'accepted_prediction_tokens': None, 'audio_tokens': None, 'reasoning_tokens': 0, 'rejected_prediction_tokens': None}, 'prompt_tokens_details': {'audio_tokens': None, 'cached_tokens': 0}}, 'model_name': 'deepseek-v3-250324', 'system_fingerprint': None, 'id': '0217574857767496b4bb86eb10e249be2e140b35a676de723cf09', 'service_tier': 'default', 'finish_reason': 'stop', 'logprobs': None} id='run--23c0e61b-6c37-461a-b7d7-978c486317f7-0' usage_metadata={'input_tokens': 228, 'output_tokens': 41, 'total_tokens': 269, 'input_token_details': {'cache_read': 0}, 'output_token_details': {'reasoning': 0}}\n"
     ]
    },
    {
     "data": {
      "text/plain": [
       "Joke(setup='为什么程序员总是分不清万圣节和圣诞节？', punchline='因为 Oct 31 等于 Dec 25！')"
      ]
     },
     "execution_count": 25,
     "metadata": {},
     "output_type": "execute_result"
    }
   ],
   "source": [
    "from langchain_core.output_parsers import PydanticOutputParser\n",
    "from langchain_core.prompts import PromptTemplate\n",
    "from pydantic import BaseModel, Field, model_validator\n",
    "\n",
    "\n",
    "# 定义一个名为Joke的数据模型\n",
    "# 必须要包含的数据字段： setup（笑话的开头） 和 punchline（笑话的结尾）\n",
    "class Joke(BaseModel):\n",
    "    setup: str = Field(description=\"笑话中的铺垫问题，必须以？结尾\")\n",
    "    punchline: str = Field(\n",
    "        description=\"笑话中回答铺垫问题的部分，通常是一种抖包袱方式回答铺垫问题，例如谐音、会错意等\"\n",
    "    )\n",
    "\n",
    "    # 验证器，你可以根据自己的数据情况进行自定义\n",
    "    # 注意mode=before意思是数据被转成pydantic模型的字段之前，对原始数据进行验证\n",
    "    @model_validator(mode=\"before\")\n",
    "    @classmethod\n",
    "    def question_ends_with_question_mark(cls, values: dict) -> dict:\n",
    "        setup = values.get(\"setup\")\n",
    "        # 如果铺垫问题没有以问号结尾，则抛出异常\n",
    "        if setup is not None and (not setup.endswith(\"？\") and not setup.endswith(\"?\")):\n",
    "            raise ValueError(\"Badly formed question!\")\n",
    "        return values\n",
    "\n",
    "\n",
    "# 实例化解析器、提示词模板\n",
    "parser = PydanticOutputParser(pydantic_object=Joke)\n",
    "print(\"PydanticOutputParser的格式指令要求为：\")\n",
    "print(parser.get_format_instructions())\n",
    "\n",
    "# 注意，提示词模板中需要部分格式化解析器的格式要求format_instructions\n",
    "prompt = PromptTemplate(\n",
    "    template=\"回答用户的查询，\\n{format_instructions}\\n{query}\\n\",\n",
    "    input_variables=[\"query\"],\n",
    "    partial_variables={\"format_instructions\": parser.get_format_instructions()},\n",
    ")\n",
    "print(\"提示词模板为：\")\n",
    "print(prompt.invoke(\"\"))\n",
    "\n",
    "\n",
    "# 使用LCEL语法组合一个简单的链\n",
    "prompt_and_model = prompt | llm\n",
    "output = prompt_and_model.invoke({\"query\": \"讲一个编程相关的笑话\"})\n",
    "print(output)\n",
    "parser.invoke(output)"
   ]
  },
  {
   "cell_type": "markdown",
   "id": "63c7e2fb",
   "metadata": {},
   "source": [
    "### JSON\n",
    "+ JsonOutputParser"
   ]
  },
  {
   "cell_type": "code",
   "execution_count": 33,
   "id": "aa91541b",
   "metadata": {},
   "outputs": [
    {
     "name": "stdout",
     "output_type": "stream",
     "text": [
      "PydanticOutputParser的格式指令要求为：\n",
      "The output should be formatted as a JSON instance that conforms to the JSON schema below.\n",
      "\n",
      "As an example, for the schema {\"properties\": {\"foo\": {\"title\": \"Foo\", \"description\": \"a list of strings\", \"type\": \"array\", \"items\": {\"type\": \"string\"}}}, \"required\": [\"foo\"]}\n",
      "the object {\"foo\": [\"bar\", \"baz\"]} is a well-formatted instance of the schema. The object {\"properties\": {\"foo\": [\"bar\", \"baz\"]}} is not well-formatted.\n",
      "\n",
      "Here is the output schema:\n",
      "```\n",
      "{\"properties\": {\"setup\": {\"description\": \"笑话中的铺垫问题，必须以？结尾\", \"title\": \"Setup\", \"type\": \"string\"}, \"punchline\": {\"description\": \"笑话中回答铺垫问题的部分，通常是一种抖包袱方式回答铺垫问题，例如谐音、会错意等\", \"title\": \"Punchline\", \"type\": \"string\"}}, \"required\": [\"setup\", \"punchline\"]}\n",
      "```\n",
      "提示词模板为：\n",
      "text='回答用户的查询，\\nThe output should be formatted as a JSON instance that conforms to the JSON schema below.\\n\\nAs an example, for the schema {\"properties\": {\"foo\": {\"title\": \"Foo\", \"description\": \"a list of strings\", \"type\": \"array\", \"items\": {\"type\": \"string\"}}}, \"required\": [\"foo\"]}\\nthe object {\"foo\": [\"bar\", \"baz\"]} is a well-formatted instance of the schema. The object {\"properties\": {\"foo\": [\"bar\", \"baz\"]}} is not well-formatted.\\n\\nHere is the output schema:\\n```\\n{\"properties\": {\"setup\": {\"description\": \"笑话中的铺垫问题，必须以？结尾\", \"title\": \"Setup\", \"type\": \"string\"}, \"punchline\": {\"description\": \"笑话中回答铺垫问题的部分，通常是一种抖包袱方式回答铺垫问题，例如谐音、会错意等\", \"title\": \"Punchline\", \"type\": \"string\"}}, \"required\": [\"setup\", \"punchline\"]}\\n```\\n\\n'\n",
      "{'setup': '为什么数学书总是很忧郁？', 'punchline': '因为它有太多的问题！'}\n"
     ]
    }
   ],
   "source": [
    "from langchain_core.output_parsers import JsonOutputParser\n",
    "from langchain_core.prompts import PromptTemplate\n",
    "from pydantic import BaseModel, Field, model_validator\n",
    "\n",
    "\n",
    "# 定义一个名为Joke的数据模型\n",
    "# 必须要包含的数据字段： setup（笑话的开头） 和 punchline（笑话的结尾）\n",
    "class Joke(BaseModel):\n",
    "    setup: str = Field(description=\"笑话中的铺垫问题，必须以？结尾\")\n",
    "    punchline: str = Field(\n",
    "        description=\"笑话中回答铺垫问题的部分，通常是一种抖包袱方式回答铺垫问题，例如谐音、会错意等\"\n",
    "    )\n",
    "\n",
    "\n",
    "# 实例化解析器、提示词模板\n",
    "parser = JsonOutputParser(pydantic_object=Joke)\n",
    "print(\"PydanticOutputParser的格式指令要求为：\")\n",
    "print(parser.get_format_instructions())\n",
    "\n",
    "# 注意，提示词模板中需要部分格式化解析器的格式要求format_instructions\n",
    "prompt = PromptTemplate(\n",
    "    template=\"回答用户的查询，\\n{format_instructions}\\n{query}\\n\",\n",
    "    input_variables=[\"query\"],\n",
    "    partial_variables={\"format_instructions\": parser.get_format_instructions()},\n",
    ")\n",
    "print(\"提示词模板为：\")\n",
    "print(prompt.invoke(\"\"))\n",
    "\n",
    "\n",
    "# 使用LCEL语法组合一个简单的链\n",
    "chain = prompt | llm | parser\n",
    "output = chain.invoke({\"query\": \"讲一个笑话\"})\n",
    "print(output)"
   ]
  },
  {
   "cell_type": "markdown",
   "id": "99f175c4",
   "metadata": {},
   "source": [
    "### XML\n",
    "+ XMLOutputParser"
   ]
  },
  {
   "cell_type": "code",
   "execution_count": 37,
   "id": "1aafa9ab",
   "metadata": {},
   "outputs": [
    {
     "name": "stdout",
     "output_type": "stream",
     "text": [
      "Looking in indexes: https://pypi.tuna.tsinghua.edu.cn/simple\n",
      "Collecting defusedxml\n",
      "  Using cached https://pypi.tuna.tsinghua.edu.cn/packages/07/6c/aa3f2f849e01cb6a001cd8554a88d4c77c5c1a31c95bdf1cf9301e6d9ef4/defusedxml-0.7.1-py2.py3-none-any.whl (25 kB)\n",
      "Installing collected packages: defusedxml\n",
      "Successfully installed defusedxml-0.7.1\n"
     ]
    }
   ],
   "source": [
    "! pip install defusedxml"
   ]
  },
  {
   "cell_type": "code",
   "execution_count": 39,
   "id": "6a38f498",
   "metadata": {},
   "outputs": [
    {
     "name": "stdout",
     "output_type": "stream",
     "text": [
      "XMLOutputParser的格式指令要求为：\n",
      "The output should be formatted as a XML file.\n",
      "1. Output should conform to the tags below.\n",
      "2. If tags are not given, make them on your own.\n",
      "3. Remember to always open and close all the tags.\n",
      "\n",
      "As an example, for the tags [\"foo\", \"bar\", \"baz\"]:\n",
      "1. String \"<foo>\n",
      "   <bar>\n",
      "      <baz></baz>\n",
      "   </bar>\n",
      "</foo>\" is a well-formatted instance of the schema.\n",
      "2. String \"<foo>\n",
      "   <bar>\n",
      "   </foo>\" is a badly-formatted instance.\n",
      "3. String \"<foo>\n",
      "   <tag>\n",
      "   </tag>\n",
      "</foo>\" is a badly-formatted instance.\n",
      "\n",
      "Here are the output tags:\n",
      "```\n",
      "['movies', 'actor', 'film', 'name', 'genre']\n",
      "```\n",
      "提示词模板为：\n",
      "text='\\nThe output should be formatted as a XML file.\\n1. Output should conform to the tags below.\\n2. If tags are not given, make them on your own.\\n3. Remember to always open and close all the tags.\\n\\nAs an example, for the tags [\"foo\", \"bar\", \"baz\"]:\\n1. String \"<foo>\\n   <bar>\\n      <baz></baz>\\n   </bar>\\n</foo>\" is a well-formatted instance of the schema.\\n2. String \"<foo>\\n   <bar>\\n   </foo>\" is a badly-formatted instance.\\n3. String \"<foo>\\n   <tag>\\n   </tag>\\n</foo>\" is a badly-formatted instance.\\n\\nHere are the output tags:\\n```\\n[\\'movies\\', \\'actor\\', \\'film\\', \\'name\\', \\'genre\\']\\n```'\n",
      "{'movies': [{'actor': [{'name': 'Tom Hanks'}, {'film': [{'name': 'Forrest Gump'}, {'genre': 'Drama'}]}, {'film': [{'name': 'Saving Private Ryan'}, {'genre': 'War'}]}, {'film': [{'name': 'Cast Away'}, {'genre': 'Adventure'}]}, {'film': [{'name': 'Toy Story'}, {'genre': 'Animation'}]}, {'film': [{'name': 'The Green Mile'}, {'genre': 'Fantasy'}]}]}]}\n"
     ]
    }
   ],
   "source": [
    "from langchain_core.output_parsers import XMLOutputParser\n",
    "from langchain_core.prompts import PromptTemplate\n",
    "\n",
    "# 实例化解析器\n",
    "# parser = XMLOutputParser()\n",
    "# 方式二：指定标签\n",
    "parser = XMLOutputParser(tags=[\"movies\", \"actor\", \"film\", \"name\", \"genre\"])\n",
    "print(\"XMLOutputParser的格式指令要求为：\")\n",
    "print(parser.get_format_instructions())\n",
    "\n",
    "\n",
    "# 实例化提示词模板\n",
    "prompt = PromptTemplate(\n",
    "    template=\"{query}\\n{format_instructions}\",\n",
    "    input_variables=[\"query\"],\n",
    "    partial_variables={\"format_instructions\": parser.get_format_instructions()},\n",
    ")\n",
    "print(\"提示词模板为：\")\n",
    "print(prompt.invoke(\"\"))\n",
    "\n",
    "# 使用LCEL语法组合一个简单的链\n",
    "chain = prompt | llm | parser\n",
    "output = chain.invoke({\"query\": \"Generate the shortend filmography for Tom Hanks.\"})\n",
    "print(output)"
   ]
  }
 ],
 "metadata": {
  "kernelspec": {
   "display_name": ".venv (3.12.11)",
   "language": "python",
   "name": "python3"
  },
  "language_info": {
   "codemirror_mode": {
    "name": "ipython",
    "version": 3
   },
   "file_extension": ".py",
   "mimetype": "text/x-python",
   "name": "python",
   "nbconvert_exporter": "python",
   "pygments_lexer": "ipython3",
   "version": "3.12.11"
  }
 },
 "nbformat": 4,
 "nbformat_minor": 5
}
