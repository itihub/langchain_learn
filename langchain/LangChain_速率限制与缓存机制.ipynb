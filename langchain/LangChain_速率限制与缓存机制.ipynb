{
 "cells": [
  {
   "cell_type": "code",
   "execution_count": null,
   "id": "6c1e7919",
   "metadata": {},
   "outputs": [],
   "source": [
    "## 加载环境变量"
   ]
  },
  {
   "cell_type": "code",
   "execution_count": 1,
   "id": "9fcf1990",
   "metadata": {},
   "outputs": [
    {
     "data": {
      "text/plain": [
       "True"
      ]
     },
     "execution_count": 1,
     "metadata": {},
     "output_type": "execute_result"
    }
   ],
   "source": [
    "import os\n",
    "from dotenv import load_dotenv\n",
    "\n",
    "# 加载 .env 文件中的环境变量\n",
    "load_dotenv(override=True)  # 使用 override=True 确保加载最新的 .env 数据"
   ]
  },
  {
   "cell_type": "code",
   "execution_count": null,
   "id": "4164e729",
   "metadata": {},
   "outputs": [],
   "source": []
  },
  {
   "cell_type": "code",
   "execution_count": 2,
   "id": "f74c6c39",
   "metadata": {},
   "outputs": [],
   "source": [
    "from langchain_core.rate_limiters import InMemoryRateLimiter\n",
    "\n",
    "# InMemoryRateLimiter 只能限制单位时间内的请求数量\n",
    "# 无法处理根据请求大小来限制的情况\n",
    "rate_limiter = InMemoryRateLimiter(\n",
    "    requests_per_second=int(os.getenv(\"REQUESTS_PER_SECOND\", 1)),  # 每1秒请求一次\n",
    "    check_every_n_seconds=int(\n",
    "        os.getenv(\"CHECK_EVERY_N_SECONDS\", 0.1)\n",
    "    ),  # 每100毫秒检查一次是否允许\n",
    "    max_bucket_size=10,  # 控制最大突发大小\n",
    ")"
   ]
  },
  {
   "cell_type": "markdown",
   "id": "1f302f05",
   "metadata": {},
   "source": [
    "定义模型"
   ]
  },
  {
   "cell_type": "code",
   "execution_count": 3,
   "id": "c1f29bf1",
   "metadata": {},
   "outputs": [],
   "source": [
    "from langchain_openai import ChatOpenAI\n",
    "\n",
    "llm = ChatOpenAI(\n",
    "    model=os.environ.get(\"OPENAPI_MODEL\"),\n",
    "    base_url=os.environ.get(\"OPENAPI_API_BASE\"),\n",
    "    api_key=os.environ.get(\"OPENAPI_API_KEY\"),\n",
    "    temperature=0,\n",
    "    rate_limiter=rate_limiter,  # 添加请求速率限制\n",
    ")"
   ]
  },
  {
   "cell_type": "markdown",
   "id": "c470885b",
   "metadata": {},
   "source": []
  },
  {
   "cell_type": "code",
   "execution_count": 4,
   "id": "22e4d37b",
   "metadata": {},
   "outputs": [
    {
     "name": "stdout",
     "output_type": "stream",
     "text": [
      "请求耗时: 2.502361536026001 秒\n",
      "请求耗时: 0.8056938648223877 秒\n",
      "请求耗时: 1.7009520530700684 秒\n",
      "请求耗时: 0.9085440635681152 秒\n",
      "请求耗时: 1.5995934009552002 秒\n"
     ]
    }
   ],
   "source": [
    "import time\n",
    "\n",
    "# 使用计时器来计算每次请求的时间间隔\n",
    "for _ in range(5):\n",
    "    start_time = time.time()\n",
    "    llm.invoke(\"你好\")\n",
    "    end_time = time.time()\n",
    "    print(f\"请求耗时: {end_time - start_time} 秒\")  # 打印每次请求的耗时"
   ]
  }
 ],
 "metadata": {
  "kernelspec": {
   "display_name": ".venv (3.12.11)",
   "language": "python",
   "name": "python3"
  },
  "language_info": {
   "codemirror_mode": {
    "name": "ipython",
    "version": 3
   },
   "file_extension": ".py",
   "mimetype": "text/x-python",
   "name": "python",
   "nbconvert_exporter": "python",
   "pygments_lexer": "ipython3",
   "version": "3.12.11"
  }
 },
 "nbformat": 4,
 "nbformat_minor": 5
}
