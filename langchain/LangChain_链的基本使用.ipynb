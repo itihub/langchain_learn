{
 "cells": [
  {
   "cell_type": "markdown",
   "id": "f659f7b0",
   "metadata": {},
   "source": [
    "# LangChain链的基本使用"
   ]
  },
  {
   "cell_type": "code",
   "execution_count": 1,
   "id": "5e641012",
   "metadata": {},
   "outputs": [
    {
     "data": {
      "text/plain": [
       "True"
      ]
     },
     "execution_count": 1,
     "metadata": {},
     "output_type": "execute_result"
    }
   ],
   "source": [
    "import os\n",
    "from dotenv import load_dotenv\n",
    "\n",
    "# 加载 .env 文件中的环境变量\n",
    "load_dotenv(override=True)  # 使用 override=True 确保加载最新的 .env 数据"
   ]
  },
  {
   "cell_type": "code",
   "execution_count": 3,
   "id": "8c3182dc",
   "metadata": {},
   "outputs": [],
   "source": [
    "from langchain_openai import ChatOpenAI\n",
    "\n",
    "llm = ChatOpenAI(\n",
    "    model=os.environ.get(\"OPENAPI_MODEL\"),\n",
    "    base_url=os.environ.get(\"OPENAPI_API_BASE\"),\n",
    "    api_key=os.environ.get(\"OPENAPI_API_KEY\"),\n",
    "    temperature=0,\n",
    ")"
   ]
  },
  {
   "cell_type": "markdown",
   "id": "a3317bc5",
   "metadata": {},
   "source": [
    "## 使用管道操作符来实现一条链"
   ]
  },
  {
   "cell_type": "code",
   "execution_count": 7,
   "id": "92c55293",
   "metadata": {},
   "outputs": [
    {
     "name": "stdout",
     "output_type": "stream",
     "text": [
      "一只狗走进酒吧，对酒保说：“我能不能要一杯……呃……一杯……”  \n",
      "酒保问：“怎么了？舌头被咬住了？”  \n",
      "狗：“不，我是金毛，天生就这口音！”\n"
     ]
    }
   ],
   "source": [
    "from langchain_core.output_parsers import StrOutputParser\n",
    "from langchain_core.prompts import ChatPromptTemplate\n",
    "\n",
    "prompt = ChatPromptTemplate.from_template(\"讲一个关于{topic}的笑话，不要有任何解释\")\n",
    "\n",
    "chain = prompt | llm | StrOutputParser()\n",
    "response = chain.invoke({\"topic\": \"狗\"})\n",
    "print(response)"
   ]
  },
  {
   "cell_type": "code",
   "execution_count": 9,
   "id": "2f422d95",
   "metadata": {},
   "outputs": [
    {
     "name": "stdout",
     "output_type": "stream",
     "text": [
      "有一天，一只猫走进酒吧，跳到吧台上对酒保说：“给我来一杯牛奶。”  \n",
      "酒保惊讶地问：“哇！会说话的猫？你从哪儿学的这本事？”  \n",
      "猫淡定地舔舔爪子：“现在才问？牛奶都摆这儿好几年了。”"
     ]
    }
   ],
   "source": [
    "# 流式输出\n",
    "\n",
    "for chunk in chain.stream({\"topic\": \"猫\"}):\n",
    "    print(chunk, end=\"\", flush=True)"
   ]
  },
  {
   "cell_type": "code",
   "execution_count": 10,
   "id": "efa590b1",
   "metadata": {},
   "outputs": [
    {
     "name": "stdout",
     "output_type": "stream",
     "text": [
      "有一天，一只猫走进图书馆，走到前台对管理员说：“喵。”  \n",
      "\n",
      "管理员点点头，递给它一本《如何驯服人类》。  \n",
      "\n",
      "猫看了一眼书名，把书推回去：“喵。”（翻译：换一本。）  \n",
      "\n",
      "管理员又递上《如何让你的猫更爱你》。  \n",
      "\n",
      "猫满意地叼起书走了，心想：“终于轮到我来研究了。”"
     ]
    }
   ],
   "source": [
    "# 异步流式输出\n",
    "async for chunk in chain.astream({\"topic\": \"猫\"}):\n",
    "    print(chunk, end=\"\", flush=True)"
   ]
  },
  {
   "cell_type": "code",
   "execution_count": null,
   "id": "4463679f",
   "metadata": {},
   "outputs": [
    {
     "name": "stdout",
     "output_type": "stream",
     "text": [
      "{'event': 'on_chain_start', 'data': {'input': {'topic': '猫'}}, 'name': 'RunnableSequence', 'tags': [], 'run_id': 'b7c0ce83-30cc-4bd8-989f-81c86af8cba7', 'metadata': {}, 'parent_ids': []}\n",
      "{'event': 'on_prompt_start', 'data': {'input': {'topic': '猫'}}, 'name': 'ChatPromptTemplate', 'tags': ['seq:step:1'], 'run_id': '2a87e20f-c49c-4db2-b918-c77e9a24ba2d', 'metadata': {}, 'parent_ids': ['b7c0ce83-30cc-4bd8-989f-81c86af8cba7']}\n",
      "{'event': 'on_prompt_end', 'data': {'output': ChatPromptValue(messages=[HumanMessage(content='讲一个关于猫的笑话，不要有任何解释', additional_kwargs={}, response_metadata={})]), 'input': {'topic': '猫'}}, 'run_id': '2a87e20f-c49c-4db2-b918-c77e9a24ba2d', 'name': 'ChatPromptTemplate', 'tags': ['seq:step:1'], 'metadata': {}, 'parent_ids': ['b7c0ce83-30cc-4bd8-989f-81c86af8cba7']}\n",
      "{'event': 'on_chat_model_start', 'data': {'input': {'messages': [[HumanMessage(content='讲一个关于猫的笑话，不要有任何解释', additional_kwargs={}, response_metadata={})]]}}, 'name': 'ChatOpenAI', 'tags': ['seq:step:2'], 'run_id': 'c623aff7-af3c-4acb-9aca-9eef243bc97c', 'metadata': {'ls_provider': 'openai', 'ls_model_name': 'ep-20250218194527-6d6rz', 'ls_model_type': 'chat', 'ls_temperature': 0.0}, 'parent_ids': ['b7c0ce83-30cc-4bd8-989f-81c86af8cba7']}\n",
      "{'event': 'on_chat_model_stream', 'data': {'chunk': AIMessageChunk(content='为什么', additional_kwargs={}, response_metadata={}, id='run--c623aff7-af3c-4acb-9aca-9eef243bc97c')}, 'run_id': 'c623aff7-af3c-4acb-9aca-9eef243bc97c', 'name': 'ChatOpenAI', 'tags': ['seq:step:2'], 'metadata': {'ls_provider': 'openai', 'ls_model_name': 'ep-20250218194527-6d6rz', 'ls_model_type': 'chat', 'ls_temperature': 0.0}, 'parent_ids': ['b7c0ce83-30cc-4bd8-989f-81c86af8cba7']}\n",
      "{'event': 'on_parser_start', 'data': {}, 'name': 'StrOutputParser', 'tags': ['seq:step:3'], 'run_id': '729e78a2-8bbd-447d-97ad-309dbfc8b7d7', 'metadata': {}, 'parent_ids': ['b7c0ce83-30cc-4bd8-989f-81c86af8cba7']}\n",
      "{'event': 'on_parser_stream', 'run_id': '729e78a2-8bbd-447d-97ad-309dbfc8b7d7', 'name': 'StrOutputParser', 'tags': ['seq:step:3'], 'metadata': {}, 'data': {'chunk': '为什么'}, 'parent_ids': ['b7c0ce83-30cc-4bd8-989f-81c86af8cba7']}\n",
      "{'event': 'on_chain_stream', 'run_id': 'b7c0ce83-30cc-4bd8-989f-81c86af8cba7', 'name': 'RunnableSequence', 'tags': [], 'metadata': {}, 'data': {'chunk': '为什么'}, 'parent_ids': []}\n",
      "{'event': 'on_chat_model_stream', 'data': {'chunk': AIMessageChunk(content='猫', additional_kwargs={}, response_metadata={}, id='run--c623aff7-af3c-4acb-9aca-9eef243bc97c')}, 'run_id': 'c623aff7-af3c-4acb-9aca-9eef243bc97c', 'name': 'ChatOpenAI', 'tags': ['seq:step:2'], 'metadata': {'ls_provider': 'openai', 'ls_model_name': 'ep-20250218194527-6d6rz', 'ls_model_type': 'chat', 'ls_temperature': 0.0}, 'parent_ids': ['b7c0ce83-30cc-4bd8-989f-81c86af8cba7']}\n",
      "{'event': 'on_parser_stream', 'run_id': '729e78a2-8bbd-447d-97ad-309dbfc8b7d7', 'name': 'StrOutputParser', 'tags': ['seq:step:3'], 'metadata': {}, 'data': {'chunk': '猫'}, 'parent_ids': ['b7c0ce83-30cc-4bd8-989f-81c86af8cba7']}\n",
      "{'event': 'on_chain_stream', 'run_id': 'b7c0ce83-30cc-4bd8-989f-81c86af8cba7', 'name': 'RunnableSequence', 'tags': [], 'metadata': {}, 'data': {'chunk': '猫'}, 'parent_ids': []}\n",
      "{'event': 'on_chat_model_stream', 'data': {'chunk': AIMessageChunk(content='总是', additional_kwargs={}, response_metadata={}, id='run--c623aff7-af3c-4acb-9aca-9eef243bc97c')}, 'run_id': 'c623aff7-af3c-4acb-9aca-9eef243bc97c', 'name': 'ChatOpenAI', 'tags': ['seq:step:2'], 'metadata': {'ls_provider': 'openai', 'ls_model_name': 'ep-20250218194527-6d6rz', 'ls_model_type': 'chat', 'ls_temperature': 0.0}, 'parent_ids': ['b7c0ce83-30cc-4bd8-989f-81c86af8cba7']}\n",
      "{'event': 'on_parser_stream', 'run_id': '729e78a2-8bbd-447d-97ad-309dbfc8b7d7', 'name': 'StrOutputParser', 'tags': ['seq:step:3'], 'metadata': {}, 'data': {'chunk': '总是'}, 'parent_ids': ['b7c0ce83-30cc-4bd8-989f-81c86af8cba7']}\n",
      "{'event': 'on_chain_stream', 'run_id': 'b7c0ce83-30cc-4bd8-989f-81c86af8cba7', 'name': 'RunnableSequence', 'tags': [], 'metadata': {}, 'data': {'chunk': '总是'}, 'parent_ids': []}\n",
      "{'event': 'on_chat_model_stream', 'data': {'chunk': AIMessageChunk(content='输', additional_kwargs={}, response_metadata={}, id='run--c623aff7-af3c-4acb-9aca-9eef243bc97c')}, 'run_id': 'c623aff7-af3c-4acb-9aca-9eef243bc97c', 'name': 'ChatOpenAI', 'tags': ['seq:step:2'], 'metadata': {'ls_provider': 'openai', 'ls_model_name': 'ep-20250218194527-6d6rz', 'ls_model_type': 'chat', 'ls_temperature': 0.0}, 'parent_ids': ['b7c0ce83-30cc-4bd8-989f-81c86af8cba7']}\n",
      "{'event': 'on_parser_stream', 'run_id': '729e78a2-8bbd-447d-97ad-309dbfc8b7d7', 'name': 'StrOutputParser', 'tags': ['seq:step:3'], 'metadata': {}, 'data': {'chunk': '输'}, 'parent_ids': ['b7c0ce83-30cc-4bd8-989f-81c86af8cba7']}\n",
      "{'event': 'on_chain_stream', 'run_id': 'b7c0ce83-30cc-4bd8-989f-81c86af8cba7', 'name': 'RunnableSequence', 'tags': [], 'metadata': {}, 'data': {'chunk': '输'}, 'parent_ids': []}\n",
      "{'event': 'on_chat_model_stream', 'data': {'chunk': AIMessageChunk(content='掉', additional_kwargs={}, response_metadata={}, id='run--c623aff7-af3c-4acb-9aca-9eef243bc97c')}, 'run_id': 'c623aff7-af3c-4acb-9aca-9eef243bc97c', 'name': 'ChatOpenAI', 'tags': ['seq:step:2'], 'metadata': {'ls_provider': 'openai', 'ls_model_name': 'ep-20250218194527-6d6rz', 'ls_model_type': 'chat', 'ls_temperature': 0.0}, 'parent_ids': ['b7c0ce83-30cc-4bd8-989f-81c86af8cba7']}\n",
      "{'event': 'on_parser_stream', 'run_id': '729e78a2-8bbd-447d-97ad-309dbfc8b7d7', 'name': 'StrOutputParser', 'tags': ['seq:step:3'], 'metadata': {}, 'data': {'chunk': '掉'}, 'parent_ids': ['b7c0ce83-30cc-4bd8-989f-81c86af8cba7']}\n",
      "{'event': 'on_chain_stream', 'run_id': 'b7c0ce83-30cc-4bd8-989f-81c86af8cba7', 'name': 'RunnableSequence', 'tags': [], 'metadata': {}, 'data': {'chunk': '掉'}, 'parent_ids': []}\n",
      "{'event': 'on_chat_model_stream', 'data': {'chunk': AIMessageChunk(content='扑', additional_kwargs={}, response_metadata={}, id='run--c623aff7-af3c-4acb-9aca-9eef243bc97c')}, 'run_id': 'c623aff7-af3c-4acb-9aca-9eef243bc97c', 'name': 'ChatOpenAI', 'tags': ['seq:step:2'], 'metadata': {'ls_provider': 'openai', 'ls_model_name': 'ep-20250218194527-6d6rz', 'ls_model_type': 'chat', 'ls_temperature': 0.0}, 'parent_ids': ['b7c0ce83-30cc-4bd8-989f-81c86af8cba7']}\n",
      "{'event': 'on_parser_stream', 'run_id': '729e78a2-8bbd-447d-97ad-309dbfc8b7d7', 'name': 'StrOutputParser', 'tags': ['seq:step:3'], 'metadata': {}, 'data': {'chunk': '扑'}, 'parent_ids': ['b7c0ce83-30cc-4bd8-989f-81c86af8cba7']}\n",
      "{'event': 'on_chain_stream', 'run_id': 'b7c0ce83-30cc-4bd8-989f-81c86af8cba7', 'name': 'RunnableSequence', 'tags': [], 'metadata': {}, 'data': {'chunk': '扑'}, 'parent_ids': []}\n",
      "{'event': 'on_chat_model_stream', 'data': {'chunk': AIMessageChunk(content='克', additional_kwargs={}, response_metadata={}, id='run--c623aff7-af3c-4acb-9aca-9eef243bc97c')}, 'run_id': 'c623aff7-af3c-4acb-9aca-9eef243bc97c', 'name': 'ChatOpenAI', 'tags': ['seq:step:2'], 'metadata': {'ls_provider': 'openai', 'ls_model_name': 'ep-20250218194527-6d6rz', 'ls_model_type': 'chat', 'ls_temperature': 0.0}, 'parent_ids': ['b7c0ce83-30cc-4bd8-989f-81c86af8cba7']}\n",
      "{'event': 'on_parser_stream', 'run_id': '729e78a2-8bbd-447d-97ad-309dbfc8b7d7', 'name': 'StrOutputParser', 'tags': ['seq:step:3'], 'metadata': {}, 'data': {'chunk': '克'}, 'parent_ids': ['b7c0ce83-30cc-4bd8-989f-81c86af8cba7']}\n",
      "{'event': 'on_chain_stream', 'run_id': 'b7c0ce83-30cc-4bd8-989f-81c86af8cba7', 'name': 'RunnableSequence', 'tags': [], 'metadata': {}, 'data': {'chunk': '克'}, 'parent_ids': []}\n",
      "{'event': 'on_chat_model_stream', 'data': {'chunk': AIMessageChunk(content='比赛', additional_kwargs={}, response_metadata={}, id='run--c623aff7-af3c-4acb-9aca-9eef243bc97c')}, 'run_id': 'c623aff7-af3c-4acb-9aca-9eef243bc97c', 'name': 'ChatOpenAI', 'tags': ['seq:step:2'], 'metadata': {'ls_provider': 'openai', 'ls_model_name': 'ep-20250218194527-6d6rz', 'ls_model_type': 'chat', 'ls_temperature': 0.0}, 'parent_ids': ['b7c0ce83-30cc-4bd8-989f-81c86af8cba7']}\n",
      "{'event': 'on_parser_stream', 'run_id': '729e78a2-8bbd-447d-97ad-309dbfc8b7d7', 'name': 'StrOutputParser', 'tags': ['seq:step:3'], 'metadata': {}, 'data': {'chunk': '比赛'}, 'parent_ids': ['b7c0ce83-30cc-4bd8-989f-81c86af8cba7']}\n",
      "{'event': 'on_chain_stream', 'run_id': 'b7c0ce83-30cc-4bd8-989f-81c86af8cba7', 'name': 'RunnableSequence', 'tags': [], 'metadata': {}, 'data': {'chunk': '比赛'}, 'parent_ids': []}\n",
      "{'event': 'on_chat_model_stream', 'data': {'chunk': AIMessageChunk(content='？', additional_kwargs={}, response_metadata={}, id='run--c623aff7-af3c-4acb-9aca-9eef243bc97c')}, 'run_id': 'c623aff7-af3c-4acb-9aca-9eef243bc97c', 'name': 'ChatOpenAI', 'tags': ['seq:step:2'], 'metadata': {'ls_provider': 'openai', 'ls_model_name': 'ep-20250218194527-6d6rz', 'ls_model_type': 'chat', 'ls_temperature': 0.0}, 'parent_ids': ['b7c0ce83-30cc-4bd8-989f-81c86af8cba7']}\n",
      "{'event': 'on_parser_stream', 'run_id': '729e78a2-8bbd-447d-97ad-309dbfc8b7d7', 'name': 'StrOutputParser', 'tags': ['seq:step:3'], 'metadata': {}, 'data': {'chunk': '？'}, 'parent_ids': ['b7c0ce83-30cc-4bd8-989f-81c86af8cba7']}\n",
      "{'event': 'on_chain_stream', 'run_id': 'b7c0ce83-30cc-4bd8-989f-81c86af8cba7', 'name': 'RunnableSequence', 'tags': [], 'metadata': {}, 'data': {'chunk': '？'}, 'parent_ids': []}\n",
      "{'event': 'on_chat_model_stream', 'data': {'chunk': AIMessageChunk(content='  \\n\\n', additional_kwargs={}, response_metadata={}, id='run--c623aff7-af3c-4acb-9aca-9eef243bc97c')}, 'run_id': 'c623aff7-af3c-4acb-9aca-9eef243bc97c', 'name': 'ChatOpenAI', 'tags': ['seq:step:2'], 'metadata': {'ls_provider': 'openai', 'ls_model_name': 'ep-20250218194527-6d6rz', 'ls_model_type': 'chat', 'ls_temperature': 0.0}, 'parent_ids': ['b7c0ce83-30cc-4bd8-989f-81c86af8cba7']}\n",
      "{'event': 'on_parser_stream', 'run_id': '729e78a2-8bbd-447d-97ad-309dbfc8b7d7', 'name': 'StrOutputParser', 'tags': ['seq:step:3'], 'metadata': {}, 'data': {'chunk': '  \\n\\n'}, 'parent_ids': ['b7c0ce83-30cc-4bd8-989f-81c86af8cba7']}\n",
      "{'event': 'on_chain_stream', 'run_id': 'b7c0ce83-30cc-4bd8-989f-81c86af8cba7', 'name': 'RunnableSequence', 'tags': [], 'metadata': {}, 'data': {'chunk': '  \\n\\n'}, 'parent_ids': []}\n",
      "{'event': 'on_chat_model_stream', 'data': {'chunk': AIMessageChunk(content='因为', additional_kwargs={}, response_metadata={}, id='run--c623aff7-af3c-4acb-9aca-9eef243bc97c')}, 'run_id': 'c623aff7-af3c-4acb-9aca-9eef243bc97c', 'name': 'ChatOpenAI', 'tags': ['seq:step:2'], 'metadata': {'ls_provider': 'openai', 'ls_model_name': 'ep-20250218194527-6d6rz', 'ls_model_type': 'chat', 'ls_temperature': 0.0}, 'parent_ids': ['b7c0ce83-30cc-4bd8-989f-81c86af8cba7']}\n",
      "{'event': 'on_parser_stream', 'run_id': '729e78a2-8bbd-447d-97ad-309dbfc8b7d7', 'name': 'StrOutputParser', 'tags': ['seq:step:3'], 'metadata': {}, 'data': {'chunk': '因为'}, 'parent_ids': ['b7c0ce83-30cc-4bd8-989f-81c86af8cba7']}\n",
      "{'event': 'on_chain_stream', 'run_id': 'b7c0ce83-30cc-4bd8-989f-81c86af8cba7', 'name': 'RunnableSequence', 'tags': [], 'metadata': {}, 'data': {'chunk': '因为'}, 'parent_ids': []}\n",
      "{'event': 'on_chat_model_stream', 'data': {'chunk': AIMessageChunk(content='每次', additional_kwargs={}, response_metadata={}, id='run--c623aff7-af3c-4acb-9aca-9eef243bc97c')}, 'run_id': 'c623aff7-af3c-4acb-9aca-9eef243bc97c', 'name': 'ChatOpenAI', 'tags': ['seq:step:2'], 'metadata': {'ls_provider': 'openai', 'ls_model_name': 'ep-20250218194527-6d6rz', 'ls_model_type': 'chat', 'ls_temperature': 0.0}, 'parent_ids': ['b7c0ce83-30cc-4bd8-989f-81c86af8cba7']}\n",
      "{'event': 'on_parser_stream', 'run_id': '729e78a2-8bbd-447d-97ad-309dbfc8b7d7', 'name': 'StrOutputParser', 'tags': ['seq:step:3'], 'metadata': {}, 'data': {'chunk': '每次'}, 'parent_ids': ['b7c0ce83-30cc-4bd8-989f-81c86af8cba7']}\n",
      "{'event': 'on_chain_stream', 'run_id': 'b7c0ce83-30cc-4bd8-989f-81c86af8cba7', 'name': 'RunnableSequence', 'tags': [], 'metadata': {}, 'data': {'chunk': '每次'}, 'parent_ids': []}\n",
      "{'event': 'on_chat_model_stream', 'data': {'chunk': AIMessageChunk(content='发', additional_kwargs={}, response_metadata={}, id='run--c623aff7-af3c-4acb-9aca-9eef243bc97c')}, 'run_id': 'c623aff7-af3c-4acb-9aca-9eef243bc97c', 'name': 'ChatOpenAI', 'tags': ['seq:step:2'], 'metadata': {'ls_provider': 'openai', 'ls_model_name': 'ep-20250218194527-6d6rz', 'ls_model_type': 'chat', 'ls_temperature': 0.0}, 'parent_ids': ['b7c0ce83-30cc-4bd8-989f-81c86af8cba7']}\n",
      "{'event': 'on_parser_stream', 'run_id': '729e78a2-8bbd-447d-97ad-309dbfc8b7d7', 'name': 'StrOutputParser', 'tags': ['seq:step:3'], 'metadata': {}, 'data': {'chunk': '发'}, 'parent_ids': ['b7c0ce83-30cc-4bd8-989f-81c86af8cba7']}\n",
      "{'event': 'on_chain_stream', 'run_id': 'b7c0ce83-30cc-4bd8-989f-81c86af8cba7', 'name': 'RunnableSequence', 'tags': [], 'metadata': {}, 'data': {'chunk': '发'}, 'parent_ids': []}\n",
      "{'event': 'on_chat_model_stream', 'data': {'chunk': AIMessageChunk(content='牌', additional_kwargs={}, response_metadata={}, id='run--c623aff7-af3c-4acb-9aca-9eef243bc97c')}, 'run_id': 'c623aff7-af3c-4acb-9aca-9eef243bc97c', 'name': 'ChatOpenAI', 'tags': ['seq:step:2'], 'metadata': {'ls_provider': 'openai', 'ls_model_name': 'ep-20250218194527-6d6rz', 'ls_model_type': 'chat', 'ls_temperature': 0.0}, 'parent_ids': ['b7c0ce83-30cc-4bd8-989f-81c86af8cba7']}\n",
      "{'event': 'on_parser_stream', 'run_id': '729e78a2-8bbd-447d-97ad-309dbfc8b7d7', 'name': 'StrOutputParser', 'tags': ['seq:step:3'], 'metadata': {}, 'data': {'chunk': '牌'}, 'parent_ids': ['b7c0ce83-30cc-4bd8-989f-81c86af8cba7']}\n",
      "{'event': 'on_chain_stream', 'run_id': 'b7c0ce83-30cc-4bd8-989f-81c86af8cba7', 'name': 'RunnableSequence', 'tags': [], 'metadata': {}, 'data': {'chunk': '牌'}, 'parent_ids': []}\n",
      "{'event': 'on_chat_model_stream', 'data': {'chunk': AIMessageChunk(content='，', additional_kwargs={}, response_metadata={}, id='run--c623aff7-af3c-4acb-9aca-9eef243bc97c')}, 'run_id': 'c623aff7-af3c-4acb-9aca-9eef243bc97c', 'name': 'ChatOpenAI', 'tags': ['seq:step:2'], 'metadata': {'ls_provider': 'openai', 'ls_model_name': 'ep-20250218194527-6d6rz', 'ls_model_type': 'chat', 'ls_temperature': 0.0}, 'parent_ids': ['b7c0ce83-30cc-4bd8-989f-81c86af8cba7']}\n",
      "{'event': 'on_parser_stream', 'run_id': '729e78a2-8bbd-447d-97ad-309dbfc8b7d7', 'name': 'StrOutputParser', 'tags': ['seq:step:3'], 'metadata': {}, 'data': {'chunk': '，'}, 'parent_ids': ['b7c0ce83-30cc-4bd8-989f-81c86af8cba7']}\n",
      "{'event': 'on_chain_stream', 'run_id': 'b7c0ce83-30cc-4bd8-989f-81c86af8cba7', 'name': 'RunnableSequence', 'tags': [], 'metadata': {}, 'data': {'chunk': '，'}, 'parent_ids': []}\n",
      "{'event': 'on_chat_model_stream', 'data': {'chunk': AIMessageChunk(content='它', additional_kwargs={}, response_metadata={}, id='run--c623aff7-af3c-4acb-9aca-9eef243bc97c')}, 'run_id': 'c623aff7-af3c-4acb-9aca-9eef243bc97c', 'name': 'ChatOpenAI', 'tags': ['seq:step:2'], 'metadata': {'ls_provider': 'openai', 'ls_model_name': 'ep-20250218194527-6d6rz', 'ls_model_type': 'chat', 'ls_temperature': 0.0}, 'parent_ids': ['b7c0ce83-30cc-4bd8-989f-81c86af8cba7']}\n",
      "{'event': 'on_parser_stream', 'run_id': '729e78a2-8bbd-447d-97ad-309dbfc8b7d7', 'name': 'StrOutputParser', 'tags': ['seq:step:3'], 'metadata': {}, 'data': {'chunk': '它'}, 'parent_ids': ['b7c0ce83-30cc-4bd8-989f-81c86af8cba7']}\n",
      "{'event': 'on_chain_stream', 'run_id': 'b7c0ce83-30cc-4bd8-989f-81c86af8cba7', 'name': 'RunnableSequence', 'tags': [], 'metadata': {}, 'data': {'chunk': '它'}, 'parent_ids': []}\n",
      "{'event': 'on_chat_model_stream', 'data': {'chunk': AIMessageChunk(content='都把', additional_kwargs={}, response_metadata={}, id='run--c623aff7-af3c-4acb-9aca-9eef243bc97c')}, 'run_id': 'c623aff7-af3c-4acb-9aca-9eef243bc97c', 'name': 'ChatOpenAI', 'tags': ['seq:step:2'], 'metadata': {'ls_provider': 'openai', 'ls_model_name': 'ep-20250218194527-6d6rz', 'ls_model_type': 'chat', 'ls_temperature': 0.0}, 'parent_ids': ['b7c0ce83-30cc-4bd8-989f-81c86af8cba7']}\n",
      "{'event': 'on_parser_stream', 'run_id': '729e78a2-8bbd-447d-97ad-309dbfc8b7d7', 'name': 'StrOutputParser', 'tags': ['seq:step:3'], 'metadata': {}, 'data': {'chunk': '都把'}, 'parent_ids': ['b7c0ce83-30cc-4bd8-989f-81c86af8cba7']}\n",
      "{'event': 'on_chain_stream', 'run_id': 'b7c0ce83-30cc-4bd8-989f-81c86af8cba7', 'name': 'RunnableSequence', 'tags': [], 'metadata': {}, 'data': {'chunk': '都把'}, 'parent_ids': []}\n",
      "{'event': 'on_chat_model_stream', 'data': {'chunk': AIMessageChunk(content='牌', additional_kwargs={}, response_metadata={}, id='run--c623aff7-af3c-4acb-9aca-9eef243bc97c')}, 'run_id': 'c623aff7-af3c-4acb-9aca-9eef243bc97c', 'name': 'ChatOpenAI', 'tags': ['seq:step:2'], 'metadata': {'ls_provider': 'openai', 'ls_model_name': 'ep-20250218194527-6d6rz', 'ls_model_type': 'chat', 'ls_temperature': 0.0}, 'parent_ids': ['b7c0ce83-30cc-4bd8-989f-81c86af8cba7']}\n",
      "{'event': 'on_parser_stream', 'run_id': '729e78a2-8bbd-447d-97ad-309dbfc8b7d7', 'name': 'StrOutputParser', 'tags': ['seq:step:3'], 'metadata': {}, 'data': {'chunk': '牌'}, 'parent_ids': ['b7c0ce83-30cc-4bd8-989f-81c86af8cba7']}\n",
      "{'event': 'on_chain_stream', 'run_id': 'b7c0ce83-30cc-4bd8-989f-81c86af8cba7', 'name': 'RunnableSequence', 'tags': [], 'metadata': {}, 'data': {'chunk': '牌'}, 'parent_ids': []}\n",
      "{'event': 'on_chat_model_stream', 'data': {'chunk': AIMessageChunk(content='藏', additional_kwargs={}, response_metadata={}, id='run--c623aff7-af3c-4acb-9aca-9eef243bc97c')}, 'run_id': 'c623aff7-af3c-4acb-9aca-9eef243bc97c', 'name': 'ChatOpenAI', 'tags': ['seq:step:2'], 'metadata': {'ls_provider': 'openai', 'ls_model_name': 'ep-20250218194527-6d6rz', 'ls_model_type': 'chat', 'ls_temperature': 0.0}, 'parent_ids': ['b7c0ce83-30cc-4bd8-989f-81c86af8cba7']}\n",
      "{'event': 'on_parser_stream', 'run_id': '729e78a2-8bbd-447d-97ad-309dbfc8b7d7', 'name': 'StrOutputParser', 'tags': ['seq:step:3'], 'metadata': {}, 'data': {'chunk': '藏'}, 'parent_ids': ['b7c0ce83-30cc-4bd8-989f-81c86af8cba7']}\n",
      "{'event': 'on_chain_stream', 'run_id': 'b7c0ce83-30cc-4bd8-989f-81c86af8cba7', 'name': 'RunnableSequence', 'tags': [], 'metadata': {}, 'data': {'chunk': '藏'}, 'parent_ids': []}\n",
      "{'event': 'on_chat_model_stream', 'data': {'chunk': AIMessageChunk(content='到', additional_kwargs={}, response_metadata={}, id='run--c623aff7-af3c-4acb-9aca-9eef243bc97c')}, 'run_id': 'c623aff7-af3c-4acb-9aca-9eef243bc97c', 'name': 'ChatOpenAI', 'tags': ['seq:step:2'], 'metadata': {'ls_provider': 'openai', 'ls_model_name': 'ep-20250218194527-6d6rz', 'ls_model_type': 'chat', 'ls_temperature': 0.0}, 'parent_ids': ['b7c0ce83-30cc-4bd8-989f-81c86af8cba7']}\n",
      "{'event': 'on_parser_stream', 'run_id': '729e78a2-8bbd-447d-97ad-309dbfc8b7d7', 'name': 'StrOutputParser', 'tags': ['seq:step:3'], 'metadata': {}, 'data': {'chunk': '到'}, 'parent_ids': ['b7c0ce83-30cc-4bd8-989f-81c86af8cba7']}\n",
      "{'event': 'on_chain_stream', 'run_id': 'b7c0ce83-30cc-4bd8-989f-81c86af8cba7', 'name': 'RunnableSequence', 'tags': [], 'metadata': {}, 'data': {'chunk': '到'}, 'parent_ids': []}\n",
      "{'event': 'on_chat_model_stream', 'data': {'chunk': AIMessageChunk(content='爪子', additional_kwargs={}, response_metadata={}, id='run--c623aff7-af3c-4acb-9aca-9eef243bc97c')}, 'run_id': 'c623aff7-af3c-4acb-9aca-9eef243bc97c', 'name': 'ChatOpenAI', 'tags': ['seq:step:2'], 'metadata': {'ls_provider': 'openai', 'ls_model_name': 'ep-20250218194527-6d6rz', 'ls_model_type': 'chat', 'ls_temperature': 0.0}, 'parent_ids': ['b7c0ce83-30cc-4bd8-989f-81c86af8cba7']}\n",
      "{'event': 'on_parser_stream', 'run_id': '729e78a2-8bbd-447d-97ad-309dbfc8b7d7', 'name': 'StrOutputParser', 'tags': ['seq:step:3'], 'metadata': {}, 'data': {'chunk': '爪子'}, 'parent_ids': ['b7c0ce83-30cc-4bd8-989f-81c86af8cba7']}\n",
      "{'event': 'on_chain_stream', 'run_id': 'b7c0ce83-30cc-4bd8-989f-81c86af8cba7', 'name': 'RunnableSequence', 'tags': [], 'metadata': {}, 'data': {'chunk': '爪子'}, 'parent_ids': []}\n",
      "{'event': 'on_chat_model_stream', 'data': {'chunk': AIMessageChunk(content='底下', additional_kwargs={}, response_metadata={}, id='run--c623aff7-af3c-4acb-9aca-9eef243bc97c')}, 'run_id': 'c623aff7-af3c-4acb-9aca-9eef243bc97c', 'name': 'ChatOpenAI', 'tags': ['seq:step:2'], 'metadata': {'ls_provider': 'openai', 'ls_model_name': 'ep-20250218194527-6d6rz', 'ls_model_type': 'chat', 'ls_temperature': 0.0}, 'parent_ids': ['b7c0ce83-30cc-4bd8-989f-81c86af8cba7']}\n",
      "{'event': 'on_parser_stream', 'run_id': '729e78a2-8bbd-447d-97ad-309dbfc8b7d7', 'name': 'StrOutputParser', 'tags': ['seq:step:3'], 'metadata': {}, 'data': {'chunk': '底下'}, 'parent_ids': ['b7c0ce83-30cc-4bd8-989f-81c86af8cba7']}\n",
      "{'event': 'on_chain_stream', 'run_id': 'b7c0ce83-30cc-4bd8-989f-81c86af8cba7', 'name': 'RunnableSequence', 'tags': [], 'metadata': {}, 'data': {'chunk': '底下'}, 'parent_ids': []}\n",
      "{'event': 'on_chat_model_stream', 'data': {'chunk': AIMessageChunk(content='！', additional_kwargs={}, response_metadata={}, id='run--c623aff7-af3c-4acb-9aca-9eef243bc97c')}, 'run_id': 'c623aff7-af3c-4acb-9aca-9eef243bc97c', 'name': 'ChatOpenAI', 'tags': ['seq:step:2'], 'metadata': {'ls_provider': 'openai', 'ls_model_name': 'ep-20250218194527-6d6rz', 'ls_model_type': 'chat', 'ls_temperature': 0.0}, 'parent_ids': ['b7c0ce83-30cc-4bd8-989f-81c86af8cba7']}\n",
      "{'event': 'on_parser_stream', 'run_id': '729e78a2-8bbd-447d-97ad-309dbfc8b7d7', 'name': 'StrOutputParser', 'tags': ['seq:step:3'], 'metadata': {}, 'data': {'chunk': '！'}, 'parent_ids': ['b7c0ce83-30cc-4bd8-989f-81c86af8cba7']}\n",
      "{'event': 'on_chain_stream', 'run_id': 'b7c0ce83-30cc-4bd8-989f-81c86af8cba7', 'name': 'RunnableSequence', 'tags': [], 'metadata': {}, 'data': {'chunk': '！'}, 'parent_ids': []}\n",
      "{'event': 'on_chat_model_stream', 'data': {'chunk': AIMessageChunk(content='', additional_kwargs={}, response_metadata={'finish_reason': 'stop', 'model_name': 'deepseek-v3-250324', 'service_tier': 'default'}, id='run--c623aff7-af3c-4acb-9aca-9eef243bc97c')}, 'run_id': 'c623aff7-af3c-4acb-9aca-9eef243bc97c', 'name': 'ChatOpenAI', 'tags': ['seq:step:2'], 'metadata': {'ls_provider': 'openai', 'ls_model_name': 'ep-20250218194527-6d6rz', 'ls_model_type': 'chat', 'ls_temperature': 0.0}, 'parent_ids': ['b7c0ce83-30cc-4bd8-989f-81c86af8cba7']}\n",
      "{'event': 'on_parser_stream', 'run_id': '729e78a2-8bbd-447d-97ad-309dbfc8b7d7', 'name': 'StrOutputParser', 'tags': ['seq:step:3'], 'metadata': {}, 'data': {'chunk': ''}, 'parent_ids': ['b7c0ce83-30cc-4bd8-989f-81c86af8cba7']}\n",
      "{'event': 'on_chain_stream', 'run_id': 'b7c0ce83-30cc-4bd8-989f-81c86af8cba7', 'name': 'RunnableSequence', 'tags': [], 'metadata': {}, 'data': {'chunk': ''}, 'parent_ids': []}\n",
      "{'event': 'on_chat_model_end', 'data': {'output': AIMessageChunk(content='为什么猫总是输掉扑克比赛？  \\n\\n因为每次发牌，它都把牌藏到爪子底下！', additional_kwargs={}, response_metadata={'finish_reason': 'stop', 'model_name': 'deepseek-v3-250324', 'service_tier': 'default'}, id='run--c623aff7-af3c-4acb-9aca-9eef243bc97c'), 'input': {'messages': [[HumanMessage(content='讲一个关于猫的笑话，不要有任何解释', additional_kwargs={}, response_metadata={})]]}}, 'run_id': 'c623aff7-af3c-4acb-9aca-9eef243bc97c', 'name': 'ChatOpenAI', 'tags': ['seq:step:2'], 'metadata': {'ls_provider': 'openai', 'ls_model_name': 'ep-20250218194527-6d6rz', 'ls_model_type': 'chat', 'ls_temperature': 0.0}, 'parent_ids': ['b7c0ce83-30cc-4bd8-989f-81c86af8cba7']}\n",
      "{'event': 'on_parser_end', 'data': {'output': '为什么猫总是输掉扑克比赛？  \\n\\n因为每次发牌，它都把牌藏到爪子底下！', 'input': AIMessageChunk(content='为什么猫总是输掉扑克比赛？  \\n\\n因为每次发牌，它都把牌藏到爪子底下！', additional_kwargs={}, response_metadata={'finish_reason': 'stop', 'model_name': 'deepseek-v3-250324', 'service_tier': 'default'}, id='run--c623aff7-af3c-4acb-9aca-9eef243bc97c')}, 'run_id': '729e78a2-8bbd-447d-97ad-309dbfc8b7d7', 'name': 'StrOutputParser', 'tags': ['seq:step:3'], 'metadata': {}, 'parent_ids': ['b7c0ce83-30cc-4bd8-989f-81c86af8cba7']}\n",
      "{'event': 'on_chain_end', 'data': {'output': '为什么猫总是输掉扑克比赛？  \\n\\n因为每次发牌，它都把牌藏到爪子底下！'}, 'run_id': 'b7c0ce83-30cc-4bd8-989f-81c86af8cba7', 'name': 'RunnableSequence', 'tags': [], 'metadata': {}, 'parent_ids': []}\n"
     ]
    }
   ],
   "source": [
    "# 打印有哪些 事件流\n",
    "events = []\n",
    "async for event in chain.astream_events({\"topic\": \"猫\"}, version=\"v2\"):\n",
    "    events.append(event)\n",
    "    print(event, end=\"\\n\", flush=True)"
   ]
  },
  {
   "cell_type": "code",
   "execution_count": 14,
   "id": "90ce6868",
   "metadata": {},
   "outputs": [
    {
     "name": "stdout",
     "output_type": "stream",
     "text": [
      "{'event': 'on_parser_start', 'data': {'input': \"output a list of the countries france, spain and japan and their populations in JSON format.Use a dict with an outer key of 'countries' which contains a list of countries.Each country should be a dict with keys 'name' and 'population'.\"}, 'name': 'my_parser', 'tags': ['seq:step:2'], 'run_id': '34d1df31-6d6d-460b-af00-2b5273ad7294', 'metadata': {}, 'parent_ids': ['a44341c8-bff3-47fa-9bd2-0f4f9eca73a9']}\n",
      "{'event': 'on_parser_stream', 'run_id': '34d1df31-6d6d-460b-af00-2b5273ad7294', 'name': 'my_parser', 'tags': ['seq:step:2'], 'metadata': {}, 'data': {'chunk': {}}, 'parent_ids': ['a44341c8-bff3-47fa-9bd2-0f4f9eca73a9']}\n",
      "{'event': 'on_parser_stream', 'run_id': '34d1df31-6d6d-460b-af00-2b5273ad7294', 'name': 'my_parser', 'tags': ['seq:step:2'], 'metadata': {}, 'data': {'chunk': {'countries': []}}, 'parent_ids': ['a44341c8-bff3-47fa-9bd2-0f4f9eca73a9']}\n",
      "{'event': 'on_parser_stream', 'run_id': '34d1df31-6d6d-460b-af00-2b5273ad7294', 'name': 'my_parser', 'tags': ['seq:step:2'], 'metadata': {}, 'data': {'chunk': {'countries': [{}]}}, 'parent_ids': ['a44341c8-bff3-47fa-9bd2-0f4f9eca73a9']}\n",
      "{'event': 'on_parser_stream', 'run_id': '34d1df31-6d6d-460b-af00-2b5273ad7294', 'name': 'my_parser', 'tags': ['seq:step:2'], 'metadata': {}, 'data': {'chunk': {'countries': [{'name': ''}]}}, 'parent_ids': ['a44341c8-bff3-47fa-9bd2-0f4f9eca73a9']}\n",
      "{'event': 'on_parser_stream', 'run_id': '34d1df31-6d6d-460b-af00-2b5273ad7294', 'name': 'my_parser', 'tags': ['seq:step:2'], 'metadata': {}, 'data': {'chunk': {'countries': [{'name': 'France'}]}}, 'parent_ids': ['a44341c8-bff3-47fa-9bd2-0f4f9eca73a9']}\n",
      "{'event': 'on_parser_stream', 'run_id': '34d1df31-6d6d-460b-af00-2b5273ad7294', 'name': 'my_parser', 'tags': ['seq:step:2'], 'metadata': {}, 'data': {'chunk': {'countries': [{'name': 'France', 'population': 680}]}}, 'parent_ids': ['a44341c8-bff3-47fa-9bd2-0f4f9eca73a9']}\n",
      "{'event': 'on_parser_stream', 'run_id': '34d1df31-6d6d-460b-af00-2b5273ad7294', 'name': 'my_parser', 'tags': ['seq:step:2'], 'metadata': {}, 'data': {'chunk': {'countries': [{'name': 'France', 'population': 680425}]}}, 'parent_ids': ['a44341c8-bff3-47fa-9bd2-0f4f9eca73a9']}\n",
      "{'event': 'on_parser_stream', 'run_id': '34d1df31-6d6d-460b-af00-2b5273ad7294', 'name': 'my_parser', 'tags': ['seq:step:2'], 'metadata': {}, 'data': {'chunk': {'countries': [{'name': 'France', 'population': 68042591}]}}, 'parent_ids': ['a44341c8-bff3-47fa-9bd2-0f4f9eca73a9']}\n",
      "{'event': 'on_parser_stream', 'run_id': '34d1df31-6d6d-460b-af00-2b5273ad7294', 'name': 'my_parser', 'tags': ['seq:step:2'], 'metadata': {}, 'data': {'chunk': {'countries': [{'name': 'France', 'population': 68042591}, {}]}}, 'parent_ids': ['a44341c8-bff3-47fa-9bd2-0f4f9eca73a9']}\n",
      "{'event': 'on_parser_stream', 'run_id': '34d1df31-6d6d-460b-af00-2b5273ad7294', 'name': 'my_parser', 'tags': ['seq:step:2'], 'metadata': {}, 'data': {'chunk': {'countries': [{'name': 'France', 'population': 68042591}, {'name': ''}]}}, 'parent_ids': ['a44341c8-bff3-47fa-9bd2-0f4f9eca73a9']}\n",
      "...\n"
     ]
    }
   ],
   "source": [
    "# 事件过滤-按name\n",
    "# 按照运行时配置的name来过滤事件\n",
    "from langchain_core.output_parsers import JsonOutputParser\n",
    "\n",
    "chain = llm.with_config({\"run_name\": \"model\"}) | JsonOutputParser().with_config(\n",
    "    {\"run_name\": \"my_parser\"}\n",
    ")\n",
    "\n",
    "max_events = 0\n",
    "async for event in chain.astream_events(\n",
    "    \"output a list of the countries france, spain and japan and their populations in JSON format.\"\n",
    "    \"Use a dict with an outer key of 'countries' which contains a list of countries.\"\n",
    "    \"Each country should be a dict with keys 'name' and 'population'.\",\n",
    "    include_names=[\"my_parser\"],\n",
    "    version=\"v2\",\n",
    "):\n",
    "    print(event)\n",
    "    max_events += 1\n",
    "    if max_events > 10:\n",
    "        print(\"...\")  # indicate there are more events\n",
    "        break"
   ]
  },
  {
   "cell_type": "code",
   "execution_count": 16,
   "id": "58287811",
   "metadata": {},
   "outputs": [],
   "source": [
    "# 事件过滤-按tag标签\n",
    "from langchain_core.output_parsers import JsonOutputParser\n",
    "\n",
    "chain = llm | JsonOutputParser().with_config({\"tags\": [\"my_chain\"]})\n",
    "\n",
    "max_events = 0\n",
    "async for event in chain.astream_events(\n",
    "    \"output a list of the countries france, spain and japan and their populations in JSON format.\"\n",
    "    \"Use a dict with an outer key of 'countries' which contains a list of countries.\"\n",
    "    \"Each country should be a dict with keys 'name' and 'population'.\",\n",
    "    include_names=[\"my_chain\"],\n",
    "    version=\"v2\",\n",
    "):\n",
    "    print(event)\n",
    "    max_events += 1\n",
    "    if max_events > 10:\n",
    "        print(\"...\")  # indicate there are more events\n",
    "        break"
   ]
  },
  {
   "cell_type": "code",
   "execution_count": 18,
   "id": "e61a03f2",
   "metadata": {},
   "outputs": [
    {
     "name": "stdout",
     "output_type": "stream",
     "text": [
      "Chat model chunk: 'Here'\n",
      "Chat model chunk: ' is'\n",
      "Chat model chunk: ' the'\n",
      "Chat model chunk: ' JSON'\n",
      "Chat model chunk: ' output'\n",
      "Chat model chunk: ' with'\n",
      "Chat model chunk: ' the'\n",
      "Chat model chunk: ' requested'\n",
      "Chat model chunk: ' structure'\n",
      "Chat model chunk: ':\\n\\n'\n",
      "Chat model chunk: '```'\n",
      "Chat model chunk: 'json'\n",
      "Chat model chunk: '\\n'\n",
      "Chat model chunk: '{\\n'\n",
      "...\n"
     ]
    }
   ],
   "source": [
    "# 事件阶段过滤\n",
    "num_events = 0\n",
    "\n",
    "async for event in chain.astream_events(\n",
    "    \"output a list of the countries france, spain and japan and their populations in JSON format.\"\n",
    "    \"Use a dict with an outer key of 'countries' which contains a list of countries.\"\n",
    "    \"Each country should be a dict with keys 'name' and 'population'.\",\n",
    "    version=\"v2\",\n",
    "):\n",
    "    kind = event[\"event\"]\n",
    "    if kind == \"on_chat_model_stream\":\n",
    "        print(\n",
    "            f\"Chat model chunk: {repr(event['data']['chunk'].content)}\",\n",
    "            flush=True,\n",
    "        )\n",
    "    if kind == \"on_parser_stream\":\n",
    "        print(\n",
    "            f\"Parser chunk: {event['data']['chunk']}\",\n",
    "            flush=True,\n",
    "        )\n",
    "    max_events += 1\n",
    "    if max_events > 30:\n",
    "        print(\"...\")  # indicate there are more events\n",
    "        break"
   ]
  },
  {
   "cell_type": "markdown",
   "id": "f4e7f76f",
   "metadata": {},
   "source": [
    "## 使用pipe方法来实现一条链"
   ]
  },
  {
   "cell_type": "code",
   "execution_count": 8,
   "id": "73a0cd3c",
   "metadata": {},
   "outputs": [
    {
     "name": "stdout",
     "output_type": "stream",
     "text": [
      "一只狗走进酒吧，对酒保说：“我能不能要一杯啤酒……再听听今天的特价菜？”\n",
      "\n",
      "酒保震惊地说：“天啊！会说话的狗！这简直太不可思议了！”\n",
      "\n",
      "狗翻了个白眼：“哇哦，会说话的狗才不可思议？你刚才可是毫不犹豫地准备给我倒啤酒呢。”\n"
     ]
    }
   ],
   "source": [
    "from langchain_core.output_parsers import StrOutputParser\n",
    "from langchain_core.prompts import ChatPromptTemplate\n",
    "\n",
    "prompt = ChatPromptTemplate.from_template(\"讲一个关于{topic}的笑话，不要有任何解释\")\n",
    "\n",
    "chain = prompt.pipe(llm).pipe(StrOutputParser())\n",
    "response = chain.invoke({\"topic\": \"狗\"})\n",
    "print(response)"
   ]
  },
  {
   "cell_type": "markdown",
   "id": "97be6f40",
   "metadata": {},
   "source": [
    "## 链的并行执行"
   ]
  },
  {
   "cell_type": "code",
   "execution_count": 20,
   "id": "47a973f1",
   "metadata": {},
   "outputs": [
    {
     "data": {
      "text/plain": [
       "{'joke': AIMessage(content='为什么猫总是输掉扑克比赛？  \\n\\n因为它们的“扑克脸”太明显了——每次抓到好牌，尾巴就翘上天了！', additional_kwargs={'refusal': None}, response_metadata={'token_usage': {'completion_tokens': 32, 'prompt_tokens': 13, 'total_tokens': 45, 'completion_tokens_details': {'accepted_prediction_tokens': None, 'audio_tokens': None, 'reasoning_tokens': 0, 'rejected_prediction_tokens': None}, 'prompt_tokens_details': {'audio_tokens': None, 'cached_tokens': 0}}, 'model_name': 'deepseek-v3-250324', 'system_fingerprint': None, 'id': '02175755978315664ec4d8b76aec9b104893191049097998cf469', 'service_tier': 'default', 'finish_reason': 'stop', 'logprobs': None}, id='run--c1db8f91-01a7-4b6c-b67d-f19985f7c9ec-0', usage_metadata={'input_tokens': 13, 'output_tokens': 32, 'total_tokens': 45, 'input_token_details': {'cache_read': 0}, 'output_token_details': {'reasoning': 0}}),\n",
       " 'poem': AIMessage(content='《猫的十四行》\\n\\n\\n它把整个下午蜷成毛线球，\\n在窗台边，在光与影的间隙。\\n偶尔伸出前爪试探风的去向，\\n却始终守着那寸温暖的领地。\\n\\n胡须丈量过所有黑暗的角落，\\n瞳孔里竖着整座夜的水晶。\\n当它跃起时，空气泛起涟漪，\\n像一篇突然押韵的散文。\\n\\n有时它蹲在哲学的封面，\\n有时把呼噜声撒进琴箱。\\n它用尾巴修改阳光的角度，\\n让阴影长出柔软的绒毛。\\n\\n我们自以为豢养了猫，\\n其实只是为它保管了，\\n通往人间的门。', additional_kwargs={'refusal': None}, response_metadata={'token_usage': {'completion_tokens': 133, 'prompt_tokens': 8, 'total_tokens': 141, 'completion_tokens_details': {'accepted_prediction_tokens': None, 'audio_tokens': None, 'reasoning_tokens': 0, 'rejected_prediction_tokens': None}, 'prompt_tokens_details': {'audio_tokens': None, 'cached_tokens': 0}}, 'model_name': 'deepseek-v3-250324', 'system_fingerprint': None, 'id': '021757559783169c7104df5db995bf7eb688216dfba9efefab576', 'service_tier': 'default', 'finish_reason': 'stop', 'logprobs': None}, id='run--30ac7fb3-fbcd-435a-b672-2e5d5d50f16e-0', usage_metadata={'input_tokens': 8, 'output_tokens': 133, 'total_tokens': 141, 'input_token_details': {'cache_read': 0}, 'output_token_details': {'reasoning': 0}})}"
      ]
     },
     "execution_count": 20,
     "metadata": {},
     "output_type": "execute_result"
    }
   ],
   "source": [
    "from langchain_core.prompts import ChatPromptTemplate\n",
    "from langchain_core.runnables import RunnableParallel\n",
    "\n",
    "# 定义两个链\n",
    "joke_chain = (\n",
    "    ChatPromptTemplate.from_template(\"讲一个关于{topic}的笑话，不要有任何解释\") | llm\n",
    ")\n",
    "poem_chain = ChatPromptTemplate.from_template(\"写一首关于{topic}的诗\") | llm\n",
    "\n",
    "# 合并两个链\n",
    "map_chain = RunnableParallel(joke=joke_chain, poem=poem_chain)\n",
    "\n",
    "# 执行链\n",
    "map_chain.invoke({\"topic\": \"猫\"})"
   ]
  },
  {
   "cell_type": "code",
   "execution_count": 22,
   "id": "d966054b",
   "metadata": {},
   "outputs": [
    {
     "name": "stdout",
     "output_type": "stream",
     "text": [
      "Looking in indexes: https://pypi.tuna.tsinghua.edu.cn/simple\n",
      "Collecting grandalf\n",
      "  Downloading https://pypi.tuna.tsinghua.edu.cn/packages/61/30/44c7eb0a952478dbb5f2f67df806686d6a7e4b19f6204e091c4f49dc7c69/grandalf-0.8-py3-none-any.whl (41 kB)\n",
      "Collecting pyparsing (from grandalf)\n",
      "  Using cached https://pypi.tuna.tsinghua.edu.cn/packages/05/e7/df2285f3d08fee213f2d041540fa4fc9ca6c2d44cf36d3a035bf2a8d2bcc/pyparsing-3.2.3-py3-none-any.whl (111 kB)\n",
      "Installing collected packages: pyparsing, grandalf\n",
      "\u001b[2K   \u001b[90m━━━━━━━━━━━━━━━━━━━━━━━━━━━━━━━━━━━━━━━━\u001b[0m \u001b[32m2/2\u001b[0m [grandalf]\n",
      "\u001b[1A\u001b[2KSuccessfully installed grandalf-0.8 pyparsing-3.2.3\n"
     ]
    }
   ],
   "source": [
    "! pip install grandalf"
   ]
  },
  {
   "cell_type": "code",
   "execution_count": null,
   "id": "4f1b817c",
   "metadata": {},
   "outputs": [
    {
     "name": "stdout",
     "output_type": "stream",
     "text": [
      "               +--------------------------+                \n",
      "               | Parallel<joke,poem>Input |                \n",
      "               +--------------------------+                \n",
      "                   ***               ***                   \n",
      "                ***                     ***                \n",
      "              **                           **              \n",
      "+--------------------+              +--------------------+ \n",
      "| ChatPromptTemplate |              | ChatPromptTemplate | \n",
      "+--------------------+              +--------------------+ \n",
      "           *                                   *           \n",
      "           *                                   *           \n",
      "           *                                   *           \n",
      "    +------------+                      +------------+     \n",
      "    | ChatOpenAI |                      | ChatOpenAI |     \n",
      "    +------------+*                     +------------+     \n",
      "                   ***               ***                   \n",
      "                      ***         ***                      \n",
      "                         **     **                         \n",
      "              +---------------------------+                \n",
      "              | Parallel<joke,poem>Output |                \n",
      "              +---------------------------+                \n"
     ]
    }
   ],
   "source": [
    "# 查看链的图形表示\n",
    "# map_chain.get_graph()\n",
    "map_chain.get_graph().print_ascii()"
   ]
  }
 ],
 "metadata": {
  "kernelspec": {
   "display_name": ".venv (3.12.11)",
   "language": "python",
   "name": "python3"
  },
  "language_info": {
   "codemirror_mode": {
    "name": "ipython",
    "version": 3
   },
   "file_extension": ".py",
   "mimetype": "text/x-python",
   "name": "python",
   "nbconvert_exporter": "python",
   "pygments_lexer": "ipython3",
   "version": "3.12.11"
  }
 },
 "nbformat": 4,
 "nbformat_minor": 5
}
