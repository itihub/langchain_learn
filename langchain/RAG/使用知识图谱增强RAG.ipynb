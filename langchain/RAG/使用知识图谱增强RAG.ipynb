{
 "cells": [
  {
   "cell_type": "markdown",
   "id": "53ca498f",
   "metadata": {},
   "source": [
    "# Graph RAG\n",
    "使用知识图片来增强检索"
   ]
  },
  {
   "cell_type": "code",
   "execution_count": 5,
   "id": "e4b96fcd",
   "metadata": {},
   "outputs": [
    {
     "data": {
      "text/plain": [
       "True"
      ]
     },
     "execution_count": 5,
     "metadata": {},
     "output_type": "execute_result"
    }
   ],
   "source": [
    "import os\n",
    "from dotenv import load_dotenv\n",
    "\n",
    "# 加载 .env 文件中的环境变量\n",
    "load_dotenv(override=True)  # 使用 override=True 确保加载最新的 .env 数据"
   ]
  },
  {
   "cell_type": "code",
   "execution_count": 6,
   "id": "54e467a5",
   "metadata": {},
   "outputs": [],
   "source": [
    "from langchain_openai import ChatOpenAI\n",
    "\n",
    "llm = ChatOpenAI(\n",
    "    model=os.environ.get(\"OPENAPI_MODEL\"),\n",
    "    base_url=os.environ.get(\"OPENAPI_API_BASE\"),\n",
    "    api_key=os.environ.get(\"OPENAPI_API_KEY\"),\n",
    "    temperature=0,\n",
    ")"
   ]
  },
  {
   "cell_type": "code",
   "execution_count": 7,
   "id": "20de6ddb",
   "metadata": {},
   "outputs": [],
   "source": [
    "from langchain_openai import OpenAIEmbeddings\n",
    "\n",
    "embeddings_model = OpenAIEmbeddings(\n",
    "    model=\"BAAI/bge-m3\",\n",
    "    # https://api.siliconflow.cn/v1/embeddings\n",
    "    base_url=os.environ.get(\"SILICONFLOW_API_BASE\"),\n",
    "    api_key=os.environ.get(\"SILICONFLOW_API_KEY\"),\n",
    ")\n"
   ]
  },
  {
   "cell_type": "code",
   "execution_count": 4,
   "id": "ba345115",
   "metadata": {},
   "outputs": [
    {
     "name": "stdout",
     "output_type": "stream",
     "text": [
      "Looking in indexes: https://pypi.tuna.tsinghua.edu.cn/simple\n",
      "Requirement already satisfied: graph_rag_example_helpers in /home/jizhe/projects/python/langchain_learn/.venv/lib/python3.12/site-packages (0.8.0)\n",
      "Requirement already satisfied: astrapy>=1.5.2 in /home/jizhe/projects/python/langchain_learn/.venv/lib/python3.12/site-packages (from graph_rag_example_helpers) (2.0.1)\n",
      "Requirement already satisfied: backoff>=2.2.1 in /home/jizhe/projects/python/langchain_learn/.venv/lib/python3.12/site-packages (from graph_rag_example_helpers) (2.2.1)\n",
      "Requirement already satisfied: graph-retriever in /home/jizhe/projects/python/langchain_learn/.venv/lib/python3.12/site-packages (from graph_rag_example_helpers) (0.8.0)\n",
      "Requirement already satisfied: griffe>=1.5.7 in /home/jizhe/projects/python/langchain_learn/.venv/lib/python3.12/site-packages (from graph_rag_example_helpers) (1.14.0)\n",
      "Requirement already satisfied: httpx>=0.28.1 in /home/jizhe/projects/python/langchain_learn/.venv/lib/python3.12/site-packages (from graph_rag_example_helpers) (0.28.1)\n",
      "Requirement already satisfied: langchain-core>=0.3.29 in /home/jizhe/projects/python/langchain_learn/.venv/lib/python3.12/site-packages (from graph_rag_example_helpers) (0.3.76)\n",
      "Requirement already satisfied: python-dotenv>=1.0.1 in /home/jizhe/projects/python/langchain_learn/.venv/lib/python3.12/site-packages (from graph_rag_example_helpers) (1.1.1)\n",
      "Requirement already satisfied: requests>=2.32.3 in /home/jizhe/projects/python/langchain_learn/.venv/lib/python3.12/site-packages (from graph_rag_example_helpers) (2.32.5)\n",
      "Requirement already satisfied: simsimd>=6.2.1 in /home/jizhe/projects/python/langchain_learn/.venv/lib/python3.12/site-packages (from graph_rag_example_helpers) (6.5.3)\n",
      "Requirement already satisfied: tqdm>=4.67.1 in /home/jizhe/projects/python/langchain_learn/.venv/lib/python3.12/site-packages (from graph_rag_example_helpers) (4.67.1)\n",
      "Requirement already satisfied: deprecation<2.2.0,>=2.1.0 in /home/jizhe/projects/python/langchain_learn/.venv/lib/python3.12/site-packages (from astrapy>=1.5.2->graph_rag_example_helpers) (2.1.0)\n",
      "Requirement already satisfied: pymongo>=3 in /home/jizhe/projects/python/langchain_learn/.venv/lib/python3.12/site-packages (from astrapy>=1.5.2->graph_rag_example_helpers) (4.15.1)\n",
      "Requirement already satisfied: toml<0.11.0,>=0.10.2 in /home/jizhe/projects/python/langchain_learn/.venv/lib/python3.12/site-packages (from astrapy>=1.5.2->graph_rag_example_helpers) (0.10.2)\n",
      "Requirement already satisfied: typing-extensions>=4.0 in /home/jizhe/projects/python/langchain_learn/.venv/lib/python3.12/site-packages (from astrapy>=1.5.2->graph_rag_example_helpers) (4.14.1)\n",
      "Requirement already satisfied: uuid6>=2024.1.12 in /home/jizhe/projects/python/langchain_learn/.venv/lib/python3.12/site-packages (from astrapy>=1.5.2->graph_rag_example_helpers) (2025.0.1)\n",
      "Requirement already satisfied: packaging in /home/jizhe/projects/python/langchain_learn/.venv/lib/python3.12/site-packages (from deprecation<2.2.0,>=2.1.0->astrapy>=1.5.2->graph_rag_example_helpers) (24.2)\n",
      "Requirement already satisfied: anyio in /home/jizhe/projects/python/langchain_learn/.venv/lib/python3.12/site-packages (from httpx>=0.28.1->graph_rag_example_helpers) (4.10.0)\n",
      "Requirement already satisfied: certifi in /home/jizhe/projects/python/langchain_learn/.venv/lib/python3.12/site-packages (from httpx>=0.28.1->graph_rag_example_helpers) (2025.8.3)\n",
      "Requirement already satisfied: httpcore==1.* in /home/jizhe/projects/python/langchain_learn/.venv/lib/python3.12/site-packages (from httpx>=0.28.1->graph_rag_example_helpers) (1.0.9)\n",
      "Requirement already satisfied: idna in /home/jizhe/projects/python/langchain_learn/.venv/lib/python3.12/site-packages (from httpx>=0.28.1->graph_rag_example_helpers) (3.10)\n",
      "Requirement already satisfied: h11>=0.16 in /home/jizhe/projects/python/langchain_learn/.venv/lib/python3.12/site-packages (from httpcore==1.*->httpx>=0.28.1->graph_rag_example_helpers) (0.16.0)\n",
      "Requirement already satisfied: h2<5,>=3 in /home/jizhe/projects/python/langchain_learn/.venv/lib/python3.12/site-packages (from httpx[http2]<1,>=0.25.2->astrapy>=1.5.2->graph_rag_example_helpers) (4.3.0)\n",
      "Requirement already satisfied: hyperframe<7,>=6.1 in /home/jizhe/projects/python/langchain_learn/.venv/lib/python3.12/site-packages (from h2<5,>=3->httpx[http2]<1,>=0.25.2->astrapy>=1.5.2->graph_rag_example_helpers) (6.1.0)\n",
      "Requirement already satisfied: hpack<5,>=4.1 in /home/jizhe/projects/python/langchain_learn/.venv/lib/python3.12/site-packages (from h2<5,>=3->httpx[http2]<1,>=0.25.2->astrapy>=1.5.2->graph_rag_example_helpers) (4.1.0)\n",
      "Requirement already satisfied: colorama>=0.4 in /home/jizhe/projects/python/langchain_learn/.venv/lib/python3.12/site-packages (from griffe>=1.5.7->graph_rag_example_helpers) (0.4.6)\n",
      "Requirement already satisfied: langsmith>=0.3.45 in /home/jizhe/projects/python/langchain_learn/.venv/lib/python3.12/site-packages (from langchain-core>=0.3.29->graph_rag_example_helpers) (0.4.15)\n",
      "Requirement already satisfied: tenacity!=8.4.0,<10.0.0,>=8.1.0 in /home/jizhe/projects/python/langchain_learn/.venv/lib/python3.12/site-packages (from langchain-core>=0.3.29->graph_rag_example_helpers) (9.1.2)\n",
      "Requirement already satisfied: jsonpatch<2.0,>=1.33 in /home/jizhe/projects/python/langchain_learn/.venv/lib/python3.12/site-packages (from langchain-core>=0.3.29->graph_rag_example_helpers) (1.33)\n",
      "Requirement already satisfied: PyYAML>=5.3 in /home/jizhe/projects/python/langchain_learn/.venv/lib/python3.12/site-packages (from langchain-core>=0.3.29->graph_rag_example_helpers) (6.0.2)\n",
      "Requirement already satisfied: pydantic>=2.7.4 in /home/jizhe/projects/python/langchain_learn/.venv/lib/python3.12/site-packages (from langchain-core>=0.3.29->graph_rag_example_helpers) (2.11.7)\n",
      "Requirement already satisfied: jsonpointer>=1.9 in /home/jizhe/projects/python/langchain_learn/.venv/lib/python3.12/site-packages (from jsonpatch<2.0,>=1.33->langchain-core>=0.3.29->graph_rag_example_helpers) (3.0.0)\n",
      "Requirement already satisfied: orjson>=3.9.14 in /home/jizhe/projects/python/langchain_learn/.venv/lib/python3.12/site-packages (from langsmith>=0.3.45->langchain-core>=0.3.29->graph_rag_example_helpers) (3.11.2)\n",
      "Requirement already satisfied: requests-toolbelt>=1.0.0 in /home/jizhe/projects/python/langchain_learn/.venv/lib/python3.12/site-packages (from langsmith>=0.3.45->langchain-core>=0.3.29->graph_rag_example_helpers) (1.0.0)\n",
      "Requirement already satisfied: zstandard>=0.23.0 in /home/jizhe/projects/python/langchain_learn/.venv/lib/python3.12/site-packages (from langsmith>=0.3.45->langchain-core>=0.3.29->graph_rag_example_helpers) (0.24.0)\n",
      "Requirement already satisfied: annotated-types>=0.6.0 in /home/jizhe/projects/python/langchain_learn/.venv/lib/python3.12/site-packages (from pydantic>=2.7.4->langchain-core>=0.3.29->graph_rag_example_helpers) (0.7.0)\n",
      "Requirement already satisfied: pydantic-core==2.33.2 in /home/jizhe/projects/python/langchain_learn/.venv/lib/python3.12/site-packages (from pydantic>=2.7.4->langchain-core>=0.3.29->graph_rag_example_helpers) (2.33.2)\n",
      "Requirement already satisfied: typing-inspection>=0.4.0 in /home/jizhe/projects/python/langchain_learn/.venv/lib/python3.12/site-packages (from pydantic>=2.7.4->langchain-core>=0.3.29->graph_rag_example_helpers) (0.4.1)\n",
      "Requirement already satisfied: dnspython<3.0.0,>=1.16.0 in /home/jizhe/projects/python/langchain_learn/.venv/lib/python3.12/site-packages (from pymongo>=3->astrapy>=1.5.2->graph_rag_example_helpers) (2.8.0)\n",
      "Requirement already satisfied: charset_normalizer<4,>=2 in /home/jizhe/projects/python/langchain_learn/.venv/lib/python3.12/site-packages (from requests>=2.32.3->graph_rag_example_helpers) (3.4.3)\n",
      "Requirement already satisfied: urllib3<3,>=1.21.1 in /home/jizhe/projects/python/langchain_learn/.venv/lib/python3.12/site-packages (from requests>=2.32.3->graph_rag_example_helpers) (2.5.0)\n",
      "Requirement already satisfied: sniffio>=1.1 in /home/jizhe/projects/python/langchain_learn/.venv/lib/python3.12/site-packages (from anyio->httpx>=0.28.1->graph_rag_example_helpers) (1.3.1)\n",
      "Requirement already satisfied: immutabledict>=4.2.1 in /home/jizhe/projects/python/langchain_learn/.venv/lib/python3.12/site-packages (from graph-retriever->graph_rag_example_helpers) (4.2.1)\n",
      "Requirement already satisfied: numpy>=1.26.4 in /home/jizhe/projects/python/langchain_learn/.venv/lib/python3.12/site-packages (from graph-retriever->graph_rag_example_helpers) (2.3.2)\n",
      "Requirement already satisfied: pytest>=8.3.4 in /home/jizhe/projects/python/langchain_learn/.venv/lib/python3.12/site-packages (from graph-retriever->graph_rag_example_helpers) (8.4.2)\n",
      "Requirement already satisfied: iniconfig>=1 in /home/jizhe/projects/python/langchain_learn/.venv/lib/python3.12/site-packages (from pytest>=8.3.4->graph-retriever->graph_rag_example_helpers) (2.1.0)\n",
      "Requirement already satisfied: pluggy<2,>=1.5 in /home/jizhe/projects/python/langchain_learn/.venv/lib/python3.12/site-packages (from pytest>=8.3.4->graph-retriever->graph_rag_example_helpers) (1.6.0)\n",
      "Requirement already satisfied: pygments>=2.7.2 in /home/jizhe/projects/python/langchain_learn/.venv/lib/python3.12/site-packages (from pytest>=8.3.4->graph-retriever->graph_rag_example_helpers) (2.19.2)\n",
      "Looking in indexes: https://pypi.tuna.tsinghua.edu.cn/simple\n",
      "Collecting langchain-graph-retriever[chroma]\n",
      "  Downloading https://pypi.tuna.tsinghua.edu.cn/packages/5c/b9/347f2bb6d50f7733c7b78b84ce872c3cc4b64bbfa479bc7f367a80b48957/langchain_graph_retriever-0.8.0-py3-none-any.whl (33 kB)\n",
      "Requirement already satisfied: backoff>=2.2.1 in /home/jizhe/projects/python/langchain_learn/.venv/lib/python3.12/site-packages (from langchain-graph-retriever[chroma]) (2.2.1)\n",
      "Requirement already satisfied: graph-retriever in /home/jizhe/projects/python/langchain_learn/.venv/lib/python3.12/site-packages (from langchain-graph-retriever[chroma]) (0.8.0)\n",
      "Requirement already satisfied: immutabledict>=4.2.1 in /home/jizhe/projects/python/langchain_learn/.venv/lib/python3.12/site-packages (from langchain-graph-retriever[chroma]) (4.2.1)\n",
      "Requirement already satisfied: langchain-core>=0.3.29 in /home/jizhe/projects/python/langchain_learn/.venv/lib/python3.12/site-packages (from langchain-graph-retriever[chroma]) (0.3.76)\n",
      "Collecting networkx>=3.4.2 (from langchain-graph-retriever[chroma])\n",
      "  Downloading https://pypi.tuna.tsinghua.edu.cn/packages/eb/8d/776adee7bbf76365fdd7f2552710282c79a4ead5d2a46408c9043a2b70ba/networkx-3.5-py3-none-any.whl (2.0 MB)\n",
      "\u001b[2K     \u001b[90m━━━━━━━━━━━━━━━━━━━━━━━━━━━━━━━━━━━━━━━━\u001b[0m \u001b[32m2.0/2.0 MB\u001b[0m \u001b[31m944.6 kB/s\u001b[0m  \u001b[33m0:00:02\u001b[0m eta \u001b[36m0:00:01\u001b[0m\n",
      "\u001b[?25hRequirement already satisfied: pydantic>=2.10.4 in /home/jizhe/projects/python/langchain_learn/.venv/lib/python3.12/site-packages (from langchain-graph-retriever[chroma]) (2.11.7)\n",
      "Requirement already satisfied: typing-extensions>=4.12.2 in /home/jizhe/projects/python/langchain_learn/.venv/lib/python3.12/site-packages (from langchain-graph-retriever[chroma]) (4.14.1)\n",
      "Requirement already satisfied: chromadb>=0.5.23 in /home/jizhe/projects/python/langchain_learn/.venv/lib/python3.12/site-packages (from langchain-graph-retriever[chroma]) (1.1.0)\n",
      "Requirement already satisfied: langchain-chroma>=0.2.0 in /home/jizhe/projects/python/langchain_learn/.venv/lib/python3.12/site-packages (from langchain-graph-retriever[chroma]) (0.2.6)\n",
      "Requirement already satisfied: build>=1.0.3 in /home/jizhe/projects/python/langchain_learn/.venv/lib/python3.12/site-packages (from chromadb>=0.5.23->langchain-graph-retriever[chroma]) (1.3.0)\n",
      "Requirement already satisfied: pybase64>=1.4.1 in /home/jizhe/projects/python/langchain_learn/.venv/lib/python3.12/site-packages (from chromadb>=0.5.23->langchain-graph-retriever[chroma]) (1.4.2)\n",
      "Requirement already satisfied: uvicorn>=0.18.3 in /home/jizhe/projects/python/langchain_learn/.venv/lib/python3.12/site-packages (from uvicorn[standard]>=0.18.3->chromadb>=0.5.23->langchain-graph-retriever[chroma]) (0.35.0)\n",
      "Requirement already satisfied: numpy>=1.22.5 in /home/jizhe/projects/python/langchain_learn/.venv/lib/python3.12/site-packages (from chromadb>=0.5.23->langchain-graph-retriever[chroma]) (2.3.2)\n",
      "Requirement already satisfied: posthog<6.0.0,>=2.4.0 in /home/jizhe/projects/python/langchain_learn/.venv/lib/python3.12/site-packages (from chromadb>=0.5.23->langchain-graph-retriever[chroma]) (5.4.0)\n",
      "Requirement already satisfied: onnxruntime>=1.14.1 in /home/jizhe/projects/python/langchain_learn/.venv/lib/python3.12/site-packages (from chromadb>=0.5.23->langchain-graph-retriever[chroma]) (1.19.2)\n",
      "Requirement already satisfied: opentelemetry-api>=1.2.0 in /home/jizhe/projects/python/langchain_learn/.venv/lib/python3.12/site-packages (from chromadb>=0.5.23->langchain-graph-retriever[chroma]) (1.36.0)\n",
      "Requirement already satisfied: opentelemetry-exporter-otlp-proto-grpc>=1.2.0 in /home/jizhe/projects/python/langchain_learn/.venv/lib/python3.12/site-packages (from chromadb>=0.5.23->langchain-graph-retriever[chroma]) (1.36.0)\n",
      "Requirement already satisfied: opentelemetry-sdk>=1.2.0 in /home/jizhe/projects/python/langchain_learn/.venv/lib/python3.12/site-packages (from chromadb>=0.5.23->langchain-graph-retriever[chroma]) (1.36.0)\n",
      "Requirement already satisfied: tokenizers>=0.13.2 in /home/jizhe/projects/python/langchain_learn/.venv/lib/python3.12/site-packages (from chromadb>=0.5.23->langchain-graph-retriever[chroma]) (0.22.0)\n",
      "Requirement already satisfied: pypika>=0.48.9 in /home/jizhe/projects/python/langchain_learn/.venv/lib/python3.12/site-packages (from chromadb>=0.5.23->langchain-graph-retriever[chroma]) (0.48.9)\n",
      "Requirement already satisfied: tqdm>=4.65.0 in /home/jizhe/projects/python/langchain_learn/.venv/lib/python3.12/site-packages (from chromadb>=0.5.23->langchain-graph-retriever[chroma]) (4.67.1)\n",
      "Requirement already satisfied: overrides>=7.3.1 in /home/jizhe/projects/python/langchain_learn/.venv/lib/python3.12/site-packages (from chromadb>=0.5.23->langchain-graph-retriever[chroma]) (7.7.0)\n",
      "Requirement already satisfied: importlib-resources in /home/jizhe/projects/python/langchain_learn/.venv/lib/python3.12/site-packages (from chromadb>=0.5.23->langchain-graph-retriever[chroma]) (6.5.2)\n",
      "Requirement already satisfied: grpcio>=1.58.0 in /home/jizhe/projects/python/langchain_learn/.venv/lib/python3.12/site-packages (from chromadb>=0.5.23->langchain-graph-retriever[chroma]) (1.74.0)\n",
      "Requirement already satisfied: bcrypt>=4.0.1 in /home/jizhe/projects/python/langchain_learn/.venv/lib/python3.12/site-packages (from chromadb>=0.5.23->langchain-graph-retriever[chroma]) (4.3.0)\n",
      "Requirement already satisfied: typer>=0.9.0 in /home/jizhe/projects/python/langchain_learn/.venv/lib/python3.12/site-packages (from chromadb>=0.5.23->langchain-graph-retriever[chroma]) (0.17.3)\n",
      "Requirement already satisfied: kubernetes>=28.1.0 in /home/jizhe/projects/python/langchain_learn/.venv/lib/python3.12/site-packages (from chromadb>=0.5.23->langchain-graph-retriever[chroma]) (33.1.0)\n",
      "Requirement already satisfied: tenacity>=8.2.3 in /home/jizhe/projects/python/langchain_learn/.venv/lib/python3.12/site-packages (from chromadb>=0.5.23->langchain-graph-retriever[chroma]) (9.1.2)\n",
      "Requirement already satisfied: pyyaml>=6.0.0 in /home/jizhe/projects/python/langchain_learn/.venv/lib/python3.12/site-packages (from chromadb>=0.5.23->langchain-graph-retriever[chroma]) (6.0.2)\n",
      "Requirement already satisfied: mmh3>=4.0.1 in /home/jizhe/projects/python/langchain_learn/.venv/lib/python3.12/site-packages (from chromadb>=0.5.23->langchain-graph-retriever[chroma]) (4.1.0)\n",
      "Requirement already satisfied: orjson>=3.9.12 in /home/jizhe/projects/python/langchain_learn/.venv/lib/python3.12/site-packages (from chromadb>=0.5.23->langchain-graph-retriever[chroma]) (3.11.2)\n",
      "Requirement already satisfied: httpx>=0.27.0 in /home/jizhe/projects/python/langchain_learn/.venv/lib/python3.12/site-packages (from chromadb>=0.5.23->langchain-graph-retriever[chroma]) (0.28.1)\n",
      "Requirement already satisfied: rich>=10.11.0 in /home/jizhe/projects/python/langchain_learn/.venv/lib/python3.12/site-packages (from chromadb>=0.5.23->langchain-graph-retriever[chroma]) (14.1.0)\n",
      "Requirement already satisfied: jsonschema>=4.19.0 in /home/jizhe/projects/python/langchain_learn/.venv/lib/python3.12/site-packages (from chromadb>=0.5.23->langchain-graph-retriever[chroma]) (4.25.1)\n",
      "Requirement already satisfied: requests<3.0,>=2.7 in /home/jizhe/projects/python/langchain_learn/.venv/lib/python3.12/site-packages (from posthog<6.0.0,>=2.4.0->chromadb>=0.5.23->langchain-graph-retriever[chroma]) (2.32.5)\n",
      "Requirement already satisfied: six>=1.5 in /home/jizhe/projects/python/langchain_learn/.venv/lib/python3.12/site-packages (from posthog<6.0.0,>=2.4.0->chromadb>=0.5.23->langchain-graph-retriever[chroma]) (1.17.0)\n",
      "Requirement already satisfied: python-dateutil>=2.2 in /home/jizhe/projects/python/langchain_learn/.venv/lib/python3.12/site-packages (from posthog<6.0.0,>=2.4.0->chromadb>=0.5.23->langchain-graph-retriever[chroma]) (2.9.0.post0)\n",
      "Requirement already satisfied: distro>=1.5.0 in /home/jizhe/projects/python/langchain_learn/.venv/lib/python3.12/site-packages (from posthog<6.0.0,>=2.4.0->chromadb>=0.5.23->langchain-graph-retriever[chroma]) (1.9.0)\n",
      "Requirement already satisfied: charset_normalizer<4,>=2 in /home/jizhe/projects/python/langchain_learn/.venv/lib/python3.12/site-packages (from requests<3.0,>=2.7->posthog<6.0.0,>=2.4.0->chromadb>=0.5.23->langchain-graph-retriever[chroma]) (3.4.3)\n",
      "Requirement already satisfied: idna<4,>=2.5 in /home/jizhe/projects/python/langchain_learn/.venv/lib/python3.12/site-packages (from requests<3.0,>=2.7->posthog<6.0.0,>=2.4.0->chromadb>=0.5.23->langchain-graph-retriever[chroma]) (3.10)\n",
      "Requirement already satisfied: urllib3<3,>=1.21.1 in /home/jizhe/projects/python/langchain_learn/.venv/lib/python3.12/site-packages (from requests<3.0,>=2.7->posthog<6.0.0,>=2.4.0->chromadb>=0.5.23->langchain-graph-retriever[chroma]) (2.5.0)\n",
      "Requirement already satisfied: certifi>=2017.4.17 in /home/jizhe/projects/python/langchain_learn/.venv/lib/python3.12/site-packages (from requests<3.0,>=2.7->posthog<6.0.0,>=2.4.0->chromadb>=0.5.23->langchain-graph-retriever[chroma]) (2025.8.3)\n",
      "Requirement already satisfied: packaging>=19.1 in /home/jizhe/projects/python/langchain_learn/.venv/lib/python3.12/site-packages (from build>=1.0.3->chromadb>=0.5.23->langchain-graph-retriever[chroma]) (24.2)\n",
      "Requirement already satisfied: pyproject_hooks in /home/jizhe/projects/python/langchain_learn/.venv/lib/python3.12/site-packages (from build>=1.0.3->chromadb>=0.5.23->langchain-graph-retriever[chroma]) (1.2.0)\n",
      "Requirement already satisfied: anyio in /home/jizhe/projects/python/langchain_learn/.venv/lib/python3.12/site-packages (from httpx>=0.27.0->chromadb>=0.5.23->langchain-graph-retriever[chroma]) (4.10.0)\n",
      "Requirement already satisfied: httpcore==1.* in /home/jizhe/projects/python/langchain_learn/.venv/lib/python3.12/site-packages (from httpx>=0.27.0->chromadb>=0.5.23->langchain-graph-retriever[chroma]) (1.0.9)\n",
      "Requirement already satisfied: h11>=0.16 in /home/jizhe/projects/python/langchain_learn/.venv/lib/python3.12/site-packages (from httpcore==1.*->httpx>=0.27.0->chromadb>=0.5.23->langchain-graph-retriever[chroma]) (0.16.0)\n",
      "Requirement already satisfied: attrs>=22.2.0 in /home/jizhe/projects/python/langchain_learn/.venv/lib/python3.12/site-packages (from jsonschema>=4.19.0->chromadb>=0.5.23->langchain-graph-retriever[chroma]) (25.3.0)\n",
      "Requirement already satisfied: jsonschema-specifications>=2023.03.6 in /home/jizhe/projects/python/langchain_learn/.venv/lib/python3.12/site-packages (from jsonschema>=4.19.0->chromadb>=0.5.23->langchain-graph-retriever[chroma]) (2025.9.1)\n",
      "Requirement already satisfied: referencing>=0.28.4 in /home/jizhe/projects/python/langchain_learn/.venv/lib/python3.12/site-packages (from jsonschema>=4.19.0->chromadb>=0.5.23->langchain-graph-retriever[chroma]) (0.36.2)\n",
      "Requirement already satisfied: rpds-py>=0.7.1 in /home/jizhe/projects/python/langchain_learn/.venv/lib/python3.12/site-packages (from jsonschema>=4.19.0->chromadb>=0.5.23->langchain-graph-retriever[chroma]) (0.27.1)\n",
      "Requirement already satisfied: google-auth>=1.0.1 in /home/jizhe/projects/python/langchain_learn/.venv/lib/python3.12/site-packages (from kubernetes>=28.1.0->chromadb>=0.5.23->langchain-graph-retriever[chroma]) (2.40.3)\n",
      "Requirement already satisfied: websocket-client!=0.40.0,!=0.41.*,!=0.42.*,>=0.32.0 in /home/jizhe/projects/python/langchain_learn/.venv/lib/python3.12/site-packages (from kubernetes>=28.1.0->chromadb>=0.5.23->langchain-graph-retriever[chroma]) (1.8.0)\n",
      "Requirement already satisfied: requests-oauthlib in /home/jizhe/projects/python/langchain_learn/.venv/lib/python3.12/site-packages (from kubernetes>=28.1.0->chromadb>=0.5.23->langchain-graph-retriever[chroma]) (2.0.0)\n",
      "Requirement already satisfied: oauthlib>=3.2.2 in /home/jizhe/projects/python/langchain_learn/.venv/lib/python3.12/site-packages (from kubernetes>=28.1.0->chromadb>=0.5.23->langchain-graph-retriever[chroma]) (3.3.1)\n",
      "Requirement already satisfied: durationpy>=0.7 in /home/jizhe/projects/python/langchain_learn/.venv/lib/python3.12/site-packages (from kubernetes>=28.1.0->chromadb>=0.5.23->langchain-graph-retriever[chroma]) (0.10)\n",
      "Requirement already satisfied: cachetools<6.0,>=2.0.0 in /home/jizhe/projects/python/langchain_learn/.venv/lib/python3.12/site-packages (from google-auth>=1.0.1->kubernetes>=28.1.0->chromadb>=0.5.23->langchain-graph-retriever[chroma]) (5.5.2)\n",
      "Requirement already satisfied: pyasn1-modules>=0.2.1 in /home/jizhe/projects/python/langchain_learn/.venv/lib/python3.12/site-packages (from google-auth>=1.0.1->kubernetes>=28.1.0->chromadb>=0.5.23->langchain-graph-retriever[chroma]) (0.4.2)\n",
      "Requirement already satisfied: rsa<5,>=3.1.4 in /home/jizhe/projects/python/langchain_learn/.venv/lib/python3.12/site-packages (from google-auth>=1.0.1->kubernetes>=28.1.0->chromadb>=0.5.23->langchain-graph-retriever[chroma]) (4.9.1)\n",
      "Requirement already satisfied: pyasn1>=0.1.3 in /home/jizhe/projects/python/langchain_learn/.venv/lib/python3.12/site-packages (from rsa<5,>=3.1.4->google-auth>=1.0.1->kubernetes>=28.1.0->chromadb>=0.5.23->langchain-graph-retriever[chroma]) (0.6.1)\n",
      "Requirement already satisfied: langsmith>=0.3.45 in /home/jizhe/projects/python/langchain_learn/.venv/lib/python3.12/site-packages (from langchain-core>=0.3.29->langchain-graph-retriever[chroma]) (0.4.15)\n",
      "Requirement already satisfied: jsonpatch<2.0,>=1.33 in /home/jizhe/projects/python/langchain_learn/.venv/lib/python3.12/site-packages (from langchain-core>=0.3.29->langchain-graph-retriever[chroma]) (1.33)\n",
      "Requirement already satisfied: jsonpointer>=1.9 in /home/jizhe/projects/python/langchain_learn/.venv/lib/python3.12/site-packages (from jsonpatch<2.0,>=1.33->langchain-core>=0.3.29->langchain-graph-retriever[chroma]) (3.0.0)\n",
      "Requirement already satisfied: requests-toolbelt>=1.0.0 in /home/jizhe/projects/python/langchain_learn/.venv/lib/python3.12/site-packages (from langsmith>=0.3.45->langchain-core>=0.3.29->langchain-graph-retriever[chroma]) (1.0.0)\n",
      "Requirement already satisfied: zstandard>=0.23.0 in /home/jizhe/projects/python/langchain_learn/.venv/lib/python3.12/site-packages (from langsmith>=0.3.45->langchain-core>=0.3.29->langchain-graph-retriever[chroma]) (0.24.0)\n",
      "Requirement already satisfied: annotated-types>=0.6.0 in /home/jizhe/projects/python/langchain_learn/.venv/lib/python3.12/site-packages (from pydantic>=2.10.4->langchain-graph-retriever[chroma]) (0.7.0)\n",
      "Requirement already satisfied: pydantic-core==2.33.2 in /home/jizhe/projects/python/langchain_learn/.venv/lib/python3.12/site-packages (from pydantic>=2.10.4->langchain-graph-retriever[chroma]) (2.33.2)\n",
      "Requirement already satisfied: typing-inspection>=0.4.0 in /home/jizhe/projects/python/langchain_learn/.venv/lib/python3.12/site-packages (from pydantic>=2.10.4->langchain-graph-retriever[chroma]) (0.4.1)\n",
      "Requirement already satisfied: coloredlogs in /home/jizhe/projects/python/langchain_learn/.venv/lib/python3.12/site-packages (from onnxruntime>=1.14.1->chromadb>=0.5.23->langchain-graph-retriever[chroma]) (15.0.1)\n",
      "Requirement already satisfied: flatbuffers in /home/jizhe/projects/python/langchain_learn/.venv/lib/python3.12/site-packages (from onnxruntime>=1.14.1->chromadb>=0.5.23->langchain-graph-retriever[chroma]) (25.2.10)\n",
      "Requirement already satisfied: protobuf in /home/jizhe/projects/python/langchain_learn/.venv/lib/python3.12/site-packages (from onnxruntime>=1.14.1->chromadb>=0.5.23->langchain-graph-retriever[chroma]) (6.32.0)\n",
      "Requirement already satisfied: sympy in /home/jizhe/projects/python/langchain_learn/.venv/lib/python3.12/site-packages (from onnxruntime>=1.14.1->chromadb>=0.5.23->langchain-graph-retriever[chroma]) (1.14.0)\n",
      "Requirement already satisfied: importlib-metadata<8.8.0,>=6.0 in /home/jizhe/projects/python/langchain_learn/.venv/lib/python3.12/site-packages (from opentelemetry-api>=1.2.0->chromadb>=0.5.23->langchain-graph-retriever[chroma]) (8.7.0)\n",
      "Requirement already satisfied: zipp>=3.20 in /home/jizhe/projects/python/langchain_learn/.venv/lib/python3.12/site-packages (from importlib-metadata<8.8.0,>=6.0->opentelemetry-api>=1.2.0->chromadb>=0.5.23->langchain-graph-retriever[chroma]) (3.23.0)\n",
      "Requirement already satisfied: googleapis-common-protos~=1.57 in /home/jizhe/projects/python/langchain_learn/.venv/lib/python3.12/site-packages (from opentelemetry-exporter-otlp-proto-grpc>=1.2.0->chromadb>=0.5.23->langchain-graph-retriever[chroma]) (1.70.0)\n",
      "Requirement already satisfied: opentelemetry-exporter-otlp-proto-common==1.36.0 in /home/jizhe/projects/python/langchain_learn/.venv/lib/python3.12/site-packages (from opentelemetry-exporter-otlp-proto-grpc>=1.2.0->chromadb>=0.5.23->langchain-graph-retriever[chroma]) (1.36.0)\n",
      "Requirement already satisfied: opentelemetry-proto==1.36.0 in /home/jizhe/projects/python/langchain_learn/.venv/lib/python3.12/site-packages (from opentelemetry-exporter-otlp-proto-grpc>=1.2.0->chromadb>=0.5.23->langchain-graph-retriever[chroma]) (1.36.0)\n",
      "Requirement already satisfied: opentelemetry-semantic-conventions==0.57b0 in /home/jizhe/projects/python/langchain_learn/.venv/lib/python3.12/site-packages (from opentelemetry-sdk>=1.2.0->chromadb>=0.5.23->langchain-graph-retriever[chroma]) (0.57b0)\n",
      "Requirement already satisfied: markdown-it-py>=2.2.0 in /home/jizhe/projects/python/langchain_learn/.venv/lib/python3.12/site-packages (from rich>=10.11.0->chromadb>=0.5.23->langchain-graph-retriever[chroma]) (4.0.0)\n",
      "Requirement already satisfied: pygments<3.0.0,>=2.13.0 in /home/jizhe/projects/python/langchain_learn/.venv/lib/python3.12/site-packages (from rich>=10.11.0->chromadb>=0.5.23->langchain-graph-retriever[chroma]) (2.19.2)\n",
      "Requirement already satisfied: mdurl~=0.1 in /home/jizhe/projects/python/langchain_learn/.venv/lib/python3.12/site-packages (from markdown-it-py>=2.2.0->rich>=10.11.0->chromadb>=0.5.23->langchain-graph-retriever[chroma]) (0.1.2)\n",
      "Requirement already satisfied: huggingface-hub<1.0,>=0.16.4 in /home/jizhe/projects/python/langchain_learn/.venv/lib/python3.12/site-packages (from tokenizers>=0.13.2->chromadb>=0.5.23->langchain-graph-retriever[chroma]) (0.34.4)\n",
      "Requirement already satisfied: filelock in /home/jizhe/projects/python/langchain_learn/.venv/lib/python3.12/site-packages (from huggingface-hub<1.0,>=0.16.4->tokenizers>=0.13.2->chromadb>=0.5.23->langchain-graph-retriever[chroma]) (3.19.1)\n",
      "Requirement already satisfied: fsspec>=2023.5.0 in /home/jizhe/projects/python/langchain_learn/.venv/lib/python3.12/site-packages (from huggingface-hub<1.0,>=0.16.4->tokenizers>=0.13.2->chromadb>=0.5.23->langchain-graph-retriever[chroma]) (2025.7.0)\n",
      "Requirement already satisfied: hf-xet<2.0.0,>=1.1.3 in /home/jizhe/projects/python/langchain_learn/.venv/lib/python3.12/site-packages (from huggingface-hub<1.0,>=0.16.4->tokenizers>=0.13.2->chromadb>=0.5.23->langchain-graph-retriever[chroma]) (1.1.9)\n",
      "Requirement already satisfied: click>=8.0.0 in /home/jizhe/projects/python/langchain_learn/.venv/lib/python3.12/site-packages (from typer>=0.9.0->chromadb>=0.5.23->langchain-graph-retriever[chroma]) (8.2.1)\n",
      "Requirement already satisfied: shellingham>=1.3.0 in /home/jizhe/projects/python/langchain_learn/.venv/lib/python3.12/site-packages (from typer>=0.9.0->chromadb>=0.5.23->langchain-graph-retriever[chroma]) (1.5.4)\n",
      "Requirement already satisfied: httptools>=0.6.3 in /home/jizhe/projects/python/langchain_learn/.venv/lib/python3.12/site-packages (from uvicorn[standard]>=0.18.3->chromadb>=0.5.23->langchain-graph-retriever[chroma]) (0.6.4)\n",
      "Requirement already satisfied: python-dotenv>=0.13 in /home/jizhe/projects/python/langchain_learn/.venv/lib/python3.12/site-packages (from uvicorn[standard]>=0.18.3->chromadb>=0.5.23->langchain-graph-retriever[chroma]) (1.1.1)\n",
      "Requirement already satisfied: uvloop>=0.15.1 in /home/jizhe/projects/python/langchain_learn/.venv/lib/python3.12/site-packages (from uvicorn[standard]>=0.18.3->chromadb>=0.5.23->langchain-graph-retriever[chroma]) (0.21.0)\n",
      "Requirement already satisfied: watchfiles>=0.13 in /home/jizhe/projects/python/langchain_learn/.venv/lib/python3.12/site-packages (from uvicorn[standard]>=0.18.3->chromadb>=0.5.23->langchain-graph-retriever[chroma]) (1.1.0)\n",
      "Requirement already satisfied: websockets>=10.4 in /home/jizhe/projects/python/langchain_learn/.venv/lib/python3.12/site-packages (from uvicorn[standard]>=0.18.3->chromadb>=0.5.23->langchain-graph-retriever[chroma]) (15.0.1)\n",
      "Requirement already satisfied: sniffio>=1.1 in /home/jizhe/projects/python/langchain_learn/.venv/lib/python3.12/site-packages (from anyio->httpx>=0.27.0->chromadb>=0.5.23->langchain-graph-retriever[chroma]) (1.3.1)\n",
      "Requirement already satisfied: humanfriendly>=9.1 in /home/jizhe/projects/python/langchain_learn/.venv/lib/python3.12/site-packages (from coloredlogs->onnxruntime>=1.14.1->chromadb>=0.5.23->langchain-graph-retriever[chroma]) (10.0)\n",
      "Requirement already satisfied: pytest>=8.3.4 in /home/jizhe/projects/python/langchain_learn/.venv/lib/python3.12/site-packages (from graph-retriever->langchain-graph-retriever[chroma]) (8.4.2)\n",
      "Requirement already satisfied: iniconfig>=1 in /home/jizhe/projects/python/langchain_learn/.venv/lib/python3.12/site-packages (from pytest>=8.3.4->graph-retriever->langchain-graph-retriever[chroma]) (2.1.0)\n",
      "Requirement already satisfied: pluggy<2,>=1.5 in /home/jizhe/projects/python/langchain_learn/.venv/lib/python3.12/site-packages (from pytest>=8.3.4->graph-retriever->langchain-graph-retriever[chroma]) (1.6.0)\n",
      "Requirement already satisfied: mpmath<1.4,>=1.1.0 in /home/jizhe/projects/python/langchain_learn/.venv/lib/python3.12/site-packages (from sympy->onnxruntime>=1.14.1->chromadb>=0.5.23->langchain-graph-retriever[chroma]) (1.3.0)\n",
      "Installing collected packages: networkx, langchain-graph-retriever\n",
      "\u001b[2K   \u001b[90m━━━━━━━━━━━━━━━━━━━━━━━━━━━━━━━━━━━━━━━━\u001b[0m \u001b[32m2/2\u001b[0m [langchain-graph-retriever]\n",
      "\u001b[1A\u001b[2KSuccessfully installed langchain-graph-retriever-0.8.0 networkx-3.5\n"
     ]
    }
   ],
   "source": [
    "# 数据准备\n",
    "! pip install graph_rag_example_helpers\n",
    "! pip install \"langchain-graph-retriever[chroma]\""
   ]
  },
  {
   "cell_type": "code",
   "execution_count": null,
   "id": "a78dc380",
   "metadata": {},
   "outputs": [
    {
     "ename": "ConnectionError",
     "evalue": "('Connection aborted.', ConnectionResetError(104, 'Connection reset by peer'))",
     "output_type": "error",
     "traceback": [
      "\u001b[31m---------------------------------------------------------------------------\u001b[39m",
      "\u001b[31mConnectionResetError\u001b[39m                      Traceback (most recent call last)",
      "\u001b[36mFile \u001b[39m\u001b[32m~/projects/python/langchain_learn/.venv/lib/python3.12/site-packages/urllib3/connectionpool.py:773\u001b[39m, in \u001b[36mHTTPConnectionPool.urlopen\u001b[39m\u001b[34m(self, method, url, body, headers, retries, redirect, assert_same_host, timeout, pool_timeout, release_conn, chunked, body_pos, preload_content, decode_content, **response_kw)\u001b[39m\n\u001b[32m    772\u001b[39m \u001b[38;5;28;01mtry\u001b[39;00m:\n\u001b[32m--> \u001b[39m\u001b[32m773\u001b[39m     \u001b[38;5;28;43mself\u001b[39;49m\u001b[43m.\u001b[49m\u001b[43m_prepare_proxy\u001b[49m\u001b[43m(\u001b[49m\u001b[43mconn\u001b[49m\u001b[43m)\u001b[49m\n\u001b[32m    774\u001b[39m \u001b[38;5;28;01mexcept\u001b[39;00m (BaseSSLError, \u001b[38;5;167;01mOSError\u001b[39;00m, SocketTimeout) \u001b[38;5;28;01mas\u001b[39;00m e:\n",
      "\u001b[36mFile \u001b[39m\u001b[32m~/projects/python/langchain_learn/.venv/lib/python3.12/site-packages/urllib3/connectionpool.py:1042\u001b[39m, in \u001b[36mHTTPSConnectionPool._prepare_proxy\u001b[39m\u001b[34m(self, conn)\u001b[39m\n\u001b[32m   1036\u001b[39m conn.set_tunnel(\n\u001b[32m   1037\u001b[39m     scheme=tunnel_scheme,\n\u001b[32m   1038\u001b[39m     host=\u001b[38;5;28mself\u001b[39m._tunnel_host,\n\u001b[32m   1039\u001b[39m     port=\u001b[38;5;28mself\u001b[39m.port,\n\u001b[32m   1040\u001b[39m     headers=\u001b[38;5;28mself\u001b[39m.proxy_headers,\n\u001b[32m   1041\u001b[39m )\n\u001b[32m-> \u001b[39m\u001b[32m1042\u001b[39m \u001b[43mconn\u001b[49m\u001b[43m.\u001b[49m\u001b[43mconnect\u001b[49m\u001b[43m(\u001b[49m\u001b[43m)\u001b[49m\n",
      "\u001b[36mFile \u001b[39m\u001b[32m~/projects/python/langchain_learn/.venv/lib/python3.12/site-packages/urllib3/connection.py:790\u001b[39m, in \u001b[36mHTTPSConnection.connect\u001b[39m\u001b[34m(self)\u001b[39m\n\u001b[32m    788\u001b[39m server_hostname_rm_dot = server_hostname.rstrip(\u001b[33m\"\u001b[39m\u001b[33m.\u001b[39m\u001b[33m\"\u001b[39m)\n\u001b[32m--> \u001b[39m\u001b[32m790\u001b[39m sock_and_verified = \u001b[43m_ssl_wrap_socket_and_match_hostname\u001b[49m\u001b[43m(\u001b[49m\n\u001b[32m    791\u001b[39m \u001b[43m    \u001b[49m\u001b[43msock\u001b[49m\u001b[43m=\u001b[49m\u001b[43msock\u001b[49m\u001b[43m,\u001b[49m\n\u001b[32m    792\u001b[39m \u001b[43m    \u001b[49m\u001b[43mcert_reqs\u001b[49m\u001b[43m=\u001b[49m\u001b[38;5;28;43mself\u001b[39;49m\u001b[43m.\u001b[49m\u001b[43mcert_reqs\u001b[49m\u001b[43m,\u001b[49m\n\u001b[32m    793\u001b[39m \u001b[43m    \u001b[49m\u001b[43mssl_version\u001b[49m\u001b[43m=\u001b[49m\u001b[38;5;28;43mself\u001b[39;49m\u001b[43m.\u001b[49m\u001b[43mssl_version\u001b[49m\u001b[43m,\u001b[49m\n\u001b[32m    794\u001b[39m \u001b[43m    \u001b[49m\u001b[43mssl_minimum_version\u001b[49m\u001b[43m=\u001b[49m\u001b[38;5;28;43mself\u001b[39;49m\u001b[43m.\u001b[49m\u001b[43mssl_minimum_version\u001b[49m\u001b[43m,\u001b[49m\n\u001b[32m    795\u001b[39m \u001b[43m    \u001b[49m\u001b[43mssl_maximum_version\u001b[49m\u001b[43m=\u001b[49m\u001b[38;5;28;43mself\u001b[39;49m\u001b[43m.\u001b[49m\u001b[43mssl_maximum_version\u001b[49m\u001b[43m,\u001b[49m\n\u001b[32m    796\u001b[39m \u001b[43m    \u001b[49m\u001b[43mca_certs\u001b[49m\u001b[43m=\u001b[49m\u001b[38;5;28;43mself\u001b[39;49m\u001b[43m.\u001b[49m\u001b[43mca_certs\u001b[49m\u001b[43m,\u001b[49m\n\u001b[32m    797\u001b[39m \u001b[43m    \u001b[49m\u001b[43mca_cert_dir\u001b[49m\u001b[43m=\u001b[49m\u001b[38;5;28;43mself\u001b[39;49m\u001b[43m.\u001b[49m\u001b[43mca_cert_dir\u001b[49m\u001b[43m,\u001b[49m\n\u001b[32m    798\u001b[39m \u001b[43m    \u001b[49m\u001b[43mca_cert_data\u001b[49m\u001b[43m=\u001b[49m\u001b[38;5;28;43mself\u001b[39;49m\u001b[43m.\u001b[49m\u001b[43mca_cert_data\u001b[49m\u001b[43m,\u001b[49m\n\u001b[32m    799\u001b[39m \u001b[43m    \u001b[49m\u001b[43mcert_file\u001b[49m\u001b[43m=\u001b[49m\u001b[38;5;28;43mself\u001b[39;49m\u001b[43m.\u001b[49m\u001b[43mcert_file\u001b[49m\u001b[43m,\u001b[49m\n\u001b[32m    800\u001b[39m \u001b[43m    \u001b[49m\u001b[43mkey_file\u001b[49m\u001b[43m=\u001b[49m\u001b[38;5;28;43mself\u001b[39;49m\u001b[43m.\u001b[49m\u001b[43mkey_file\u001b[49m\u001b[43m,\u001b[49m\n\u001b[32m    801\u001b[39m \u001b[43m    \u001b[49m\u001b[43mkey_password\u001b[49m\u001b[43m=\u001b[49m\u001b[38;5;28;43mself\u001b[39;49m\u001b[43m.\u001b[49m\u001b[43mkey_password\u001b[49m\u001b[43m,\u001b[49m\n\u001b[32m    802\u001b[39m \u001b[43m    \u001b[49m\u001b[43mserver_hostname\u001b[49m\u001b[43m=\u001b[49m\u001b[43mserver_hostname_rm_dot\u001b[49m\u001b[43m,\u001b[49m\n\u001b[32m    803\u001b[39m \u001b[43m    \u001b[49m\u001b[43mssl_context\u001b[49m\u001b[43m=\u001b[49m\u001b[38;5;28;43mself\u001b[39;49m\u001b[43m.\u001b[49m\u001b[43mssl_context\u001b[49m\u001b[43m,\u001b[49m\n\u001b[32m    804\u001b[39m \u001b[43m    \u001b[49m\u001b[43mtls_in_tls\u001b[49m\u001b[43m=\u001b[49m\u001b[43mtls_in_tls\u001b[49m\u001b[43m,\u001b[49m\n\u001b[32m    805\u001b[39m \u001b[43m    \u001b[49m\u001b[43massert_hostname\u001b[49m\u001b[43m=\u001b[49m\u001b[38;5;28;43mself\u001b[39;49m\u001b[43m.\u001b[49m\u001b[43massert_hostname\u001b[49m\u001b[43m,\u001b[49m\n\u001b[32m    806\u001b[39m \u001b[43m    \u001b[49m\u001b[43massert_fingerprint\u001b[49m\u001b[43m=\u001b[49m\u001b[38;5;28;43mself\u001b[39;49m\u001b[43m.\u001b[49m\u001b[43massert_fingerprint\u001b[49m\u001b[43m,\u001b[49m\n\u001b[32m    807\u001b[39m \u001b[43m\u001b[49m\u001b[43m)\u001b[49m\n\u001b[32m    808\u001b[39m \u001b[38;5;28mself\u001b[39m.sock = sock_and_verified.socket\n",
      "\u001b[36mFile \u001b[39m\u001b[32m~/projects/python/langchain_learn/.venv/lib/python3.12/site-packages/urllib3/connection.py:969\u001b[39m, in \u001b[36m_ssl_wrap_socket_and_match_hostname\u001b[39m\u001b[34m(sock, cert_reqs, ssl_version, ssl_minimum_version, ssl_maximum_version, cert_file, key_file, key_password, ca_certs, ca_cert_dir, ca_cert_data, assert_hostname, assert_fingerprint, server_hostname, ssl_context, tls_in_tls)\u001b[39m\n\u001b[32m    967\u001b[39m         server_hostname = normalized\n\u001b[32m--> \u001b[39m\u001b[32m969\u001b[39m ssl_sock = \u001b[43mssl_wrap_socket\u001b[49m\u001b[43m(\u001b[49m\n\u001b[32m    970\u001b[39m \u001b[43m    \u001b[49m\u001b[43msock\u001b[49m\u001b[43m=\u001b[49m\u001b[43msock\u001b[49m\u001b[43m,\u001b[49m\n\u001b[32m    971\u001b[39m \u001b[43m    \u001b[49m\u001b[43mkeyfile\u001b[49m\u001b[43m=\u001b[49m\u001b[43mkey_file\u001b[49m\u001b[43m,\u001b[49m\n\u001b[32m    972\u001b[39m \u001b[43m    \u001b[49m\u001b[43mcertfile\u001b[49m\u001b[43m=\u001b[49m\u001b[43mcert_file\u001b[49m\u001b[43m,\u001b[49m\n\u001b[32m    973\u001b[39m \u001b[43m    \u001b[49m\u001b[43mkey_password\u001b[49m\u001b[43m=\u001b[49m\u001b[43mkey_password\u001b[49m\u001b[43m,\u001b[49m\n\u001b[32m    974\u001b[39m \u001b[43m    \u001b[49m\u001b[43mca_certs\u001b[49m\u001b[43m=\u001b[49m\u001b[43mca_certs\u001b[49m\u001b[43m,\u001b[49m\n\u001b[32m    975\u001b[39m \u001b[43m    \u001b[49m\u001b[43mca_cert_dir\u001b[49m\u001b[43m=\u001b[49m\u001b[43mca_cert_dir\u001b[49m\u001b[43m,\u001b[49m\n\u001b[32m    976\u001b[39m \u001b[43m    \u001b[49m\u001b[43mca_cert_data\u001b[49m\u001b[43m=\u001b[49m\u001b[43mca_cert_data\u001b[49m\u001b[43m,\u001b[49m\n\u001b[32m    977\u001b[39m \u001b[43m    \u001b[49m\u001b[43mserver_hostname\u001b[49m\u001b[43m=\u001b[49m\u001b[43mserver_hostname\u001b[49m\u001b[43m,\u001b[49m\n\u001b[32m    978\u001b[39m \u001b[43m    \u001b[49m\u001b[43mssl_context\u001b[49m\u001b[43m=\u001b[49m\u001b[43mcontext\u001b[49m\u001b[43m,\u001b[49m\n\u001b[32m    979\u001b[39m \u001b[43m    \u001b[49m\u001b[43mtls_in_tls\u001b[49m\u001b[43m=\u001b[49m\u001b[43mtls_in_tls\u001b[49m\u001b[43m,\u001b[49m\n\u001b[32m    980\u001b[39m \u001b[43m\u001b[49m\u001b[43m)\u001b[49m\n\u001b[32m    982\u001b[39m \u001b[38;5;28;01mtry\u001b[39;00m:\n",
      "\u001b[36mFile \u001b[39m\u001b[32m~/projects/python/langchain_learn/.venv/lib/python3.12/site-packages/urllib3/util/ssl_.py:480\u001b[39m, in \u001b[36mssl_wrap_socket\u001b[39m\u001b[34m(sock, keyfile, certfile, cert_reqs, ca_certs, server_hostname, ssl_version, ciphers, ssl_context, ca_cert_dir, key_password, ca_cert_data, tls_in_tls)\u001b[39m\n\u001b[32m    478\u001b[39m context.set_alpn_protocols(ALPN_PROTOCOLS)\n\u001b[32m--> \u001b[39m\u001b[32m480\u001b[39m ssl_sock = \u001b[43m_ssl_wrap_socket_impl\u001b[49m\u001b[43m(\u001b[49m\u001b[43msock\u001b[49m\u001b[43m,\u001b[49m\u001b[43m \u001b[49m\u001b[43mcontext\u001b[49m\u001b[43m,\u001b[49m\u001b[43m \u001b[49m\u001b[43mtls_in_tls\u001b[49m\u001b[43m,\u001b[49m\u001b[43m \u001b[49m\u001b[43mserver_hostname\u001b[49m\u001b[43m)\u001b[49m\n\u001b[32m    481\u001b[39m \u001b[38;5;28;01mreturn\u001b[39;00m ssl_sock\n",
      "\u001b[36mFile \u001b[39m\u001b[32m~/projects/python/langchain_learn/.venv/lib/python3.12/site-packages/urllib3/util/ssl_.py:524\u001b[39m, in \u001b[36m_ssl_wrap_socket_impl\u001b[39m\u001b[34m(sock, ssl_context, tls_in_tls, server_hostname)\u001b[39m\n\u001b[32m    522\u001b[39m     \u001b[38;5;28;01mreturn\u001b[39;00m SSLTransport(sock, ssl_context, server_hostname)\n\u001b[32m--> \u001b[39m\u001b[32m524\u001b[39m \u001b[38;5;28;01mreturn\u001b[39;00m \u001b[43mssl_context\u001b[49m\u001b[43m.\u001b[49m\u001b[43mwrap_socket\u001b[49m\u001b[43m(\u001b[49m\u001b[43msock\u001b[49m\u001b[43m,\u001b[49m\u001b[43m \u001b[49m\u001b[43mserver_hostname\u001b[49m\u001b[43m=\u001b[49m\u001b[43mserver_hostname\u001b[49m\u001b[43m)\u001b[49m\n",
      "\u001b[36mFile \u001b[39m\u001b[32m~/.pyenv/versions/3.12.11/lib/python3.12/ssl.py:455\u001b[39m, in \u001b[36mSSLContext.wrap_socket\u001b[39m\u001b[34m(self, sock, server_side, do_handshake_on_connect, suppress_ragged_eofs, server_hostname, session)\u001b[39m\n\u001b[32m    449\u001b[39m \u001b[38;5;28;01mdef\u001b[39;00m\u001b[38;5;250m \u001b[39m\u001b[34mwrap_socket\u001b[39m(\u001b[38;5;28mself\u001b[39m, sock, server_side=\u001b[38;5;28;01mFalse\u001b[39;00m,\n\u001b[32m    450\u001b[39m                 do_handshake_on_connect=\u001b[38;5;28;01mTrue\u001b[39;00m,\n\u001b[32m    451\u001b[39m                 suppress_ragged_eofs=\u001b[38;5;28;01mTrue\u001b[39;00m,\n\u001b[32m    452\u001b[39m                 server_hostname=\u001b[38;5;28;01mNone\u001b[39;00m, session=\u001b[38;5;28;01mNone\u001b[39;00m):\n\u001b[32m    453\u001b[39m     \u001b[38;5;66;03m# SSLSocket class handles server_hostname encoding before it calls\u001b[39;00m\n\u001b[32m    454\u001b[39m     \u001b[38;5;66;03m# ctx._wrap_socket()\u001b[39;00m\n\u001b[32m--> \u001b[39m\u001b[32m455\u001b[39m     \u001b[38;5;28;01mreturn\u001b[39;00m \u001b[38;5;28;43mself\u001b[39;49m\u001b[43m.\u001b[49m\u001b[43msslsocket_class\u001b[49m\u001b[43m.\u001b[49m\u001b[43m_create\u001b[49m\u001b[43m(\u001b[49m\n\u001b[32m    456\u001b[39m \u001b[43m        \u001b[49m\u001b[43msock\u001b[49m\u001b[43m=\u001b[49m\u001b[43msock\u001b[49m\u001b[43m,\u001b[49m\n\u001b[32m    457\u001b[39m \u001b[43m        \u001b[49m\u001b[43mserver_side\u001b[49m\u001b[43m=\u001b[49m\u001b[43mserver_side\u001b[49m\u001b[43m,\u001b[49m\n\u001b[32m    458\u001b[39m \u001b[43m        \u001b[49m\u001b[43mdo_handshake_on_connect\u001b[49m\u001b[43m=\u001b[49m\u001b[43mdo_handshake_on_connect\u001b[49m\u001b[43m,\u001b[49m\n\u001b[32m    459\u001b[39m \u001b[43m        \u001b[49m\u001b[43msuppress_ragged_eofs\u001b[49m\u001b[43m=\u001b[49m\u001b[43msuppress_ragged_eofs\u001b[49m\u001b[43m,\u001b[49m\n\u001b[32m    460\u001b[39m \u001b[43m        \u001b[49m\u001b[43mserver_hostname\u001b[49m\u001b[43m=\u001b[49m\u001b[43mserver_hostname\u001b[49m\u001b[43m,\u001b[49m\n\u001b[32m    461\u001b[39m \u001b[43m        \u001b[49m\u001b[43mcontext\u001b[49m\u001b[43m=\u001b[49m\u001b[38;5;28;43mself\u001b[39;49m\u001b[43m,\u001b[49m\n\u001b[32m    462\u001b[39m \u001b[43m        \u001b[49m\u001b[43msession\u001b[49m\u001b[43m=\u001b[49m\u001b[43msession\u001b[49m\n\u001b[32m    463\u001b[39m \u001b[43m    \u001b[49m\u001b[43m)\u001b[49m\n",
      "\u001b[36mFile \u001b[39m\u001b[32m~/.pyenv/versions/3.12.11/lib/python3.12/ssl.py:1041\u001b[39m, in \u001b[36mSSLSocket._create\u001b[39m\u001b[34m(cls, sock, server_side, do_handshake_on_connect, suppress_ragged_eofs, server_hostname, context, session)\u001b[39m\n\u001b[32m   1040\u001b[39m                 \u001b[38;5;28;01mraise\u001b[39;00m \u001b[38;5;167;01mValueError\u001b[39;00m(\u001b[33m\"\u001b[39m\u001b[33mdo_handshake_on_connect should not be specified for non-blocking sockets\u001b[39m\u001b[33m\"\u001b[39m)\n\u001b[32m-> \u001b[39m\u001b[32m1041\u001b[39m             \u001b[38;5;28;43mself\u001b[39;49m\u001b[43m.\u001b[49m\u001b[43mdo_handshake\u001b[49m\u001b[43m(\u001b[49m\u001b[43m)\u001b[49m\n\u001b[32m   1042\u001b[39m \u001b[38;5;28;01mexcept\u001b[39;00m:\n",
      "\u001b[36mFile \u001b[39m\u001b[32m~/.pyenv/versions/3.12.11/lib/python3.12/ssl.py:1319\u001b[39m, in \u001b[36mSSLSocket.do_handshake\u001b[39m\u001b[34m(self, block)\u001b[39m\n\u001b[32m   1318\u001b[39m         \u001b[38;5;28mself\u001b[39m.settimeout(\u001b[38;5;28;01mNone\u001b[39;00m)\n\u001b[32m-> \u001b[39m\u001b[32m1319\u001b[39m     \u001b[38;5;28;43mself\u001b[39;49m\u001b[43m.\u001b[49m\u001b[43m_sslobj\u001b[49m\u001b[43m.\u001b[49m\u001b[43mdo_handshake\u001b[49m\u001b[43m(\u001b[49m\u001b[43m)\u001b[49m\n\u001b[32m   1320\u001b[39m \u001b[38;5;28;01mfinally\u001b[39;00m:\n",
      "\u001b[31mConnectionResetError\u001b[39m: [Errno 104] Connection reset by peer",
      "\nDuring handling of the above exception, another exception occurred:\n",
      "\u001b[31mProtocolError\u001b[39m                             Traceback (most recent call last)",
      "\u001b[36mFile \u001b[39m\u001b[32m~/projects/python/langchain_learn/.venv/lib/python3.12/site-packages/requests/adapters.py:644\u001b[39m, in \u001b[36mHTTPAdapter.send\u001b[39m\u001b[34m(self, request, stream, timeout, verify, cert, proxies)\u001b[39m\n\u001b[32m    643\u001b[39m \u001b[38;5;28;01mtry\u001b[39;00m:\n\u001b[32m--> \u001b[39m\u001b[32m644\u001b[39m     resp = \u001b[43mconn\u001b[49m\u001b[43m.\u001b[49m\u001b[43murlopen\u001b[49m\u001b[43m(\u001b[49m\n\u001b[32m    645\u001b[39m \u001b[43m        \u001b[49m\u001b[43mmethod\u001b[49m\u001b[43m=\u001b[49m\u001b[43mrequest\u001b[49m\u001b[43m.\u001b[49m\u001b[43mmethod\u001b[49m\u001b[43m,\u001b[49m\n\u001b[32m    646\u001b[39m \u001b[43m        \u001b[49m\u001b[43murl\u001b[49m\u001b[43m=\u001b[49m\u001b[43murl\u001b[49m\u001b[43m,\u001b[49m\n\u001b[32m    647\u001b[39m \u001b[43m        \u001b[49m\u001b[43mbody\u001b[49m\u001b[43m=\u001b[49m\u001b[43mrequest\u001b[49m\u001b[43m.\u001b[49m\u001b[43mbody\u001b[49m\u001b[43m,\u001b[49m\n\u001b[32m    648\u001b[39m \u001b[43m        \u001b[49m\u001b[43mheaders\u001b[49m\u001b[43m=\u001b[49m\u001b[43mrequest\u001b[49m\u001b[43m.\u001b[49m\u001b[43mheaders\u001b[49m\u001b[43m,\u001b[49m\n\u001b[32m    649\u001b[39m \u001b[43m        \u001b[49m\u001b[43mredirect\u001b[49m\u001b[43m=\u001b[49m\u001b[38;5;28;43;01mFalse\u001b[39;49;00m\u001b[43m,\u001b[49m\n\u001b[32m    650\u001b[39m \u001b[43m        \u001b[49m\u001b[43massert_same_host\u001b[49m\u001b[43m=\u001b[49m\u001b[38;5;28;43;01mFalse\u001b[39;49;00m\u001b[43m,\u001b[49m\n\u001b[32m    651\u001b[39m \u001b[43m        \u001b[49m\u001b[43mpreload_content\u001b[49m\u001b[43m=\u001b[49m\u001b[38;5;28;43;01mFalse\u001b[39;49;00m\u001b[43m,\u001b[49m\n\u001b[32m    652\u001b[39m \u001b[43m        \u001b[49m\u001b[43mdecode_content\u001b[49m\u001b[43m=\u001b[49m\u001b[38;5;28;43;01mFalse\u001b[39;49;00m\u001b[43m,\u001b[49m\n\u001b[32m    653\u001b[39m \u001b[43m        \u001b[49m\u001b[43mretries\u001b[49m\u001b[43m=\u001b[49m\u001b[38;5;28;43mself\u001b[39;49m\u001b[43m.\u001b[49m\u001b[43mmax_retries\u001b[49m\u001b[43m,\u001b[49m\n\u001b[32m    654\u001b[39m \u001b[43m        \u001b[49m\u001b[43mtimeout\u001b[49m\u001b[43m=\u001b[49m\u001b[43mtimeout\u001b[49m\u001b[43m,\u001b[49m\n\u001b[32m    655\u001b[39m \u001b[43m        \u001b[49m\u001b[43mchunked\u001b[49m\u001b[43m=\u001b[49m\u001b[43mchunked\u001b[49m\u001b[43m,\u001b[49m\n\u001b[32m    656\u001b[39m \u001b[43m    \u001b[49m\u001b[43m)\u001b[49m\n\u001b[32m    658\u001b[39m \u001b[38;5;28;01mexcept\u001b[39;00m (ProtocolError, \u001b[38;5;167;01mOSError\u001b[39;00m) \u001b[38;5;28;01mas\u001b[39;00m err:\n",
      "\u001b[36mFile \u001b[39m\u001b[32m~/projects/python/langchain_learn/.venv/lib/python3.12/site-packages/urllib3/connectionpool.py:841\u001b[39m, in \u001b[36mHTTPConnectionPool.urlopen\u001b[39m\u001b[34m(self, method, url, body, headers, retries, redirect, assert_same_host, timeout, pool_timeout, release_conn, chunked, body_pos, preload_content, decode_content, **response_kw)\u001b[39m\n\u001b[32m    839\u001b[39m     new_e = ProtocolError(\u001b[33m\"\u001b[39m\u001b[33mConnection aborted.\u001b[39m\u001b[33m\"\u001b[39m, new_e)\n\u001b[32m--> \u001b[39m\u001b[32m841\u001b[39m retries = \u001b[43mretries\u001b[49m\u001b[43m.\u001b[49m\u001b[43mincrement\u001b[49m\u001b[43m(\u001b[49m\n\u001b[32m    842\u001b[39m \u001b[43m    \u001b[49m\u001b[43mmethod\u001b[49m\u001b[43m,\u001b[49m\u001b[43m \u001b[49m\u001b[43murl\u001b[49m\u001b[43m,\u001b[49m\u001b[43m \u001b[49m\u001b[43merror\u001b[49m\u001b[43m=\u001b[49m\u001b[43mnew_e\u001b[49m\u001b[43m,\u001b[49m\u001b[43m \u001b[49m\u001b[43m_pool\u001b[49m\u001b[43m=\u001b[49m\u001b[38;5;28;43mself\u001b[39;49m\u001b[43m,\u001b[49m\u001b[43m \u001b[49m\u001b[43m_stacktrace\u001b[49m\u001b[43m=\u001b[49m\u001b[43msys\u001b[49m\u001b[43m.\u001b[49m\u001b[43mexc_info\u001b[49m\u001b[43m(\u001b[49m\u001b[43m)\u001b[49m\u001b[43m[\u001b[49m\u001b[32;43m2\u001b[39;49m\u001b[43m]\u001b[49m\n\u001b[32m    843\u001b[39m \u001b[43m\u001b[49m\u001b[43m)\u001b[49m\n\u001b[32m    844\u001b[39m retries.sleep()\n",
      "\u001b[36mFile \u001b[39m\u001b[32m~/projects/python/langchain_learn/.venv/lib/python3.12/site-packages/urllib3/util/retry.py:474\u001b[39m, in \u001b[36mRetry.increment\u001b[39m\u001b[34m(self, method, url, response, error, _pool, _stacktrace)\u001b[39m\n\u001b[32m    473\u001b[39m \u001b[38;5;28;01mif\u001b[39;00m read \u001b[38;5;129;01mis\u001b[39;00m \u001b[38;5;28;01mFalse\u001b[39;00m \u001b[38;5;129;01mor\u001b[39;00m method \u001b[38;5;129;01mis\u001b[39;00m \u001b[38;5;28;01mNone\u001b[39;00m \u001b[38;5;129;01mor\u001b[39;00m \u001b[38;5;129;01mnot\u001b[39;00m \u001b[38;5;28mself\u001b[39m._is_method_retryable(method):\n\u001b[32m--> \u001b[39m\u001b[32m474\u001b[39m     \u001b[38;5;28;01mraise\u001b[39;00m \u001b[43mreraise\u001b[49m\u001b[43m(\u001b[49m\u001b[38;5;28;43mtype\u001b[39;49m\u001b[43m(\u001b[49m\u001b[43merror\u001b[49m\u001b[43m)\u001b[49m\u001b[43m,\u001b[49m\u001b[43m \u001b[49m\u001b[43merror\u001b[49m\u001b[43m,\u001b[49m\u001b[43m \u001b[49m\u001b[43m_stacktrace\u001b[49m\u001b[43m)\u001b[49m\n\u001b[32m    475\u001b[39m \u001b[38;5;28;01melif\u001b[39;00m read \u001b[38;5;129;01mis\u001b[39;00m \u001b[38;5;129;01mnot\u001b[39;00m \u001b[38;5;28;01mNone\u001b[39;00m:\n",
      "\u001b[36mFile \u001b[39m\u001b[32m~/projects/python/langchain_learn/.venv/lib/python3.12/site-packages/urllib3/util/util.py:38\u001b[39m, in \u001b[36mreraise\u001b[39m\u001b[34m(tp, value, tb)\u001b[39m\n\u001b[32m     37\u001b[39m \u001b[38;5;28;01mif\u001b[39;00m value.__traceback__ \u001b[38;5;129;01mis\u001b[39;00m \u001b[38;5;129;01mnot\u001b[39;00m tb:\n\u001b[32m---> \u001b[39m\u001b[32m38\u001b[39m     \u001b[38;5;28;01mraise\u001b[39;00m value.with_traceback(tb)\n\u001b[32m     39\u001b[39m \u001b[38;5;28;01mraise\u001b[39;00m value\n",
      "\u001b[36mFile \u001b[39m\u001b[32m~/projects/python/langchain_learn/.venv/lib/python3.12/site-packages/urllib3/connectionpool.py:773\u001b[39m, in \u001b[36mHTTPConnectionPool.urlopen\u001b[39m\u001b[34m(self, method, url, body, headers, retries, redirect, assert_same_host, timeout, pool_timeout, release_conn, chunked, body_pos, preload_content, decode_content, **response_kw)\u001b[39m\n\u001b[32m    772\u001b[39m \u001b[38;5;28;01mtry\u001b[39;00m:\n\u001b[32m--> \u001b[39m\u001b[32m773\u001b[39m     \u001b[38;5;28;43mself\u001b[39;49m\u001b[43m.\u001b[49m\u001b[43m_prepare_proxy\u001b[49m\u001b[43m(\u001b[49m\u001b[43mconn\u001b[49m\u001b[43m)\u001b[49m\n\u001b[32m    774\u001b[39m \u001b[38;5;28;01mexcept\u001b[39;00m (BaseSSLError, \u001b[38;5;167;01mOSError\u001b[39;00m, SocketTimeout) \u001b[38;5;28;01mas\u001b[39;00m e:\n",
      "\u001b[36mFile \u001b[39m\u001b[32m~/projects/python/langchain_learn/.venv/lib/python3.12/site-packages/urllib3/connectionpool.py:1042\u001b[39m, in \u001b[36mHTTPSConnectionPool._prepare_proxy\u001b[39m\u001b[34m(self, conn)\u001b[39m\n\u001b[32m   1036\u001b[39m conn.set_tunnel(\n\u001b[32m   1037\u001b[39m     scheme=tunnel_scheme,\n\u001b[32m   1038\u001b[39m     host=\u001b[38;5;28mself\u001b[39m._tunnel_host,\n\u001b[32m   1039\u001b[39m     port=\u001b[38;5;28mself\u001b[39m.port,\n\u001b[32m   1040\u001b[39m     headers=\u001b[38;5;28mself\u001b[39m.proxy_headers,\n\u001b[32m   1041\u001b[39m )\n\u001b[32m-> \u001b[39m\u001b[32m1042\u001b[39m \u001b[43mconn\u001b[49m\u001b[43m.\u001b[49m\u001b[43mconnect\u001b[49m\u001b[43m(\u001b[49m\u001b[43m)\u001b[49m\n",
      "\u001b[36mFile \u001b[39m\u001b[32m~/projects/python/langchain_learn/.venv/lib/python3.12/site-packages/urllib3/connection.py:790\u001b[39m, in \u001b[36mHTTPSConnection.connect\u001b[39m\u001b[34m(self)\u001b[39m\n\u001b[32m    788\u001b[39m server_hostname_rm_dot = server_hostname.rstrip(\u001b[33m\"\u001b[39m\u001b[33m.\u001b[39m\u001b[33m\"\u001b[39m)\n\u001b[32m--> \u001b[39m\u001b[32m790\u001b[39m sock_and_verified = \u001b[43m_ssl_wrap_socket_and_match_hostname\u001b[49m\u001b[43m(\u001b[49m\n\u001b[32m    791\u001b[39m \u001b[43m    \u001b[49m\u001b[43msock\u001b[49m\u001b[43m=\u001b[49m\u001b[43msock\u001b[49m\u001b[43m,\u001b[49m\n\u001b[32m    792\u001b[39m \u001b[43m    \u001b[49m\u001b[43mcert_reqs\u001b[49m\u001b[43m=\u001b[49m\u001b[38;5;28;43mself\u001b[39;49m\u001b[43m.\u001b[49m\u001b[43mcert_reqs\u001b[49m\u001b[43m,\u001b[49m\n\u001b[32m    793\u001b[39m \u001b[43m    \u001b[49m\u001b[43mssl_version\u001b[49m\u001b[43m=\u001b[49m\u001b[38;5;28;43mself\u001b[39;49m\u001b[43m.\u001b[49m\u001b[43mssl_version\u001b[49m\u001b[43m,\u001b[49m\n\u001b[32m    794\u001b[39m \u001b[43m    \u001b[49m\u001b[43mssl_minimum_version\u001b[49m\u001b[43m=\u001b[49m\u001b[38;5;28;43mself\u001b[39;49m\u001b[43m.\u001b[49m\u001b[43mssl_minimum_version\u001b[49m\u001b[43m,\u001b[49m\n\u001b[32m    795\u001b[39m \u001b[43m    \u001b[49m\u001b[43mssl_maximum_version\u001b[49m\u001b[43m=\u001b[49m\u001b[38;5;28;43mself\u001b[39;49m\u001b[43m.\u001b[49m\u001b[43mssl_maximum_version\u001b[49m\u001b[43m,\u001b[49m\n\u001b[32m    796\u001b[39m \u001b[43m    \u001b[49m\u001b[43mca_certs\u001b[49m\u001b[43m=\u001b[49m\u001b[38;5;28;43mself\u001b[39;49m\u001b[43m.\u001b[49m\u001b[43mca_certs\u001b[49m\u001b[43m,\u001b[49m\n\u001b[32m    797\u001b[39m \u001b[43m    \u001b[49m\u001b[43mca_cert_dir\u001b[49m\u001b[43m=\u001b[49m\u001b[38;5;28;43mself\u001b[39;49m\u001b[43m.\u001b[49m\u001b[43mca_cert_dir\u001b[49m\u001b[43m,\u001b[49m\n\u001b[32m    798\u001b[39m \u001b[43m    \u001b[49m\u001b[43mca_cert_data\u001b[49m\u001b[43m=\u001b[49m\u001b[38;5;28;43mself\u001b[39;49m\u001b[43m.\u001b[49m\u001b[43mca_cert_data\u001b[49m\u001b[43m,\u001b[49m\n\u001b[32m    799\u001b[39m \u001b[43m    \u001b[49m\u001b[43mcert_file\u001b[49m\u001b[43m=\u001b[49m\u001b[38;5;28;43mself\u001b[39;49m\u001b[43m.\u001b[49m\u001b[43mcert_file\u001b[49m\u001b[43m,\u001b[49m\n\u001b[32m    800\u001b[39m \u001b[43m    \u001b[49m\u001b[43mkey_file\u001b[49m\u001b[43m=\u001b[49m\u001b[38;5;28;43mself\u001b[39;49m\u001b[43m.\u001b[49m\u001b[43mkey_file\u001b[49m\u001b[43m,\u001b[49m\n\u001b[32m    801\u001b[39m \u001b[43m    \u001b[49m\u001b[43mkey_password\u001b[49m\u001b[43m=\u001b[49m\u001b[38;5;28;43mself\u001b[39;49m\u001b[43m.\u001b[49m\u001b[43mkey_password\u001b[49m\u001b[43m,\u001b[49m\n\u001b[32m    802\u001b[39m \u001b[43m    \u001b[49m\u001b[43mserver_hostname\u001b[49m\u001b[43m=\u001b[49m\u001b[43mserver_hostname_rm_dot\u001b[49m\u001b[43m,\u001b[49m\n\u001b[32m    803\u001b[39m \u001b[43m    \u001b[49m\u001b[43mssl_context\u001b[49m\u001b[43m=\u001b[49m\u001b[38;5;28;43mself\u001b[39;49m\u001b[43m.\u001b[49m\u001b[43mssl_context\u001b[49m\u001b[43m,\u001b[49m\n\u001b[32m    804\u001b[39m \u001b[43m    \u001b[49m\u001b[43mtls_in_tls\u001b[49m\u001b[43m=\u001b[49m\u001b[43mtls_in_tls\u001b[49m\u001b[43m,\u001b[49m\n\u001b[32m    805\u001b[39m \u001b[43m    \u001b[49m\u001b[43massert_hostname\u001b[49m\u001b[43m=\u001b[49m\u001b[38;5;28;43mself\u001b[39;49m\u001b[43m.\u001b[49m\u001b[43massert_hostname\u001b[49m\u001b[43m,\u001b[49m\n\u001b[32m    806\u001b[39m \u001b[43m    \u001b[49m\u001b[43massert_fingerprint\u001b[49m\u001b[43m=\u001b[49m\u001b[38;5;28;43mself\u001b[39;49m\u001b[43m.\u001b[49m\u001b[43massert_fingerprint\u001b[49m\u001b[43m,\u001b[49m\n\u001b[32m    807\u001b[39m \u001b[43m\u001b[49m\u001b[43m)\u001b[49m\n\u001b[32m    808\u001b[39m \u001b[38;5;28mself\u001b[39m.sock = sock_and_verified.socket\n",
      "\u001b[36mFile \u001b[39m\u001b[32m~/projects/python/langchain_learn/.venv/lib/python3.12/site-packages/urllib3/connection.py:969\u001b[39m, in \u001b[36m_ssl_wrap_socket_and_match_hostname\u001b[39m\u001b[34m(sock, cert_reqs, ssl_version, ssl_minimum_version, ssl_maximum_version, cert_file, key_file, key_password, ca_certs, ca_cert_dir, ca_cert_data, assert_hostname, assert_fingerprint, server_hostname, ssl_context, tls_in_tls)\u001b[39m\n\u001b[32m    967\u001b[39m         server_hostname = normalized\n\u001b[32m--> \u001b[39m\u001b[32m969\u001b[39m ssl_sock = \u001b[43mssl_wrap_socket\u001b[49m\u001b[43m(\u001b[49m\n\u001b[32m    970\u001b[39m \u001b[43m    \u001b[49m\u001b[43msock\u001b[49m\u001b[43m=\u001b[49m\u001b[43msock\u001b[49m\u001b[43m,\u001b[49m\n\u001b[32m    971\u001b[39m \u001b[43m    \u001b[49m\u001b[43mkeyfile\u001b[49m\u001b[43m=\u001b[49m\u001b[43mkey_file\u001b[49m\u001b[43m,\u001b[49m\n\u001b[32m    972\u001b[39m \u001b[43m    \u001b[49m\u001b[43mcertfile\u001b[49m\u001b[43m=\u001b[49m\u001b[43mcert_file\u001b[49m\u001b[43m,\u001b[49m\n\u001b[32m    973\u001b[39m \u001b[43m    \u001b[49m\u001b[43mkey_password\u001b[49m\u001b[43m=\u001b[49m\u001b[43mkey_password\u001b[49m\u001b[43m,\u001b[49m\n\u001b[32m    974\u001b[39m \u001b[43m    \u001b[49m\u001b[43mca_certs\u001b[49m\u001b[43m=\u001b[49m\u001b[43mca_certs\u001b[49m\u001b[43m,\u001b[49m\n\u001b[32m    975\u001b[39m \u001b[43m    \u001b[49m\u001b[43mca_cert_dir\u001b[49m\u001b[43m=\u001b[49m\u001b[43mca_cert_dir\u001b[49m\u001b[43m,\u001b[49m\n\u001b[32m    976\u001b[39m \u001b[43m    \u001b[49m\u001b[43mca_cert_data\u001b[49m\u001b[43m=\u001b[49m\u001b[43mca_cert_data\u001b[49m\u001b[43m,\u001b[49m\n\u001b[32m    977\u001b[39m \u001b[43m    \u001b[49m\u001b[43mserver_hostname\u001b[49m\u001b[43m=\u001b[49m\u001b[43mserver_hostname\u001b[49m\u001b[43m,\u001b[49m\n\u001b[32m    978\u001b[39m \u001b[43m    \u001b[49m\u001b[43mssl_context\u001b[49m\u001b[43m=\u001b[49m\u001b[43mcontext\u001b[49m\u001b[43m,\u001b[49m\n\u001b[32m    979\u001b[39m \u001b[43m    \u001b[49m\u001b[43mtls_in_tls\u001b[49m\u001b[43m=\u001b[49m\u001b[43mtls_in_tls\u001b[49m\u001b[43m,\u001b[49m\n\u001b[32m    980\u001b[39m \u001b[43m\u001b[49m\u001b[43m)\u001b[49m\n\u001b[32m    982\u001b[39m \u001b[38;5;28;01mtry\u001b[39;00m:\n",
      "\u001b[36mFile \u001b[39m\u001b[32m~/projects/python/langchain_learn/.venv/lib/python3.12/site-packages/urllib3/util/ssl_.py:480\u001b[39m, in \u001b[36mssl_wrap_socket\u001b[39m\u001b[34m(sock, keyfile, certfile, cert_reqs, ca_certs, server_hostname, ssl_version, ciphers, ssl_context, ca_cert_dir, key_password, ca_cert_data, tls_in_tls)\u001b[39m\n\u001b[32m    478\u001b[39m context.set_alpn_protocols(ALPN_PROTOCOLS)\n\u001b[32m--> \u001b[39m\u001b[32m480\u001b[39m ssl_sock = \u001b[43m_ssl_wrap_socket_impl\u001b[49m\u001b[43m(\u001b[49m\u001b[43msock\u001b[49m\u001b[43m,\u001b[49m\u001b[43m \u001b[49m\u001b[43mcontext\u001b[49m\u001b[43m,\u001b[49m\u001b[43m \u001b[49m\u001b[43mtls_in_tls\u001b[49m\u001b[43m,\u001b[49m\u001b[43m \u001b[49m\u001b[43mserver_hostname\u001b[49m\u001b[43m)\u001b[49m\n\u001b[32m    481\u001b[39m \u001b[38;5;28;01mreturn\u001b[39;00m ssl_sock\n",
      "\u001b[36mFile \u001b[39m\u001b[32m~/projects/python/langchain_learn/.venv/lib/python3.12/site-packages/urllib3/util/ssl_.py:524\u001b[39m, in \u001b[36m_ssl_wrap_socket_impl\u001b[39m\u001b[34m(sock, ssl_context, tls_in_tls, server_hostname)\u001b[39m\n\u001b[32m    522\u001b[39m     \u001b[38;5;28;01mreturn\u001b[39;00m SSLTransport(sock, ssl_context, server_hostname)\n\u001b[32m--> \u001b[39m\u001b[32m524\u001b[39m \u001b[38;5;28;01mreturn\u001b[39;00m \u001b[43mssl_context\u001b[49m\u001b[43m.\u001b[49m\u001b[43mwrap_socket\u001b[49m\u001b[43m(\u001b[49m\u001b[43msock\u001b[49m\u001b[43m,\u001b[49m\u001b[43m \u001b[49m\u001b[43mserver_hostname\u001b[49m\u001b[43m=\u001b[49m\u001b[43mserver_hostname\u001b[49m\u001b[43m)\u001b[49m\n",
      "\u001b[36mFile \u001b[39m\u001b[32m~/.pyenv/versions/3.12.11/lib/python3.12/ssl.py:455\u001b[39m, in \u001b[36mSSLContext.wrap_socket\u001b[39m\u001b[34m(self, sock, server_side, do_handshake_on_connect, suppress_ragged_eofs, server_hostname, session)\u001b[39m\n\u001b[32m    449\u001b[39m \u001b[38;5;28;01mdef\u001b[39;00m\u001b[38;5;250m \u001b[39m\u001b[34mwrap_socket\u001b[39m(\u001b[38;5;28mself\u001b[39m, sock, server_side=\u001b[38;5;28;01mFalse\u001b[39;00m,\n\u001b[32m    450\u001b[39m                 do_handshake_on_connect=\u001b[38;5;28;01mTrue\u001b[39;00m,\n\u001b[32m    451\u001b[39m                 suppress_ragged_eofs=\u001b[38;5;28;01mTrue\u001b[39;00m,\n\u001b[32m    452\u001b[39m                 server_hostname=\u001b[38;5;28;01mNone\u001b[39;00m, session=\u001b[38;5;28;01mNone\u001b[39;00m):\n\u001b[32m    453\u001b[39m     \u001b[38;5;66;03m# SSLSocket class handles server_hostname encoding before it calls\u001b[39;00m\n\u001b[32m    454\u001b[39m     \u001b[38;5;66;03m# ctx._wrap_socket()\u001b[39;00m\n\u001b[32m--> \u001b[39m\u001b[32m455\u001b[39m     \u001b[38;5;28;01mreturn\u001b[39;00m \u001b[38;5;28;43mself\u001b[39;49m\u001b[43m.\u001b[49m\u001b[43msslsocket_class\u001b[49m\u001b[43m.\u001b[49m\u001b[43m_create\u001b[49m\u001b[43m(\u001b[49m\n\u001b[32m    456\u001b[39m \u001b[43m        \u001b[49m\u001b[43msock\u001b[49m\u001b[43m=\u001b[49m\u001b[43msock\u001b[49m\u001b[43m,\u001b[49m\n\u001b[32m    457\u001b[39m \u001b[43m        \u001b[49m\u001b[43mserver_side\u001b[49m\u001b[43m=\u001b[49m\u001b[43mserver_side\u001b[49m\u001b[43m,\u001b[49m\n\u001b[32m    458\u001b[39m \u001b[43m        \u001b[49m\u001b[43mdo_handshake_on_connect\u001b[49m\u001b[43m=\u001b[49m\u001b[43mdo_handshake_on_connect\u001b[49m\u001b[43m,\u001b[49m\n\u001b[32m    459\u001b[39m \u001b[43m        \u001b[49m\u001b[43msuppress_ragged_eofs\u001b[49m\u001b[43m=\u001b[49m\u001b[43msuppress_ragged_eofs\u001b[49m\u001b[43m,\u001b[49m\n\u001b[32m    460\u001b[39m \u001b[43m        \u001b[49m\u001b[43mserver_hostname\u001b[49m\u001b[43m=\u001b[49m\u001b[43mserver_hostname\u001b[49m\u001b[43m,\u001b[49m\n\u001b[32m    461\u001b[39m \u001b[43m        \u001b[49m\u001b[43mcontext\u001b[49m\u001b[43m=\u001b[49m\u001b[38;5;28;43mself\u001b[39;49m\u001b[43m,\u001b[49m\n\u001b[32m    462\u001b[39m \u001b[43m        \u001b[49m\u001b[43msession\u001b[49m\u001b[43m=\u001b[49m\u001b[43msession\u001b[49m\n\u001b[32m    463\u001b[39m \u001b[43m    \u001b[49m\u001b[43m)\u001b[49m\n",
      "\u001b[36mFile \u001b[39m\u001b[32m~/.pyenv/versions/3.12.11/lib/python3.12/ssl.py:1041\u001b[39m, in \u001b[36mSSLSocket._create\u001b[39m\u001b[34m(cls, sock, server_side, do_handshake_on_connect, suppress_ragged_eofs, server_hostname, context, session)\u001b[39m\n\u001b[32m   1040\u001b[39m                 \u001b[38;5;28;01mraise\u001b[39;00m \u001b[38;5;167;01mValueError\u001b[39;00m(\u001b[33m\"\u001b[39m\u001b[33mdo_handshake_on_connect should not be specified for non-blocking sockets\u001b[39m\u001b[33m\"\u001b[39m)\n\u001b[32m-> \u001b[39m\u001b[32m1041\u001b[39m             \u001b[38;5;28;43mself\u001b[39;49m\u001b[43m.\u001b[49m\u001b[43mdo_handshake\u001b[49m\u001b[43m(\u001b[49m\u001b[43m)\u001b[49m\n\u001b[32m   1042\u001b[39m \u001b[38;5;28;01mexcept\u001b[39;00m:\n",
      "\u001b[36mFile \u001b[39m\u001b[32m~/.pyenv/versions/3.12.11/lib/python3.12/ssl.py:1319\u001b[39m, in \u001b[36mSSLSocket.do_handshake\u001b[39m\u001b[34m(self, block)\u001b[39m\n\u001b[32m   1318\u001b[39m         \u001b[38;5;28mself\u001b[39m.settimeout(\u001b[38;5;28;01mNone\u001b[39;00m)\n\u001b[32m-> \u001b[39m\u001b[32m1319\u001b[39m     \u001b[38;5;28;43mself\u001b[39;49m\u001b[43m.\u001b[49m\u001b[43m_sslobj\u001b[49m\u001b[43m.\u001b[49m\u001b[43mdo_handshake\u001b[49m\u001b[43m(\u001b[49m\u001b[43m)\u001b[49m\n\u001b[32m   1320\u001b[39m \u001b[38;5;28;01mfinally\u001b[39;00m:\n",
      "\u001b[31mProtocolError\u001b[39m: ('Connection aborted.', ConnectionResetError(104, 'Connection reset by peer'))",
      "\nDuring handling of the above exception, another exception occurred:\n",
      "\u001b[31mConnectionError\u001b[39m                           Traceback (most recent call last)",
      "\u001b[36mCell\u001b[39m\u001b[36m \u001b[39m\u001b[32mIn[8]\u001b[39m\u001b[32m, line 3\u001b[39m\n\u001b[32m      1\u001b[39m \u001b[38;5;66;03m# 下载测试文档\u001b[39;00m\n\u001b[32m      2\u001b[39m \u001b[38;5;28;01mfrom\u001b[39;00m\u001b[38;5;250m \u001b[39m\u001b[34;01mgraph_rag_example_helpers\u001b[39;00m\u001b[34;01m.\u001b[39;00m\u001b[34;01mdatasets\u001b[39;00m\u001b[34;01m.\u001b[39;00m\u001b[34;01manimals\u001b[39;00m\u001b[38;5;250m \u001b[39m\u001b[38;5;28;01mimport\u001b[39;00m fetch_documents\n\u001b[32m----> \u001b[39m\u001b[32m3\u001b[39m animals = \u001b[43mfetch_documents\u001b[49m\u001b[43m(\u001b[49m\u001b[43m)\u001b[49m\n",
      "\u001b[36mFile \u001b[39m\u001b[32m~/projects/python/langchain_learn/.venv/lib/python3.12/site-packages/graph_rag_example_helpers/datasets/animals/fetch.py:24\u001b[39m, in \u001b[36mfetch_documents\u001b[39m\u001b[34m()\u001b[39m\n\u001b[32m      9\u001b[39m \u001b[38;5;28;01mdef\u001b[39;00m\u001b[38;5;250m \u001b[39m\u001b[34mfetch_documents\u001b[39m() -> \u001b[38;5;28mlist\u001b[39m[Document]:\n\u001b[32m     10\u001b[39m \u001b[38;5;250m    \u001b[39m\u001b[33;03m\"\"\"\u001b[39;00m\n\u001b[32m     11\u001b[39m \u001b[33;03m    Download and parse a list of Documents for use with Graph Retriever.\u001b[39;00m\n\u001b[32m     12\u001b[39m \n\u001b[32m   (...)\u001b[39m\u001b[32m     22\u001b[39m \u001b[33;03m        The fetched animal documents.\u001b[39;00m\n\u001b[32m     23\u001b[39m \u001b[33;03m    \"\"\"\u001b[39;00m\n\u001b[32m---> \u001b[39m\u001b[32m24\u001b[39m     response = \u001b[43mrequests\u001b[49m\u001b[43m.\u001b[49m\u001b[43mget\u001b[49m\u001b[43m(\u001b[49m\u001b[43mANIMALS_JSONL_URL\u001b[49m\u001b[43m)\u001b[49m\n\u001b[32m     25\u001b[39m     response.raise_for_status()  \u001b[38;5;66;03m# Ensure we got a valid response\u001b[39;00m\n\u001b[32m     27\u001b[39m     \u001b[38;5;28;01mreturn\u001b[39;00m [\n\u001b[32m     28\u001b[39m         Document(\u001b[38;5;28mid\u001b[39m=data[\u001b[33m\"\u001b[39m\u001b[33mid\u001b[39m\u001b[33m\"\u001b[39m], page_content=data[\u001b[33m\"\u001b[39m\u001b[33mtext\u001b[39m\u001b[33m\"\u001b[39m], metadata=data[\u001b[33m\"\u001b[39m\u001b[33mmetadata\u001b[39m\u001b[33m\"\u001b[39m])\n\u001b[32m     29\u001b[39m         \u001b[38;5;28;01mfor\u001b[39;00m line \u001b[38;5;129;01min\u001b[39;00m response.text.splitlines()\n\u001b[32m     30\u001b[39m         \u001b[38;5;28;01mif\u001b[39;00m (data := json.loads(line))\n\u001b[32m     31\u001b[39m     ]\n",
      "\u001b[36mFile \u001b[39m\u001b[32m~/projects/python/langchain_learn/.venv/lib/python3.12/site-packages/requests/api.py:73\u001b[39m, in \u001b[36mget\u001b[39m\u001b[34m(url, params, **kwargs)\u001b[39m\n\u001b[32m     62\u001b[39m \u001b[38;5;28;01mdef\u001b[39;00m\u001b[38;5;250m \u001b[39m\u001b[34mget\u001b[39m(url, params=\u001b[38;5;28;01mNone\u001b[39;00m, **kwargs):\n\u001b[32m     63\u001b[39m \u001b[38;5;250m    \u001b[39m\u001b[33mr\u001b[39m\u001b[33;03m\"\"\"Sends a GET request.\u001b[39;00m\n\u001b[32m     64\u001b[39m \n\u001b[32m     65\u001b[39m \u001b[33;03m    :param url: URL for the new :class:`Request` object.\u001b[39;00m\n\u001b[32m   (...)\u001b[39m\u001b[32m     70\u001b[39m \u001b[33;03m    :rtype: requests.Response\u001b[39;00m\n\u001b[32m     71\u001b[39m \u001b[33;03m    \"\"\"\u001b[39;00m\n\u001b[32m---> \u001b[39m\u001b[32m73\u001b[39m     \u001b[38;5;28;01mreturn\u001b[39;00m \u001b[43mrequest\u001b[49m\u001b[43m(\u001b[49m\u001b[33;43m\"\u001b[39;49m\u001b[33;43mget\u001b[39;49m\u001b[33;43m\"\u001b[39;49m\u001b[43m,\u001b[49m\u001b[43m \u001b[49m\u001b[43murl\u001b[49m\u001b[43m,\u001b[49m\u001b[43m \u001b[49m\u001b[43mparams\u001b[49m\u001b[43m=\u001b[49m\u001b[43mparams\u001b[49m\u001b[43m,\u001b[49m\u001b[43m \u001b[49m\u001b[43m*\u001b[49m\u001b[43m*\u001b[49m\u001b[43mkwargs\u001b[49m\u001b[43m)\u001b[49m\n",
      "\u001b[36mFile \u001b[39m\u001b[32m~/projects/python/langchain_learn/.venv/lib/python3.12/site-packages/requests/api.py:59\u001b[39m, in \u001b[36mrequest\u001b[39m\u001b[34m(method, url, **kwargs)\u001b[39m\n\u001b[32m     55\u001b[39m \u001b[38;5;66;03m# By using the 'with' statement we are sure the session is closed, thus we\u001b[39;00m\n\u001b[32m     56\u001b[39m \u001b[38;5;66;03m# avoid leaving sockets open which can trigger a ResourceWarning in some\u001b[39;00m\n\u001b[32m     57\u001b[39m \u001b[38;5;66;03m# cases, and look like a memory leak in others.\u001b[39;00m\n\u001b[32m     58\u001b[39m \u001b[38;5;28;01mwith\u001b[39;00m sessions.Session() \u001b[38;5;28;01mas\u001b[39;00m session:\n\u001b[32m---> \u001b[39m\u001b[32m59\u001b[39m     \u001b[38;5;28;01mreturn\u001b[39;00m \u001b[43msession\u001b[49m\u001b[43m.\u001b[49m\u001b[43mrequest\u001b[49m\u001b[43m(\u001b[49m\u001b[43mmethod\u001b[49m\u001b[43m=\u001b[49m\u001b[43mmethod\u001b[49m\u001b[43m,\u001b[49m\u001b[43m \u001b[49m\u001b[43murl\u001b[49m\u001b[43m=\u001b[49m\u001b[43murl\u001b[49m\u001b[43m,\u001b[49m\u001b[43m \u001b[49m\u001b[43m*\u001b[49m\u001b[43m*\u001b[49m\u001b[43mkwargs\u001b[49m\u001b[43m)\u001b[49m\n",
      "\u001b[36mFile \u001b[39m\u001b[32m~/projects/python/langchain_learn/.venv/lib/python3.12/site-packages/requests/sessions.py:589\u001b[39m, in \u001b[36mSession.request\u001b[39m\u001b[34m(self, method, url, params, data, headers, cookies, files, auth, timeout, allow_redirects, proxies, hooks, stream, verify, cert, json)\u001b[39m\n\u001b[32m    584\u001b[39m send_kwargs = {\n\u001b[32m    585\u001b[39m     \u001b[33m\"\u001b[39m\u001b[33mtimeout\u001b[39m\u001b[33m\"\u001b[39m: timeout,\n\u001b[32m    586\u001b[39m     \u001b[33m\"\u001b[39m\u001b[33mallow_redirects\u001b[39m\u001b[33m\"\u001b[39m: allow_redirects,\n\u001b[32m    587\u001b[39m }\n\u001b[32m    588\u001b[39m send_kwargs.update(settings)\n\u001b[32m--> \u001b[39m\u001b[32m589\u001b[39m resp = \u001b[38;5;28;43mself\u001b[39;49m\u001b[43m.\u001b[49m\u001b[43msend\u001b[49m\u001b[43m(\u001b[49m\u001b[43mprep\u001b[49m\u001b[43m,\u001b[49m\u001b[43m \u001b[49m\u001b[43m*\u001b[49m\u001b[43m*\u001b[49m\u001b[43msend_kwargs\u001b[49m\u001b[43m)\u001b[49m\n\u001b[32m    591\u001b[39m \u001b[38;5;28;01mreturn\u001b[39;00m resp\n",
      "\u001b[36mFile \u001b[39m\u001b[32m~/projects/python/langchain_learn/.venv/lib/python3.12/site-packages/requests/sessions.py:703\u001b[39m, in \u001b[36mSession.send\u001b[39m\u001b[34m(self, request, **kwargs)\u001b[39m\n\u001b[32m    700\u001b[39m start = preferred_clock()\n\u001b[32m    702\u001b[39m \u001b[38;5;66;03m# Send the request\u001b[39;00m\n\u001b[32m--> \u001b[39m\u001b[32m703\u001b[39m r = \u001b[43madapter\u001b[49m\u001b[43m.\u001b[49m\u001b[43msend\u001b[49m\u001b[43m(\u001b[49m\u001b[43mrequest\u001b[49m\u001b[43m,\u001b[49m\u001b[43m \u001b[49m\u001b[43m*\u001b[49m\u001b[43m*\u001b[49m\u001b[43mkwargs\u001b[49m\u001b[43m)\u001b[49m\n\u001b[32m    705\u001b[39m \u001b[38;5;66;03m# Total elapsed time of the request (approximately)\u001b[39;00m\n\u001b[32m    706\u001b[39m elapsed = preferred_clock() - start\n",
      "\u001b[36mFile \u001b[39m\u001b[32m~/projects/python/langchain_learn/.venv/lib/python3.12/site-packages/requests/adapters.py:659\u001b[39m, in \u001b[36mHTTPAdapter.send\u001b[39m\u001b[34m(self, request, stream, timeout, verify, cert, proxies)\u001b[39m\n\u001b[32m    644\u001b[39m     resp = conn.urlopen(\n\u001b[32m    645\u001b[39m         method=request.method,\n\u001b[32m    646\u001b[39m         url=url,\n\u001b[32m   (...)\u001b[39m\u001b[32m    655\u001b[39m         chunked=chunked,\n\u001b[32m    656\u001b[39m     )\n\u001b[32m    658\u001b[39m \u001b[38;5;28;01mexcept\u001b[39;00m (ProtocolError, \u001b[38;5;167;01mOSError\u001b[39;00m) \u001b[38;5;28;01mas\u001b[39;00m err:\n\u001b[32m--> \u001b[39m\u001b[32m659\u001b[39m     \u001b[38;5;28;01mraise\u001b[39;00m \u001b[38;5;167;01mConnectionError\u001b[39;00m(err, request=request)\n\u001b[32m    661\u001b[39m \u001b[38;5;28;01mexcept\u001b[39;00m MaxRetryError \u001b[38;5;28;01mas\u001b[39;00m e:\n\u001b[32m    662\u001b[39m     \u001b[38;5;28;01mif\u001b[39;00m \u001b[38;5;28misinstance\u001b[39m(e.reason, ConnectTimeoutError):\n\u001b[32m    663\u001b[39m         \u001b[38;5;66;03m# TODO: Remove this in 3.0.0: see #2811\u001b[39;00m\n",
      "\u001b[31mConnectionError\u001b[39m: ('Connection aborted.', ConnectionResetError(104, 'Connection reset by peer'))"
     ]
    }
   ],
   "source": [
    "# 下载测试文档\n",
    "from graph_rag_example_helpers.datasets.animals import fetch_documents\n",
    "\n",
    "animals = fetch_documents()"
   ]
  },
  {
   "cell_type": "markdown",
   "id": "76dd9234",
   "metadata": {},
   "source": [
    "简单处理下数据"
   ]
  },
  {
   "cell_type": "code",
   "execution_count": null,
   "id": "eec22167",
   "metadata": {},
   "outputs": [
    {
     "ename": "NameError",
     "evalue": "name 'animals' is not defined",
     "output_type": "error",
     "traceback": [
      "\u001b[31m---------------------------------------------------------------------------\u001b[39m",
      "\u001b[31mNameError\u001b[39m                                 Traceback (most recent call last)",
      "\u001b[36mCell\u001b[39m\u001b[36m \u001b[39m\u001b[32mIn[9]\u001b[39m\u001b[32m, line 1\u001b[39m\n\u001b[32m----> \u001b[39m\u001b[32m1\u001b[39m \u001b[38;5;28;01mfor\u001b[39;00m doc \u001b[38;5;129;01min\u001b[39;00m \u001b[43manimals\u001b[49m:\n\u001b[32m      2\u001b[39m     keys_to_delete = []\n\u001b[32m      3\u001b[39m     \u001b[38;5;28;01mfor\u001b[39;00m key, value \u001b[38;5;129;01min\u001b[39;00m doc.etadata.items():\n",
      "\u001b[31mNameError\u001b[39m: name 'animals' is not defined"
     ]
    }
   ],
   "source": [
    "for doc in animals:\n",
    "    keys_to_delete = []\n",
    "    for key, value in doc.etadata.items():\n",
    "        if isinstance(value, dict):\n",
    "            keys_to_delete.append(key)\n",
    "    for key in keys_to_delete:\n",
    "        del doc.metadata[key]\n",
    "\n",
    "print(animals)"
   ]
  },
  {
   "cell_type": "markdown",
   "id": "fd145906",
   "metadata": {},
   "source": [
    "创建一个向量数据库测试"
   ]
  },
  {
   "cell_type": "code",
   "execution_count": null,
   "id": "5180e1d5",
   "metadata": {},
   "outputs": [],
   "source": [
    "from langchain_chroma.vectorstores import Chroma\n",
    "from langchain_graph_retriever.transformers import ShreddingTransformer\n",
    "\n",
    "vector_store = Chroma.from_documents(\n",
    "    documents=list(ShreddingTransformer().transform_documents(animals)),\n",
    "    embedding=embeddings_model,\n",
    "    collection_name=\"animals\",\n",
    ")"
   ]
  },
  {
   "cell_type": "markdown",
   "id": "1517cc6c",
   "metadata": {},
   "source": [
    "创建一个基于知识图谱的检索，在这个检索里检索器从与查询最匹配的单个动物开始，然后遍历到具有相同习性或来源的动物"
   ]
  },
  {
   "cell_type": "code",
   "execution_count": null,
   "id": "d66ba208",
   "metadata": {},
   "outputs": [],
   "source": [
    "from graph_retriever.strategies import Eager\n",
    "from langchain_graph_retriever import GraphRetriever\n",
    "\n",
    "traversal_retriever = GraphRetriever(\n",
    "    store=vector_store,\n",
    "    edges=[(\"habitat\", \"habitat\"), (\"origin\", \"origin\")],\n",
    "    strategy=Eager(k=5, start_k=1, max_depth=2),  # 查询策略 返回5 最大深度2级\n",
    ")\n",
    "\n",
    "# 查询\n",
    "results = traversal_retriever.invoke(\"what animals could be found near acapybara?\")\n",
    "for doc in results:\n",
    "    print(f\"{doc.id}: {doc.page_content}\")"
   ]
  },
  {
   "cell_type": "markdown",
   "id": "139d5d27",
   "metadata": {},
   "source": [
    "整合到链中"
   ]
  },
  {
   "cell_type": "code",
   "execution_count": null,
   "id": "845a66d2",
   "metadata": {},
   "outputs": [],
   "source": [
    "from langchain_core.output_parsers import StrOutputParser\n",
    "from langchain_core.prompts import ChatPromptTemplate\n",
    "from langchain_core.runnables import RunnablePassthrough\n",
    "\n",
    "prompt = ChatPromptTemplate.from_template(\n",
    "    \"\"\"\n",
    "    Answer the question based only on the context provided.\n",
    "    \n",
    "    Context:{context}\n",
    "    \n",
    "    Question: {question}\n",
    "    the final answer should·be use chinese\n",
    "    \"\"\"\n",
    ")\n",
    "\n",
    "\n",
    "def format_docs(docs):\n",
    "    return \"\\n\\n\".join(\n",
    "        f\"text: {doc.page_content} metadata: {doc.metadata}\" for doc in docs\n",
    "    )\n",
    "\n",
    "\n",
    "chain = (\n",
    "    {\"context\": traversal_retriever | format_docs, \"question\": RunnablePassthrough()}\n",
    "    | prompt\n",
    "    | llm\n",
    "    | StrOutputParser()\n",
    ")\n",
    "\n",
    "chain.invoke(\"what animals could be found near acapybara?\")"
   ]
  }
 ],
 "metadata": {
  "kernelspec": {
   "display_name": ".venv (3.12.11)",
   "language": "python",
   "name": "python3"
  },
  "language_info": {
   "codemirror_mode": {
    "name": "ipython",
    "version": 3
   },
   "file_extension": ".py",
   "mimetype": "text/x-python",
   "name": "python",
   "nbconvert_exporter": "python",
   "pygments_lexer": "ipython3",
   "version": "3.12.11"
  }
 },
 "nbformat": 4,
 "nbformat_minor": 5
}
