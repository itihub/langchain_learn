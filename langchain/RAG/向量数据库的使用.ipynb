{
 "cells": [
  {
   "cell_type": "markdown",
   "id": "57592a94",
   "metadata": {},
   "source": [
    "# 向量数据库的使用\n",
    "+ 向量库的数据增加\n",
    "+ 向量库的数据删除\n",
    "+ 向量库的相似性搜索\n",
    "+ 高级使用：MMMR\n",
    "+ 高级使用：混合搜索"
   ]
  },
  {
   "cell_type": "code",
   "execution_count": 12,
   "id": "97aa5917",
   "metadata": {},
   "outputs": [
    {
     "data": {
      "text/plain": [
       "True"
      ]
     },
     "execution_count": 12,
     "metadata": {},
     "output_type": "execute_result"
    }
   ],
   "source": [
    "import os\n",
    "from dotenv import load_dotenv\n",
    "\n",
    "# 加载 .env 文件中的环境变量\n",
    "load_dotenv(override=True)  # 使用 override=True 确保加载最新的 .env 数据"
   ]
  },
  {
   "cell_type": "code",
   "execution_count": 3,
   "id": "f786f96e",
   "metadata": {},
   "outputs": [],
   "source": [
    "from langchain_openai import OpenAIEmbeddings\n",
    "import os\n",
    "\n",
    "embeddings_model = OpenAIEmbeddings(\n",
    "    model=\"BAAI/bge-m3\",\n",
    "    # https://api.siliconflow.cn/v1/embeddings\n",
    "    base_url=os.environ.get(\"SILICONFLOW_API_BASE\"),\n",
    "    api_key=os.environ.get(\"SILICONFLOW_API_KEY\"),\n",
    ")"
   ]
  },
  {
   "cell_type": "markdown",
   "id": "6ec659cc",
   "metadata": {},
   "source": [
    "## 向量库的数据增加"
   ]
  },
  {
   "cell_type": "markdown",
   "id": "f9b0e8a6",
   "metadata": {},
   "source": [
    "为了演示方便引入内存向量数据库，它将向量暂存在内存中，并使用字典以及numpy计算搜索的余玄相似度"
   ]
  },
  {
   "cell_type": "code",
   "execution_count": 5,
   "id": "0546a79a",
   "metadata": {},
   "outputs": [],
   "source": [
    "from langchain_core.vectorstores import InMemoryVectorStore\n",
    "\n",
    "vector_store = InMemoryVectorStore(embedding=embeddings_model)"
   ]
  },
  {
   "cell_type": "code",
   "execution_count": 6,
   "id": "01a30744",
   "metadata": {},
   "outputs": [
    {
     "data": {
      "text/plain": [
       "['ac2b6080-0a83-4b4f-820f-f2b98dcbd326',\n",
       " '5f612340-0b84-41fe-be06-d0809d71c0ce']"
      ]
     },
     "execution_count": 6,
     "metadata": {},
     "output_type": "execute_result"
    }
   ],
   "source": [
    "from langchain_core.documents import Document\n",
    "\n",
    "document_1 = Document(\n",
    "    page_content=\"今天在抖音学会了一个新菜:锅巴土豆泥!看起来简单，实际炸了厨房，连猫都嫌弃地走开了。\",\n",
    "    metadata={\"source\": \"社交媒体\"},\n",
    ")\n",
    "\n",
    "document_2 = Document(\n",
    "    page_content=\"小区遛狗大爷今日播报:广场舞大妈占领健身区，遛狗群众纷纷撤退。现场气氛诡异，BGM已循环播放《最炫民族风》两小时。\",\n",
    "    metadata={\"source\": \"社区新闻\"},\n",
    ")\n",
    "\n",
    "documents = [document_1, document_2]\n",
    "\n",
    "# 添加到向量数据库中\n",
    "vector_store.add_documents(documents=documents)"
   ]
  },
  {
   "cell_type": "code",
   "execution_count": 7,
   "id": "dfee7b8f",
   "metadata": {},
   "outputs": [
    {
     "data": {
      "text/plain": [
       "['doc1', 'doc2']"
      ]
     },
     "execution_count": 7,
     "metadata": {},
     "output_type": "execute_result"
    }
   ],
   "source": [
    "# 可以为添加的文档增加ID索引，便于后面管理\n",
    "vector_store.add_documents(documents=documents, ids=[\"doc1\", \"doc2\"])"
   ]
  },
  {
   "cell_type": "markdown",
   "id": "8d9f7db3",
   "metadata": {},
   "source": [
    "## 向量库的数据删除"
   ]
  },
  {
   "cell_type": "code",
   "execution_count": 8,
   "id": "e78af25f",
   "metadata": {},
   "outputs": [],
   "source": [
    "vector_store.delete(id=[\"doc1\"])"
   ]
  },
  {
   "cell_type": "markdown",
   "id": "8d7dfd63",
   "metadata": {},
   "source": [
    "## 向量库的相似性搜索"
   ]
  },
  {
   "cell_type": "code",
   "execution_count": null,
   "id": "240c83f6",
   "metadata": {},
   "outputs": [
    {
     "name": "stdout",
     "output_type": "stream",
     "text": [
      "小区遛狗大爷今日播报:广场舞大妈占领健身区，遛狗群众纷纷撤退。现场气氛诡异，BGM已循环播放《最炫民族风》两小时。\n"
     ]
    }
   ],
   "source": [
    "# 关键词搜索\n",
    "query = \"遛狗\"\n",
    "docs = vector_store.similarity_search(query)\n",
    "print(docs[0].page_content)"
   ]
  },
  {
   "cell_type": "code",
   "execution_count": 10,
   "id": "9dee93d4",
   "metadata": {},
   "outputs": [
    {
     "name": "stdout",
     "output_type": "stream",
     "text": [
      "小区遛狗大爷今日播报:广场舞大妈占领健身区，遛狗群众纷纷撤退。现场气氛诡异，BGM已循环播放《最炫民族风》两小时。\n"
     ]
    }
   ],
   "source": [
    "# 使用向量查相似向量的方式来搜索\n",
    "\n",
    "embedding_vector = embeddings_model.embed_query(query)\n",
    "docs = vector_store.similarity_search_by_vector(embedding_vector)\n",
    "print(docs[0].page_content)"
   ]
  },
  {
   "cell_type": "markdown",
   "id": "cdad1fa4",
   "metadata": {},
   "source": [
    "注意：langchain只是在接口层面进行了封装，具体的搜索实现要依赖向量库本身的能力，比如Pinecone就可以进行元数据过滤，内存向量就不可以\n",
    "\n",
    "需要去Pinecone官网申请账号获取API\n",
    "https://docs.pinecone.io/guides/get-started/quickstart"
   ]
  },
  {
   "cell_type": "markdown",
   "id": "4d1eeaeb",
   "metadata": {},
   "source": [
    "### 使用Pinecone向量数据库进行元数据过滤"
   ]
  },
  {
   "cell_type": "code",
   "execution_count": 11,
   "id": "4211c8d5",
   "metadata": {},
   "outputs": [],
   "source": [
    "! pip install -qU langchain-pinecone pinecone-notebooks"
   ]
  },
  {
   "cell_type": "code",
   "execution_count": null,
   "id": "6feaf257",
   "metadata": {},
   "outputs": [],
   "source": [
    "import getpass\n",
    "import os\n",
    "\n",
    "from pinecone import Pinecone, ServerlessSpec\n",
    "\n",
    "if not os.getenv(\"PINECONE_API_KEY\"):\n",
    "    os.environ[\"PINECONE_API_KEY\"] = getpass.getpass(\"Enter you Pinecone API Key:\")\n",
    "\n",
    "pinecone_api_key = os.getenv(\"PINECONE_API_KEY\")\n",
    "\n",
    "# 创建Pinecone客户端\n",
    "pc = Pinecone(api_key=pinecone_api_key)"
   ]
  },
  {
   "cell_type": "code",
   "execution_count": 22,
   "id": "eeeeb0b7",
   "metadata": {},
   "outputs": [],
   "source": [
    "# 初始化向量数据库\n",
    "import time\n",
    "\n",
    "index_name = \"langchain-pinecone-test\"\n",
    "\n",
    "existing_indexes = [index_info[\"name\"] for index_info in pc.list_indexes()]\n",
    "\n",
    "if index_name not in existing_indexes:\n",
    "    # 如果索引不存在，创建它\n",
    "    pc.create_index(\n",
    "        name=index_name,\n",
    "        dimension=1024,  # 注意维度要和嵌入模型维度一致\n",
    "        metric=\"cosine\",\n",
    "        spec=ServerlessSpec(\n",
    "            cloud=\"aws\",\n",
    "            region=\"us-east-1\",\n",
    "        ),\n",
    "    )\n",
    "    # 等待索引初始化\n",
    "    while not pc.describe_index(index_name).status[\"ready\"]:\n",
    "        time.sleep(1)\n",
    "\n",
    "index = pc.Index(index_name)"
   ]
  },
  {
   "cell_type": "code",
   "execution_count": 24,
   "id": "c6a565b0",
   "metadata": {},
   "outputs": [],
   "source": [
    "# 添加嵌入模型\n",
    "from langchain_pinecone.vectorstores import PineconeVectorStore\n",
    "\n",
    "vector_store = PineconeVectorStore(index=index, embedding=embeddings_model)"
   ]
  },
  {
   "cell_type": "code",
   "execution_count": 30,
   "id": "83d76eaf",
   "metadata": {},
   "outputs": [
    {
     "data": {
      "text/plain": [
       "['fb766ff3-0ea2-4f81-b50a-c88f8ddd175b',\n",
       " 'd291d4d1-6e21-4c10-b557-df9617767a84',\n",
       " '913b8eaf-a4e2-41a8-8605-be5fb62cca19',\n",
       " '1caecebb-a84f-426e-b0de-65928a03551e',\n",
       " 'b05d9d86-3e7a-4d3b-93c1-9f0e26507f3e',\n",
       " '7516c346-7732-44bd-802f-20881e825d05',\n",
       " 'de369a04-5be5-4f9b-af0b-5c7de688d18c',\n",
       " 'a98b91ef-f9c4-47c3-adca-eb42586e2d17',\n",
       " 'eb9b4812-81ae-499c-959d-10f8c19b8960',\n",
       " '74cd3909-2e42-44f5-90b1-1f53a63f053c']"
      ]
     },
     "execution_count": 30,
     "metadata": {},
     "output_type": "execute_result"
    }
   ],
   "source": [
    "from uuid import uuid4\n",
    "from langchain_core.documents import Document\n",
    "\n",
    "document_1 = Document(\n",
    "    page_content=\"今天早餐吃了老王家的生煎包，馅料实在得快从褶子里跳出来了!这才是真正的上海味道!\",\n",
    "    metadata={\"source\": \"tweet\"},\n",
    ")\n",
    "document_2 = Document(\n",
    "    page_content=\"明日天气预报:北京地区将出现大范围雾霾，建议市民戴好口罩，看不见脸的时候请不要慌张。\",\n",
    "    metadata={\"source\": \"news\"},\n",
    ")\n",
    "document_3 = Document(\n",
    "    page_content=\"终于搞定了AI聊天机器人!我问它'你是谁'，它回答'我是你爸爸'，看来还需要调教...\",\n",
    "    metadata={\"source\": \"tweet\"},\n",
    ")\n",
    "document_4 = Document(\n",
    "    page_content=\"震惊!本市一男子在便利店抢劫，只因店员说'扫码支付才有优惠'，现已被警方抓获。\",\n",
    "    metadata={\"source\": \"news\"},\n",
    ")\n",
    "document_5 = Document(\n",
    "    page_content=\"刚看完《流浪地球3》,特效简直炸裂!就是旁边大妈一直问'这是在哪拍的'有点影响观影体验。\",\n",
    "    metadata={\"'source\": \"tweet\"},\n",
    ")\n",
    "document_6 = Document(\n",
    "    page_content=\"新发布的小米14Ultra值不值得买?看完这篇测评你就知道为什么李老板笑得合不拢嘴了。\",\n",
    "    metadata={\"source\": \"website\"},\n",
    ")\n",
    "document_7 = Document(\n",
    "    page_content=\"2025年中超联赛十大最佳球员榜单新鲜出炉，第一名居然是他?!\",\n",
    "    metadata={\"source\": \"website\"},\n",
    ")\n",
    "document_8 = Document(\n",
    "    page_content=\"用LangChain开发的AI助手太神奇了！问它'人生的意义'，它给我推荐了一份外卖优惠券...\",\n",
    "    metadata={\"source\": \"tweet\"},\n",
    ")\n",
    "document_9 = Document(\n",
    "    page_content=\"A股今日暴跌，分析师称原因是'大家都在抢着卖'，投资者表示很有道理。\",\n",
    "    metadata={\"source\": \"news\"},\n",
    ")\n",
    "document_10 = Document(\n",
    "    page_content=\"感觉我马上要被删库跑路了，祝我好运 /(ToT)/~~\",\n",
    "    metadata={\"source\": \"tweet\"},\n",
    ")\n",
    "\n",
    "\n",
    "documents = [\n",
    "    document_1,\n",
    "    document_2,\n",
    "    document_3,\n",
    "    document_4,\n",
    "    document_5,\n",
    "    document_6,\n",
    "    document_7,\n",
    "    document_8,\n",
    "    document_9,\n",
    "    document_10,\n",
    "]\n",
    "# 为文档生成ID\n",
    "uuids = [str(uuid4()) for _ in range(len(documents))]\n",
    "\n",
    "# 将文档和生成的ID存储到向量数据库中\n",
    "vector_store.add_documents(documents=documents, ids=uuids)"
   ]
  },
  {
   "cell_type": "code",
   "execution_count": 31,
   "id": "6df1aa7c",
   "metadata": {},
   "outputs": [],
   "source": [
    "# 删除向量数据库中的数据\n",
    "\n",
    "vector_store.delete(ids=[uuids[-1]])"
   ]
  },
  {
   "cell_type": "code",
   "execution_count": 32,
   "id": "3457aa31",
   "metadata": {},
   "outputs": [
    {
     "name": "stdout",
     "output_type": "stream",
     "text": [
      "* 用LangChain开发的AI助手太神奇了！问它'人生的意义'，它给我推荐了一份外卖优惠券... [{'source': 'tweet'}]\n",
      "* 今天早餐吃了老王家的生煎包，馅料实在得快从褶子里跳出来了!这才是真正的上海味道! [{'source': 'tweet'}]\n"
     ]
    }
   ],
   "source": [
    "# 相似性搜索支持元数据过滤\n",
    "\n",
    "results = vector_store.similarity_search(\n",
    "    \"看电影\",\n",
    "    k=2,\n",
    "    filter={\"source\": \"tweet\"},\n",
    ")\n",
    "\n",
    "for res in results:\n",
    "    print(f\"* {res.page_content} [{res.metadata}]\")"
   ]
  },
  {
   "cell_type": "code",
   "execution_count": 34,
   "id": "f2110c23",
   "metadata": {},
   "outputs": [
    {
     "name": "stdout",
     "output_type": "stream",
     "text": [
      "* [SIM=0.630674] 明日天气预报:北京地区将出现大范围雾霾，建议市民戴好口罩，看不见脸的时候请不要慌张。 [{'source': 'news'}]\n",
      "* [SIM=0.558014] A股今日暴跌，分析师称原因是'大家都在抢着卖'，投资者表示很有道理。 [{'source': 'news'}]\n"
     ]
    }
   ],
   "source": [
    "# 通过分输进行过滤\n",
    "results = vector_store.similarity_search_with_score(\n",
    "    \"明天热吗？\",\n",
    "    k=2,\n",
    "    filter={\"source\": \"news\"},\n",
    ")\n",
    "\n",
    "for res, score in results:\n",
    "    print(f\"* [SIM={score:3f}] {res.page_content} [{res.metadata}]\")"
   ]
  },
  {
   "cell_type": "markdown",
   "id": "bb57fb8e",
   "metadata": {},
   "source": [
    "## MMR（最大边际相关性）\n",
    "+ 并非所有向量数据库都支持"
   ]
  },
  {
   "cell_type": "code",
   "execution_count": 37,
   "id": "d47e8d16",
   "metadata": {},
   "outputs": [
    {
     "data": {
      "text/plain": [
       "[Document(metadata={'source': 'website'}, page_content='2025年中超联赛十大最佳球员榜单新鲜出炉，第一名居然是他?!'),\n",
       " Document(metadata={'source': 'website'}, page_content='新发布的小米14Ultra值不值得买?看完这篇测评你就知道为什么李老板笑得合不拢嘴了。')]"
      ]
     },
     "execution_count": 37,
     "metadata": {},
     "output_type": "execute_result"
    }
   ],
   "source": [
    "vector_store.max_marginal_relevance_search(\n",
    "    query=\"新手机\",\n",
    "    k=3,\n",
    "    lambda_val=0.1,\n",
    "    filter={\"source\": \"website\"},\n",
    ")"
   ]
  },
  {
   "cell_type": "code",
   "execution_count": null,
   "id": "aa9a5d6c",
   "metadata": {},
   "outputs": [],
   "source": [
    "## 混合搜索"
   ]
  },
  {
   "cell_type": "code",
   "execution_count": 38,
   "id": "1c294bb6",
   "metadata": {},
   "outputs": [
    {
     "name": "stdout",
     "output_type": "stream",
     "text": [
      "Looking in indexes: https://pypi.tuna.tsinghua.edu.cn/simple\n",
      "Collecting pinecone-text\n",
      "  Downloading https://pypi.tuna.tsinghua.edu.cn/packages/a0/ca/0aa77e836ddebcb611df908f86db750f99e256ab9d005fe43466909ee169/pinecone_text-0.11.0-py3-none-any.whl (22 kB)\n",
      "Requirement already satisfied: pinecone-notebooks in /home/jizhe/projects/python/langchain_learn/.venv/lib/python3.12/site-packages (0.1.1)\n",
      "Collecting mmh3<5.0.0,>=4.1.0 (from pinecone-text)\n",
      "  Downloading https://pypi.tuna.tsinghua.edu.cn/packages/4c/7b/bfeb68bee5bddc8baf7ef630b93edc0a533202d84eb076dbb6c77e7e5fd5/mmh3-4.1.0-cp312-cp312-manylinux_2_5_x86_64.manylinux1_x86_64.manylinux_2_17_x86_64.manylinux2014_x86_64.whl (68 kB)\n",
      "Requirement already satisfied: nltk<4.0.0,>=3.9.1 in /home/jizhe/projects/python/langchain_learn/.venv/lib/python3.12/site-packages (from pinecone-text) (3.9.1)\n",
      "Requirement already satisfied: numpy>=1.21.5 in /home/jizhe/projects/python/langchain_learn/.venv/lib/python3.12/site-packages (from pinecone-text) (2.3.2)\n",
      "Requirement already satisfied: python-dotenv<2.0.0,>=1.0.1 in /home/jizhe/projects/python/langchain_learn/.venv/lib/python3.12/site-packages (from pinecone-text) (1.1.1)\n",
      "Requirement already satisfied: requests<3.0.0,>=2.25.0 in /home/jizhe/projects/python/langchain_learn/.venv/lib/python3.12/site-packages (from pinecone-text) (2.32.5)\n",
      "Collecting types-requests<3.0.0,>=2.25.0 (from pinecone-text)\n",
      "  Downloading https://pypi.tuna.tsinghua.edu.cn/packages/2a/20/9a227ea57c1285986c4cf78400d0a91615d25b24e257fd9e2969606bdfae/types_requests-2.32.4.20250913-py3-none-any.whl (20 kB)\n",
      "Requirement already satisfied: click in /home/jizhe/projects/python/langchain_learn/.venv/lib/python3.12/site-packages (from nltk<4.0.0,>=3.9.1->pinecone-text) (8.2.1)\n",
      "Requirement already satisfied: joblib in /home/jizhe/projects/python/langchain_learn/.venv/lib/python3.12/site-packages (from nltk<4.0.0,>=3.9.1->pinecone-text) (1.5.2)\n",
      "Requirement already satisfied: regex>=2021.8.3 in /home/jizhe/projects/python/langchain_learn/.venv/lib/python3.12/site-packages (from nltk<4.0.0,>=3.9.1->pinecone-text) (2025.7.34)\n",
      "Requirement already satisfied: tqdm in /home/jizhe/projects/python/langchain_learn/.venv/lib/python3.12/site-packages (from nltk<4.0.0,>=3.9.1->pinecone-text) (4.67.1)\n",
      "Requirement already satisfied: charset_normalizer<4,>=2 in /home/jizhe/projects/python/langchain_learn/.venv/lib/python3.12/site-packages (from requests<3.0.0,>=2.25.0->pinecone-text) (3.4.3)\n",
      "Requirement already satisfied: idna<4,>=2.5 in /home/jizhe/projects/python/langchain_learn/.venv/lib/python3.12/site-packages (from requests<3.0.0,>=2.25.0->pinecone-text) (3.10)\n",
      "Requirement already satisfied: urllib3<3,>=1.21.1 in /home/jizhe/projects/python/langchain_learn/.venv/lib/python3.12/site-packages (from requests<3.0.0,>=2.25.0->pinecone-text) (2.5.0)\n",
      "Requirement already satisfied: certifi>=2017.4.17 in /home/jizhe/projects/python/langchain_learn/.venv/lib/python3.12/site-packages (from requests<3.0.0,>=2.25.0->pinecone-text) (2025.8.3)\n",
      "Installing collected packages: mmh3, types-requests, pinecone-text\n",
      "\u001b[2K   \u001b[90m━━━━━━━━━━━━━━━━━━━━━━━━━━━━━━━━━━━━━━━━\u001b[0m \u001b[32m3/3\u001b[0m [pinecone-text]\n",
      "\u001b[1A\u001b[2KSuccessfully installed mmh3-4.1.0 pinecone-text-0.11.0 types-requests-2.32.4.20250913\n"
     ]
    }
   ],
   "source": [
    "! pip install pinecone-text pinecone-notebooks"
   ]
  },
  {
   "cell_type": "code",
   "execution_count": 39,
   "id": "c3634e75",
   "metadata": {},
   "outputs": [],
   "source": [
    "from langchain_community.retrievers import PineconeHybridSearchRetriever\n",
    "\n",
    "# 初始化Pinecone索引\n",
    "\n",
    "index_name = \"langchain-pinecone-hybrid-search-test\"\n",
    "\n",
    "existing_indexes = [index_info[\"name\"] for index_info in pc.list_indexes()]\n",
    "\n",
    "if index_name not in existing_indexes:\n",
    "    # 如果索引不存在，创建它\n",
    "    pc.create_index(\n",
    "        name=index_name,\n",
    "        dimension=1024,  # 注意维度要和嵌入模型维度一致\n",
    "        metric=\"dotproduct\",\n",
    "        spec=ServerlessSpec(\n",
    "            cloud=\"aws\",\n",
    "            region=\"us-east-1\",\n",
    "        ),\n",
    "    )\n",
    "    # 等待索引初始化\n",
    "    while not pc.describe_index(index_name).status[\"ready\"]:\n",
    "        time.sleep(1)\n",
    "\n",
    "index = pc.Index(index_name)"
   ]
  },
  {
   "cell_type": "code",
   "execution_count": 40,
   "id": "3efe26d8",
   "metadata": {},
   "outputs": [
    {
     "name": "stderr",
     "output_type": "stream",
     "text": [
      "[nltk_data] Downloading package stopwords to /home/jizhe/nltk_data...\n",
      "[nltk_data]   Unzipping corpora/stopwords.zip.\n"
     ]
    }
   ],
   "source": [
    "# 先使用词法过滤（关键词匹配）\n",
    "from pinecone_text.sparse import BM25Encoder\n",
    "\n",
    "# 初始化词法引擎\n",
    "bm25_encoder = BM25Encoder().default()"
   ]
  },
  {
   "cell_type": "code",
   "execution_count": 41,
   "id": "175cb032",
   "metadata": {},
   "outputs": [
    {
     "name": "stderr",
     "output_type": "stream",
     "text": [
      "100%|██████████| 4/4 [00:00<00:00, 121.86it/s]\n"
     ]
    }
   ],
   "source": [
    "corpus = [\"foo\", \"bar\", \"world\", \"hello\"]\n",
    "\n",
    "bm25_encoder.fit(corpus)\n",
    "\n",
    "bm25_encoder.dump(\"bm25_values.json\")\n",
    "\n",
    "bm25_encoder = BM25Encoder().load(\"bm25_values.json\")"
   ]
  },
  {
   "cell_type": "code",
   "execution_count": null,
   "id": "94472e1f",
   "metadata": {},
   "outputs": [],
   "source": [
    "# 使用混合搜索\n",
    "retriever = PineconeHybridSearchRetriever(\n",
    "    embeddings=embeddings_model,\n",
    "    sparse_encoder=bm25_encoder,  # 传入词法引擎\n",
    "    index=index,\n",
    "    top_k=5,\n",
    ")"
   ]
  },
  {
   "cell_type": "code",
   "execution_count": 43,
   "id": "fe19cdf8",
   "metadata": {},
   "outputs": [
    {
     "name": "stderr",
     "output_type": "stream",
     "text": [
      "100%|██████████| 1/1 [00:02<00:00,  2.37s/it]\n"
     ]
    }
   ],
   "source": [
    "retriever.add_texts([\"foo\", \"bar\", \"world\", \"hello\"])"
   ]
  },
  {
   "cell_type": "code",
   "execution_count": 44,
   "id": "7574a861",
   "metadata": {},
   "outputs": [
    {
     "data": {
      "text/plain": [
       "Document(metadata={'score': 0.484042168}, page_content='hello')"
      ]
     },
     "execution_count": 44,
     "metadata": {},
     "output_type": "execute_result"
    }
   ],
   "source": [
    "result = retriever.invoke(\"foo\")\n",
    "result[0]"
   ]
  }
 ],
 "metadata": {
  "kernelspec": {
   "display_name": ".venv (3.12.11)",
   "language": "python",
   "name": "python3"
  },
  "language_info": {
   "codemirror_mode": {
    "name": "ipython",
    "version": 3
   },
   "file_extension": ".py",
   "mimetype": "text/x-python",
   "name": "python",
   "nbconvert_exporter": "python",
   "pygments_lexer": "ipython3",
   "version": "3.12.11"
  }
 },
 "nbformat": 4,
 "nbformat_minor": 5
}
