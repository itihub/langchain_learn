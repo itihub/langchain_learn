{
 "cells": [
  {
   "cell_type": "markdown",
   "id": "a4724533",
   "metadata": {},
   "source": [
    "# 检索器优化：查询重写\n",
    "本质上查询重写就是使用多重查询来改写问题"
   ]
  },
  {
   "cell_type": "code",
   "execution_count": 1,
   "id": "826a5503",
   "metadata": {},
   "outputs": [
    {
     "name": "stdout",
     "output_type": "stream",
     "text": [
      "Looking in indexes: https://pypi.tuna.tsinghua.edu.cn/simple\n",
      "Collecting langchain_chroma\n",
      "  Downloading https://pypi.tuna.tsinghua.edu.cn/packages/08/bc/591e416a134f9fb766579d1ca9739f32b9d79c607a5053d34ad2b8fa7246/langchain_chroma-0.2.6-py3-none-any.whl (12 kB)\n",
      "Requirement already satisfied: langchain-core>=0.3.76 in /home/jizhe/projects/python/langchain_learn/.venv/lib/python3.12/site-packages (from langchain_chroma) (0.3.76)\n",
      "Requirement already satisfied: numpy>=1.26.0 in /home/jizhe/projects/python/langchain_learn/.venv/lib/python3.12/site-packages (from langchain_chroma) (2.3.2)\n",
      "Collecting chromadb>=1.0.20 (from langchain_chroma)\n",
      "  Downloading https://pypi.tuna.tsinghua.edu.cn/packages/00/39/5969bec252d6b174eeb68a5b23c88cbe4913a1e20d6b313ec628e5079c74/chromadb-1.1.0-cp39-abi3-manylinux_2_17_x86_64.manylinux2014_x86_64.whl (19.8 MB)\n",
      "\u001b[2K     \u001b[90m━━━━━━━━━━━━━━━━━━━━━━━━━━━━━━━━━━━━━━━━\u001b[0m \u001b[32m19.8/19.8 MB\u001b[0m \u001b[31m917.5 kB/s\u001b[0m  \u001b[33m0:00:21\u001b[0m0:00:01\u001b[0m00:01\u001b[0m\n",
      "\u001b[?25hCollecting build>=1.0.3 (from chromadb>=1.0.20->langchain_chroma)\n",
      "  Downloading https://pypi.tuna.tsinghua.edu.cn/packages/cb/8c/2b30c12155ad8de0cf641d76a8b396a16d2c36bc6d50b621a62b7c4567c1/build-1.3.0-py3-none-any.whl (23 kB)\n",
      "Requirement already satisfied: pydantic>=1.9 in /home/jizhe/projects/python/langchain_learn/.venv/lib/python3.12/site-packages (from chromadb>=1.0.20->langchain_chroma) (2.11.7)\n",
      "Collecting pybase64>=1.4.1 (from chromadb>=1.0.20->langchain_chroma)\n",
      "  Downloading https://pypi.tuna.tsinghua.edu.cn/packages/ee/87/d9baf98cbfc37b8657290ad4421f3a3c36aa0eafe4872c5859cfb52f3448/pybase64-1.4.2-cp312-cp312-manylinux1_x86_64.manylinux2014_x86_64.manylinux_2_17_x86_64.manylinux_2_5_x86_64.whl (71 kB)\n",
      "Requirement already satisfied: uvicorn>=0.18.3 in /home/jizhe/projects/python/langchain_learn/.venv/lib/python3.12/site-packages (from uvicorn[standard]>=0.18.3->chromadb>=1.0.20->langchain_chroma) (0.35.0)\n",
      "Collecting posthog<6.0.0,>=2.4.0 (from chromadb>=1.0.20->langchain_chroma)\n",
      "  Downloading https://pypi.tuna.tsinghua.edu.cn/packages/4f/98/e480cab9a08d1c09b1c59a93dade92c1bb7544826684ff2acbfd10fcfbd4/posthog-5.4.0-py3-none-any.whl (105 kB)\n",
      "Requirement already satisfied: typing-extensions>=4.5.0 in /home/jizhe/projects/python/langchain_learn/.venv/lib/python3.12/site-packages (from chromadb>=1.0.20->langchain_chroma) (4.14.1)\n",
      "Requirement already satisfied: onnxruntime>=1.14.1 in /home/jizhe/projects/python/langchain_learn/.venv/lib/python3.12/site-packages (from chromadb>=1.0.20->langchain_chroma) (1.19.2)\n",
      "Requirement already satisfied: opentelemetry-api>=1.2.0 in /home/jizhe/projects/python/langchain_learn/.venv/lib/python3.12/site-packages (from chromadb>=1.0.20->langchain_chroma) (1.36.0)\n",
      "Requirement already satisfied: opentelemetry-exporter-otlp-proto-grpc>=1.2.0 in /home/jizhe/projects/python/langchain_learn/.venv/lib/python3.12/site-packages (from chromadb>=1.0.20->langchain_chroma) (1.36.0)\n",
      "Requirement already satisfied: opentelemetry-sdk>=1.2.0 in /home/jizhe/projects/python/langchain_learn/.venv/lib/python3.12/site-packages (from chromadb>=1.0.20->langchain_chroma) (1.36.0)\n",
      "Requirement already satisfied: tokenizers>=0.13.2 in /home/jizhe/projects/python/langchain_learn/.venv/lib/python3.12/site-packages (from chromadb>=1.0.20->langchain_chroma) (0.22.0)\n",
      "Requirement already satisfied: pypika>=0.48.9 in /home/jizhe/projects/python/langchain_learn/.venv/lib/python3.12/site-packages (from chromadb>=1.0.20->langchain_chroma) (0.48.9)\n",
      "Requirement already satisfied: tqdm>=4.65.0 in /home/jizhe/projects/python/langchain_learn/.venv/lib/python3.12/site-packages (from chromadb>=1.0.20->langchain_chroma) (4.67.1)\n",
      "Requirement already satisfied: overrides>=7.3.1 in /home/jizhe/projects/python/langchain_learn/.venv/lib/python3.12/site-packages (from chromadb>=1.0.20->langchain_chroma) (7.7.0)\n",
      "Requirement already satisfied: importlib-resources in /home/jizhe/projects/python/langchain_learn/.venv/lib/python3.12/site-packages (from chromadb>=1.0.20->langchain_chroma) (6.5.2)\n",
      "Requirement already satisfied: grpcio>=1.58.0 in /home/jizhe/projects/python/langchain_learn/.venv/lib/python3.12/site-packages (from chromadb>=1.0.20->langchain_chroma) (1.74.0)\n",
      "Requirement already satisfied: bcrypt>=4.0.1 in /home/jizhe/projects/python/langchain_learn/.venv/lib/python3.12/site-packages (from chromadb>=1.0.20->langchain_chroma) (4.3.0)\n",
      "Requirement already satisfied: typer>=0.9.0 in /home/jizhe/projects/python/langchain_learn/.venv/lib/python3.12/site-packages (from chromadb>=1.0.20->langchain_chroma) (0.17.3)\n",
      "Requirement already satisfied: kubernetes>=28.1.0 in /home/jizhe/projects/python/langchain_learn/.venv/lib/python3.12/site-packages (from chromadb>=1.0.20->langchain_chroma) (33.1.0)\n",
      "Requirement already satisfied: tenacity>=8.2.3 in /home/jizhe/projects/python/langchain_learn/.venv/lib/python3.12/site-packages (from chromadb>=1.0.20->langchain_chroma) (9.1.2)\n",
      "Requirement already satisfied: pyyaml>=6.0.0 in /home/jizhe/projects/python/langchain_learn/.venv/lib/python3.12/site-packages (from chromadb>=1.0.20->langchain_chroma) (6.0.2)\n",
      "Requirement already satisfied: mmh3>=4.0.1 in /home/jizhe/projects/python/langchain_learn/.venv/lib/python3.12/site-packages (from chromadb>=1.0.20->langchain_chroma) (4.1.0)\n",
      "Requirement already satisfied: orjson>=3.9.12 in /home/jizhe/projects/python/langchain_learn/.venv/lib/python3.12/site-packages (from chromadb>=1.0.20->langchain_chroma) (3.11.2)\n",
      "Requirement already satisfied: httpx>=0.27.0 in /home/jizhe/projects/python/langchain_learn/.venv/lib/python3.12/site-packages (from chromadb>=1.0.20->langchain_chroma) (0.28.1)\n",
      "Requirement already satisfied: rich>=10.11.0 in /home/jizhe/projects/python/langchain_learn/.venv/lib/python3.12/site-packages (from chromadb>=1.0.20->langchain_chroma) (14.1.0)\n",
      "Collecting jsonschema>=4.19.0 (from chromadb>=1.0.20->langchain_chroma)\n",
      "  Downloading https://pypi.tuna.tsinghua.edu.cn/packages/bf/9c/8c95d856233c1f82500c2450b8c68576b4cf1c871db3afac5c34ff84e6fd/jsonschema-4.25.1-py3-none-any.whl (90 kB)\n",
      "Requirement already satisfied: requests<3.0,>=2.7 in /home/jizhe/projects/python/langchain_learn/.venv/lib/python3.12/site-packages (from posthog<6.0.0,>=2.4.0->chromadb>=1.0.20->langchain_chroma) (2.32.5)\n",
      "Requirement already satisfied: six>=1.5 in /home/jizhe/projects/python/langchain_learn/.venv/lib/python3.12/site-packages (from posthog<6.0.0,>=2.4.0->chromadb>=1.0.20->langchain_chroma) (1.17.0)\n",
      "Requirement already satisfied: python-dateutil>=2.2 in /home/jizhe/projects/python/langchain_learn/.venv/lib/python3.12/site-packages (from posthog<6.0.0,>=2.4.0->chromadb>=1.0.20->langchain_chroma) (2.9.0.post0)\n",
      "Requirement already satisfied: backoff>=1.10.0 in /home/jizhe/projects/python/langchain_learn/.venv/lib/python3.12/site-packages (from posthog<6.0.0,>=2.4.0->chromadb>=1.0.20->langchain_chroma) (2.2.1)\n",
      "Requirement already satisfied: distro>=1.5.0 in /home/jizhe/projects/python/langchain_learn/.venv/lib/python3.12/site-packages (from posthog<6.0.0,>=2.4.0->chromadb>=1.0.20->langchain_chroma) (1.9.0)\n",
      "Requirement already satisfied: charset_normalizer<4,>=2 in /home/jizhe/projects/python/langchain_learn/.venv/lib/python3.12/site-packages (from requests<3.0,>=2.7->posthog<6.0.0,>=2.4.0->chromadb>=1.0.20->langchain_chroma) (3.4.3)\n",
      "Requirement already satisfied: idna<4,>=2.5 in /home/jizhe/projects/python/langchain_learn/.venv/lib/python3.12/site-packages (from requests<3.0,>=2.7->posthog<6.0.0,>=2.4.0->chromadb>=1.0.20->langchain_chroma) (3.10)\n",
      "Requirement already satisfied: urllib3<3,>=1.21.1 in /home/jizhe/projects/python/langchain_learn/.venv/lib/python3.12/site-packages (from requests<3.0,>=2.7->posthog<6.0.0,>=2.4.0->chromadb>=1.0.20->langchain_chroma) (2.5.0)\n",
      "Requirement already satisfied: certifi>=2017.4.17 in /home/jizhe/projects/python/langchain_learn/.venv/lib/python3.12/site-packages (from requests<3.0,>=2.7->posthog<6.0.0,>=2.4.0->chromadb>=1.0.20->langchain_chroma) (2025.8.3)\n",
      "Requirement already satisfied: packaging>=19.1 in /home/jizhe/projects/python/langchain_learn/.venv/lib/python3.12/site-packages (from build>=1.0.3->chromadb>=1.0.20->langchain_chroma) (24.2)\n",
      "Collecting pyproject_hooks (from build>=1.0.3->chromadb>=1.0.20->langchain_chroma)\n",
      "  Downloading https://pypi.tuna.tsinghua.edu.cn/packages/bd/24/12818598c362d7f300f18e74db45963dbcb85150324092410c8b49405e42/pyproject_hooks-1.2.0-py3-none-any.whl (10 kB)\n",
      "Requirement already satisfied: anyio in /home/jizhe/projects/python/langchain_learn/.venv/lib/python3.12/site-packages (from httpx>=0.27.0->chromadb>=1.0.20->langchain_chroma) (4.10.0)\n",
      "Requirement already satisfied: httpcore==1.* in /home/jizhe/projects/python/langchain_learn/.venv/lib/python3.12/site-packages (from httpx>=0.27.0->chromadb>=1.0.20->langchain_chroma) (1.0.9)\n",
      "Requirement already satisfied: h11>=0.16 in /home/jizhe/projects/python/langchain_learn/.venv/lib/python3.12/site-packages (from httpcore==1.*->httpx>=0.27.0->chromadb>=1.0.20->langchain_chroma) (0.16.0)\n",
      "Requirement already satisfied: attrs>=22.2.0 in /home/jizhe/projects/python/langchain_learn/.venv/lib/python3.12/site-packages (from jsonschema>=4.19.0->chromadb>=1.0.20->langchain_chroma) (25.3.0)\n",
      "Collecting jsonschema-specifications>=2023.03.6 (from jsonschema>=4.19.0->chromadb>=1.0.20->langchain_chroma)\n",
      "  Downloading https://pypi.tuna.tsinghua.edu.cn/packages/41/45/1a4ed80516f02155c51f51e8cedb3c1902296743db0bbc66608a0db2814f/jsonschema_specifications-2025.9.1-py3-none-any.whl (18 kB)\n",
      "Collecting referencing>=0.28.4 (from jsonschema>=4.19.0->chromadb>=1.0.20->langchain_chroma)\n",
      "  Using cached https://pypi.tuna.tsinghua.edu.cn/packages/c1/b1/3baf80dc6d2b7bc27a95a67752d0208e410351e3feb4eb78de5f77454d8d/referencing-0.36.2-py3-none-any.whl (26 kB)\n",
      "Collecting rpds-py>=0.7.1 (from jsonschema>=4.19.0->chromadb>=1.0.20->langchain_chroma)\n",
      "  Downloading https://pypi.tuna.tsinghua.edu.cn/packages/ed/7b/8f4fee9ba1fb5ec856eb22d725a4efa3deb47f769597c809e03578b0f9d9/rpds_py-0.27.1-cp312-cp312-manylinux_2_17_x86_64.manylinux2014_x86_64.whl (386 kB)\n",
      "Requirement already satisfied: google-auth>=1.0.1 in /home/jizhe/projects/python/langchain_learn/.venv/lib/python3.12/site-packages (from kubernetes>=28.1.0->chromadb>=1.0.20->langchain_chroma) (2.40.3)\n",
      "Requirement already satisfied: websocket-client!=0.40.0,!=0.41.*,!=0.42.*,>=0.32.0 in /home/jizhe/projects/python/langchain_learn/.venv/lib/python3.12/site-packages (from kubernetes>=28.1.0->chromadb>=1.0.20->langchain_chroma) (1.8.0)\n",
      "Requirement already satisfied: requests-oauthlib in /home/jizhe/projects/python/langchain_learn/.venv/lib/python3.12/site-packages (from kubernetes>=28.1.0->chromadb>=1.0.20->langchain_chroma) (2.0.0)\n",
      "Requirement already satisfied: oauthlib>=3.2.2 in /home/jizhe/projects/python/langchain_learn/.venv/lib/python3.12/site-packages (from kubernetes>=28.1.0->chromadb>=1.0.20->langchain_chroma) (3.3.1)\n",
      "Requirement already satisfied: durationpy>=0.7 in /home/jizhe/projects/python/langchain_learn/.venv/lib/python3.12/site-packages (from kubernetes>=28.1.0->chromadb>=1.0.20->langchain_chroma) (0.10)\n",
      "Requirement already satisfied: cachetools<6.0,>=2.0.0 in /home/jizhe/projects/python/langchain_learn/.venv/lib/python3.12/site-packages (from google-auth>=1.0.1->kubernetes>=28.1.0->chromadb>=1.0.20->langchain_chroma) (5.5.2)\n",
      "Requirement already satisfied: pyasn1-modules>=0.2.1 in /home/jizhe/projects/python/langchain_learn/.venv/lib/python3.12/site-packages (from google-auth>=1.0.1->kubernetes>=28.1.0->chromadb>=1.0.20->langchain_chroma) (0.4.2)\n",
      "Requirement already satisfied: rsa<5,>=3.1.4 in /home/jizhe/projects/python/langchain_learn/.venv/lib/python3.12/site-packages (from google-auth>=1.0.1->kubernetes>=28.1.0->chromadb>=1.0.20->langchain_chroma) (4.9.1)\n",
      "Requirement already satisfied: pyasn1>=0.1.3 in /home/jizhe/projects/python/langchain_learn/.venv/lib/python3.12/site-packages (from rsa<5,>=3.1.4->google-auth>=1.0.1->kubernetes>=28.1.0->chromadb>=1.0.20->langchain_chroma) (0.6.1)\n",
      "Requirement already satisfied: langsmith>=0.3.45 in /home/jizhe/projects/python/langchain_learn/.venv/lib/python3.12/site-packages (from langchain-core>=0.3.76->langchain_chroma) (0.4.15)\n",
      "Requirement already satisfied: jsonpatch<2.0,>=1.33 in /home/jizhe/projects/python/langchain_learn/.venv/lib/python3.12/site-packages (from langchain-core>=0.3.76->langchain_chroma) (1.33)\n",
      "Requirement already satisfied: jsonpointer>=1.9 in /home/jizhe/projects/python/langchain_learn/.venv/lib/python3.12/site-packages (from jsonpatch<2.0,>=1.33->langchain-core>=0.3.76->langchain_chroma) (3.0.0)\n",
      "Requirement already satisfied: requests-toolbelt>=1.0.0 in /home/jizhe/projects/python/langchain_learn/.venv/lib/python3.12/site-packages (from langsmith>=0.3.45->langchain-core>=0.3.76->langchain_chroma) (1.0.0)\n",
      "Requirement already satisfied: zstandard>=0.23.0 in /home/jizhe/projects/python/langchain_learn/.venv/lib/python3.12/site-packages (from langsmith>=0.3.45->langchain-core>=0.3.76->langchain_chroma) (0.24.0)\n",
      "Requirement already satisfied: annotated-types>=0.6.0 in /home/jizhe/projects/python/langchain_learn/.venv/lib/python3.12/site-packages (from pydantic>=1.9->chromadb>=1.0.20->langchain_chroma) (0.7.0)\n",
      "Requirement already satisfied: pydantic-core==2.33.2 in /home/jizhe/projects/python/langchain_learn/.venv/lib/python3.12/site-packages (from pydantic>=1.9->chromadb>=1.0.20->langchain_chroma) (2.33.2)\n",
      "Requirement already satisfied: typing-inspection>=0.4.0 in /home/jizhe/projects/python/langchain_learn/.venv/lib/python3.12/site-packages (from pydantic>=1.9->chromadb>=1.0.20->langchain_chroma) (0.4.1)\n",
      "Requirement already satisfied: coloredlogs in /home/jizhe/projects/python/langchain_learn/.venv/lib/python3.12/site-packages (from onnxruntime>=1.14.1->chromadb>=1.0.20->langchain_chroma) (15.0.1)\n",
      "Requirement already satisfied: flatbuffers in /home/jizhe/projects/python/langchain_learn/.venv/lib/python3.12/site-packages (from onnxruntime>=1.14.1->chromadb>=1.0.20->langchain_chroma) (25.2.10)\n",
      "Requirement already satisfied: protobuf in /home/jizhe/projects/python/langchain_learn/.venv/lib/python3.12/site-packages (from onnxruntime>=1.14.1->chromadb>=1.0.20->langchain_chroma) (6.32.0)\n",
      "Requirement already satisfied: sympy in /home/jizhe/projects/python/langchain_learn/.venv/lib/python3.12/site-packages (from onnxruntime>=1.14.1->chromadb>=1.0.20->langchain_chroma) (1.14.0)\n",
      "Requirement already satisfied: importlib-metadata<8.8.0,>=6.0 in /home/jizhe/projects/python/langchain_learn/.venv/lib/python3.12/site-packages (from opentelemetry-api>=1.2.0->chromadb>=1.0.20->langchain_chroma) (8.7.0)\n",
      "Requirement already satisfied: zipp>=3.20 in /home/jizhe/projects/python/langchain_learn/.venv/lib/python3.12/site-packages (from importlib-metadata<8.8.0,>=6.0->opentelemetry-api>=1.2.0->chromadb>=1.0.20->langchain_chroma) (3.23.0)\n",
      "Requirement already satisfied: googleapis-common-protos~=1.57 in /home/jizhe/projects/python/langchain_learn/.venv/lib/python3.12/site-packages (from opentelemetry-exporter-otlp-proto-grpc>=1.2.0->chromadb>=1.0.20->langchain_chroma) (1.70.0)\n",
      "Requirement already satisfied: opentelemetry-exporter-otlp-proto-common==1.36.0 in /home/jizhe/projects/python/langchain_learn/.venv/lib/python3.12/site-packages (from opentelemetry-exporter-otlp-proto-grpc>=1.2.0->chromadb>=1.0.20->langchain_chroma) (1.36.0)\n",
      "Requirement already satisfied: opentelemetry-proto==1.36.0 in /home/jizhe/projects/python/langchain_learn/.venv/lib/python3.12/site-packages (from opentelemetry-exporter-otlp-proto-grpc>=1.2.0->chromadb>=1.0.20->langchain_chroma) (1.36.0)\n",
      "Requirement already satisfied: opentelemetry-semantic-conventions==0.57b0 in /home/jizhe/projects/python/langchain_learn/.venv/lib/python3.12/site-packages (from opentelemetry-sdk>=1.2.0->chromadb>=1.0.20->langchain_chroma) (0.57b0)\n",
      "Requirement already satisfied: markdown-it-py>=2.2.0 in /home/jizhe/projects/python/langchain_learn/.venv/lib/python3.12/site-packages (from rich>=10.11.0->chromadb>=1.0.20->langchain_chroma) (4.0.0)\n",
      "Requirement already satisfied: pygments<3.0.0,>=2.13.0 in /home/jizhe/projects/python/langchain_learn/.venv/lib/python3.12/site-packages (from rich>=10.11.0->chromadb>=1.0.20->langchain_chroma) (2.19.2)\n",
      "Requirement already satisfied: mdurl~=0.1 in /home/jizhe/projects/python/langchain_learn/.venv/lib/python3.12/site-packages (from markdown-it-py>=2.2.0->rich>=10.11.0->chromadb>=1.0.20->langchain_chroma) (0.1.2)\n",
      "Requirement already satisfied: huggingface-hub<1.0,>=0.16.4 in /home/jizhe/projects/python/langchain_learn/.venv/lib/python3.12/site-packages (from tokenizers>=0.13.2->chromadb>=1.0.20->langchain_chroma) (0.34.4)\n",
      "Requirement already satisfied: filelock in /home/jizhe/projects/python/langchain_learn/.venv/lib/python3.12/site-packages (from huggingface-hub<1.0,>=0.16.4->tokenizers>=0.13.2->chromadb>=1.0.20->langchain_chroma) (3.19.1)\n",
      "Requirement already satisfied: fsspec>=2023.5.0 in /home/jizhe/projects/python/langchain_learn/.venv/lib/python3.12/site-packages (from huggingface-hub<1.0,>=0.16.4->tokenizers>=0.13.2->chromadb>=1.0.20->langchain_chroma) (2025.7.0)\n",
      "Requirement already satisfied: hf-xet<2.0.0,>=1.1.3 in /home/jizhe/projects/python/langchain_learn/.venv/lib/python3.12/site-packages (from huggingface-hub<1.0,>=0.16.4->tokenizers>=0.13.2->chromadb>=1.0.20->langchain_chroma) (1.1.9)\n",
      "Requirement already satisfied: click>=8.0.0 in /home/jizhe/projects/python/langchain_learn/.venv/lib/python3.12/site-packages (from typer>=0.9.0->chromadb>=1.0.20->langchain_chroma) (8.2.1)\n",
      "Requirement already satisfied: shellingham>=1.3.0 in /home/jizhe/projects/python/langchain_learn/.venv/lib/python3.12/site-packages (from typer>=0.9.0->chromadb>=1.0.20->langchain_chroma) (1.5.4)\n",
      "Requirement already satisfied: httptools>=0.6.3 in /home/jizhe/projects/python/langchain_learn/.venv/lib/python3.12/site-packages (from uvicorn[standard]>=0.18.3->chromadb>=1.0.20->langchain_chroma) (0.6.4)\n",
      "Requirement already satisfied: python-dotenv>=0.13 in /home/jizhe/projects/python/langchain_learn/.venv/lib/python3.12/site-packages (from uvicorn[standard]>=0.18.3->chromadb>=1.0.20->langchain_chroma) (1.1.1)\n",
      "Requirement already satisfied: uvloop>=0.15.1 in /home/jizhe/projects/python/langchain_learn/.venv/lib/python3.12/site-packages (from uvicorn[standard]>=0.18.3->chromadb>=1.0.20->langchain_chroma) (0.21.0)\n",
      "Requirement already satisfied: watchfiles>=0.13 in /home/jizhe/projects/python/langchain_learn/.venv/lib/python3.12/site-packages (from uvicorn[standard]>=0.18.3->chromadb>=1.0.20->langchain_chroma) (1.1.0)\n",
      "Requirement already satisfied: websockets>=10.4 in /home/jizhe/projects/python/langchain_learn/.venv/lib/python3.12/site-packages (from uvicorn[standard]>=0.18.3->chromadb>=1.0.20->langchain_chroma) (15.0.1)\n",
      "Requirement already satisfied: sniffio>=1.1 in /home/jizhe/projects/python/langchain_learn/.venv/lib/python3.12/site-packages (from anyio->httpx>=0.27.0->chromadb>=1.0.20->langchain_chroma) (1.3.1)\n",
      "Requirement already satisfied: humanfriendly>=9.1 in /home/jizhe/projects/python/langchain_learn/.venv/lib/python3.12/site-packages (from coloredlogs->onnxruntime>=1.14.1->chromadb>=1.0.20->langchain_chroma) (10.0)\n",
      "Requirement already satisfied: mpmath<1.4,>=1.1.0 in /home/jizhe/projects/python/langchain_learn/.venv/lib/python3.12/site-packages (from sympy->onnxruntime>=1.14.1->chromadb>=1.0.20->langchain_chroma) (1.3.0)\n",
      "Installing collected packages: rpds-py, pyproject_hooks, pybase64, referencing, posthog, build, jsonschema-specifications, jsonschema, chromadb, langchain_chroma\n",
      "\u001b[2K  Attempting uninstall: posthog\n",
      "\u001b[2K    Found existing installation: posthog 6.7.1\n",
      "\u001b[2K    Uninstalling posthog-6.7.1:\n",
      "\u001b[2K      Successfully uninstalled posthog-6.7.1━━━━━━━━━━━━━━━━━━━━━━\u001b[0m \u001b[32m 4/10\u001b[0m [posthog]\n",
      "\u001b[2K  Attempting uninstall: chromadb━━━━\u001b[0m\u001b[90m╺\u001b[0m\u001b[90m━━━━━━━━━━━\u001b[0m \u001b[32m 7/10\u001b[0m [jsonschema]\n",
      "\u001b[2K    Found existing installation: chromadb 0.4.1590m━━━━━━━━━━━\u001b[0m \u001b[32m 7/10\u001b[0m [jsonschema]\n",
      "\u001b[2K    Uninstalling chromadb-0.4.15:[0m\u001b[90m╺\u001b[0m\u001b[90m━━━━━━━━━━━\u001b[0m \u001b[32m 7/10\u001b[0m [jsonschema]\n",
      "\u001b[2K      Successfully uninstalled chromadb-0.4.15\u001b[90m━━━━━━━━━━━\u001b[0m \u001b[32m 7/10\u001b[0m [jsonschema]\n",
      "\u001b[2K   \u001b[90m━━━━━━━━━━━━━━━━━━━━━━━━━━━━━━━━━━━━━━━━\u001b[0m \u001b[32m10/10\u001b[0m [langchain_chroma][chromadb]\n",
      "\u001b[1A\u001b[2KSuccessfully installed build-1.3.0 chromadb-1.1.0 jsonschema-4.25.1 jsonschema-specifications-2025.9.1 langchain_chroma-0.2.6 posthog-5.4.0 pybase64-1.4.2 pyproject_hooks-1.2.0 referencing-0.36.2 rpds-py-0.27.1\n"
     ]
    }
   ],
   "source": [
    "! pip install langchain_chroma"
   ]
  },
  {
   "cell_type": "code",
   "execution_count": 2,
   "id": "0d159fa7",
   "metadata": {},
   "outputs": [
    {
     "data": {
      "text/plain": [
       "True"
      ]
     },
     "execution_count": 2,
     "metadata": {},
     "output_type": "execute_result"
    }
   ],
   "source": [
    "import os\n",
    "from dotenv import load_dotenv\n",
    "\n",
    "# 加载 .env 文件中的环境变量\n",
    "load_dotenv(override=True)  # 使用 override=True 确保加载最新的 .env 数据"
   ]
  },
  {
   "cell_type": "code",
   "execution_count": 3,
   "id": "be5a768e",
   "metadata": {},
   "outputs": [],
   "source": [
    "from langchain_openai import OpenAIEmbeddings\n",
    "\n",
    "embeddings_model = OpenAIEmbeddings(\n",
    "    model=\"BAAI/bge-m3\",\n",
    "    # https://api.siliconflow.cn/v1/embeddings\n",
    "    base_url=os.environ.get(\"SILICONFLOW_API_BASE\"),\n",
    "    api_key=os.environ.get(\"SILICONFLOW_API_KEY\"),\n",
    ")"
   ]
  },
  {
   "cell_type": "code",
   "execution_count": 4,
   "id": "be86ecac",
   "metadata": {},
   "outputs": [
    {
     "name": "stderr",
     "output_type": "stream",
     "text": [
      "USER_AGENT environment variable not set, consider setting it to identify your requests.\n"
     ]
    }
   ],
   "source": [
    "from langchain_chroma import Chroma\n",
    "from langchain_community.document_loaders import WebBaseLoader\n",
    "from langchain_text_splitters import RecursiveCharacterTextSplitter\n",
    "\n",
    "page_url = \"https://python.langchain.com/docs/how_to/MultiQueryRetriever/\"\n",
    "\n",
    "# 加载网页\n",
    "loader = WebBaseLoader(web_paths=[page_url])\n",
    "data = loader.load()\n",
    "\n",
    "# Split\n",
    "text_splitter = RecursiveCharacterTextSplitter(chunk_size=500, chunk_overlap=0)\n",
    "splits = text_splitter.split_documents(data)\n",
    "\n",
    "# VectorDB\n",
    "vectordb = Chroma.from_documents(documents=splits, embedding=embeddings_model)"
   ]
  },
  {
   "cell_type": "code",
   "execution_count": null,
   "id": "532feba0",
   "metadata": {},
   "outputs": [],
   "source": [
    "# 使用多重查询\n",
    "from langchain.retrievers.multi_query import MultiQueryRetriever\n",
    "from langchain_openai import ChatOpenAI\n",
    "import os\n",
    "\n",
    "llm = ChatOpenAI(\n",
    "    model=os.environ.get(\"OPENAPI_MODEL\"),\n",
    "    base_url=os.environ.get(\"OPENAPI_API_BASE\"),\n",
    "    api_key=os.environ.get(\"OPENAPI_API_KEY\"),\n",
    "    temperature=0,\n",
    ")\n",
    "\n",
    "\n",
    "# 多重查询检索器\n",
    "# 传入向量数据库默认的检索器和LLM，最终多重问题的质量跟这里传入的模型有很大的关系\n",
    "retriever_from_llm = MultiQueryRetriever.from_llm(\n",
    "    retriever=vectordb.as_retriever(), llm=llm\n",
    ")"
   ]
  },
  {
   "cell_type": "code",
   "execution_count": 6,
   "id": "611cdcdd",
   "metadata": {},
   "outputs": [],
   "source": [
    "import logging\n",
    "\n",
    "logging.basicConfig()\n",
    "logging.getLogger(\"langchain.retrievers.multi_query\").setLevel(logging.INFO)"
   ]
  },
  {
   "cell_type": "code",
   "execution_count": null,
   "id": "a69a04f2",
   "metadata": {},
   "outputs": [
    {
     "name": "stderr",
     "output_type": "stream",
     "text": [
      "INFO:langchain.retrievers.multi_query:Generated queries: ['1. 有哪些方法可以提高用户查询的精准度？  ', '2. 用户搜索时如何减少不相关的结果？  ', '3. 优化查询准确性的技术和策略有哪些？']\n"
     ]
    },
    {
     "name": "stdout",
     "output_type": "stream",
     "text": [
      "[Document(id='09750ca3-495c-434b-87db-a67d20c0d8c5', metadata={'language': 'en', 'title': 'How to use the MultiQueryRetriever | 🦜️🔗 LangChain', 'description': 'Distance-based vector database retrieval embeds (represents) queries in high-dimensional space and finds similar embedded documents based on a distance metric. But, retrieval may produce different results with subtle changes in query wording, or if the embeddings do not capture the semantics of the data well. Prompt engineering / tuning is sometimes done to manually address these problems, but can be tedious.', 'source': 'https://python.langchain.com/docs/how_to/MultiQueryRetriever/'}, page_content='OpenAIEmbeddings()vectordb = Chroma.from_documents(documents=splits, embedding=embedding)'), Document(id='d14c1373-6efd-48f1-804b-686609738abd', metadata={'title': 'How to use the MultiQueryRetriever | 🦜️🔗 LangChain', 'description': 'Distance-based vector database retrieval embeds (represents) queries in high-dimensional space and finds similar embedded documents based on a distance metric. But, retrieval may produce different results with subtle changes in query wording, or if the embeddings do not capture the semantics of the data well. Prompt engineering / tuning is sometimes done to manually address these problems, but can be tedious.', 'source': 'https://python.langchain.com/docs/how_to/MultiQueryRetriever/', 'language': 'en'}, page_content='Note that the underlying queries generated by the retriever are logged at the INFO level.\\nSupplying your own prompt\\u200b\\nUnder the hood, MultiQueryRetriever generates queries using a specific prompt. To customize this prompt:'), Document(id='4d2a9225-c8d6-4cf5-abe4-762615595897', metadata={'language': 'en', 'source': 'https://python.langchain.com/docs/how_to/MultiQueryRetriever/', 'description': 'Distance-based vector database retrieval embeds (represents) queries in high-dimensional space and finds similar embedded documents based on a distance metric. But, retrieval may produce different results with subtle changes in query wording, or if the embeddings do not capture the semantics of the data well. Prompt engineering / tuning is sometimes done to manually address these problems, but can be tedious.', 'title': 'How to use the MultiQueryRetriever | 🦜️🔗 LangChain'}, page_content='LineListOutputParser()QUERY_PROMPT = PromptTemplate(    input_variables=[\"question\"],    template=\"\"\"You are an AI language model assistant. Your task is to generate five     different versions of the given user question to retrieve relevant documents from a vector     database. By generating multiple perspectives on the user question, your goal is to help    the user overcome some of the limitations of the distance-based similarity search.     Provide these alternative questions separated by'), Document(id='33d41fb7-bfde-46a8-b726-6fd279ad0eea', metadata={'source': 'https://python.langchain.com/docs/how_to/MultiQueryRetriever/', 'title': 'How to use the MultiQueryRetriever | 🦜️🔗 LangChain', 'language': 'en', 'description': 'Distance-based vector database retrieval embeds (represents) queries in high-dimensional space and finds similar embedded documents based on a distance metric. But, retrieval may produce different results with subtle changes in query wording, or if the embeddings do not capture the semantics of the data well. Prompt engineering / tuning is sometimes done to manually address these problems, but can be tedious.'}, page_content='# Runretriever = MultiQueryRetriever(    retriever=vectordb.as_retriever(), llm_chain=llm_chain, parser_key=\"lines\")  # \"lines\" is the key (attribute name) of the parsed output# Resultsunique_docs = retriever.invoke(\"What does the course say about regression?\")len(unique_docs)'), Document(id='f949c1a4-54e2-43af-b4af-087a0fb1fef9', metadata={'source': 'https://python.langchain.com/docs/how_to/MultiQueryRetriever/', 'language': 'en', 'title': 'How to use the MultiQueryRetriever | 🦜️🔗 LangChain', 'description': 'Distance-based vector database retrieval embeds (represents) queries in high-dimensional space and finds similar embedded documents based on a distance metric. But, retrieval may produce different results with subtle changes in query wording, or if the embeddings do not capture the semantics of the data well. Prompt engineering / tuning is sometimes done to manually address these problems, but can be tedious.'}, page_content='USER_AGENT environment variable not set, consider setting it to identify your requests.\\nSimple usage\\u200b\\nSpecify the LLM to use for query generation, and the retriever will do the rest.\\nfrom langchain.retrievers.multi_query import MultiQueryRetrieverfrom langchain_openai import ChatOpenAIquestion = \"What are the approaches to Task Decomposition?\"llm = ChatOpenAI(temperature=0)retriever_from_llm = MultiQueryRetriever.from_llm(    retriever=vectordb.as_retriever(), llm=llm)'), Document(id='1bb73165-4287-4484-903b-4ff24581560c', metadata={'description': 'Distance-based vector database retrieval embeds (represents) queries in high-dimensional space and finds similar embedded documents based on a distance metric. But, retrieval may produce different results with subtle changes in query wording, or if the embeddings do not capture the semantics of the data well. Prompt engineering / tuning is sometimes done to manually address these problems, but can be tedious.', 'source': 'https://python.langchain.com/docs/how_to/MultiQueryRetriever/', 'language': 'en', 'title': 'How to use the MultiQueryRetriever | 🦜️🔗 LangChain'}, page_content='The MultiQueryRetriever automates the process of prompt tuning by using an LLM to generate multiple queries from different perspectives for a given user input query. For each query, it retrieves a set of relevant documents and takes the unique union across all queries to get a larger set of potentially relevant documents. By generating multiple perspectives on the same question, the MultiQueryRetriever can mitigate some of the limitations of the distance-based retrieval and get a richer set of')]\n"
     ]
    },
    {
     "data": {
      "text/plain": [
       "6"
      ]
     },
     "execution_count": 7,
     "metadata": {},
     "output_type": "execute_result"
    }
   ],
   "source": [
    "question = \"如何让用户查询更准确？\"\n",
    "\n",
    "unique_docs = retriever_from_llm.invoke(question)\n",
    "print(unique_docs)\n",
    "len(unique_docs)"
   ]
  }
 ],
 "metadata": {
  "kernelspec": {
   "display_name": ".venv (3.12.11)",
   "language": "python",
   "name": "python3"
  },
  "language_info": {
   "codemirror_mode": {
    "name": "ipython",
    "version": 3
   },
   "file_extension": ".py",
   "mimetype": "text/x-python",
   "name": "python",
   "nbconvert_exporter": "python",
   "pygments_lexer": "ipython3",
   "version": "3.12.11"
  }
 },
 "nbformat": 4,
 "nbformat_minor": 5
}
