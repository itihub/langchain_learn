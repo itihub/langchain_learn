{
 "cells": [
  {
   "cell_type": "markdown",
   "id": "56b8cb9e",
   "metadata": {},
   "source": [
    "# LangChain检索器\n",
    "+ 基本的检索器\n",
    "+ 词法搜索构建检索器"
   ]
  },
  {
   "cell_type": "code",
   "execution_count": null,
   "id": "69fd4814",
   "metadata": {},
   "outputs": [],
   "source": [
    "import os\n",
    "from dotenv import load_dotenv\n",
    "\n",
    "# 加载 .env 文件中的环境变量\n",
    "load_dotenv(override=True)  # 使用 override=True 确保加载最新的 .env 数据"
   ]
  },
  {
   "cell_type": "code",
   "execution_count": 2,
   "id": "0113748d",
   "metadata": {},
   "outputs": [],
   "source": [
    "from langchain_openai import OpenAIEmbeddings\n",
    "\n",
    "embeddings_model = OpenAIEmbeddings(\n",
    "    model=\"BAAI/bge-m3\",\n",
    "    # https://api.siliconflow.cn/v1/embeddings\n",
    "    base_url=os.environ.get(\"SILICONFLOW_API_BASE\"),\n",
    "    api_key=os.environ.get(\"SILICONFLOW_API_KEY\"),\n",
    ")"
   ]
  },
  {
   "cell_type": "markdown",
   "id": "2fac9297",
   "metadata": {},
   "source": [
    "## 基本的检索器"
   ]
  },
  {
   "cell_type": "code",
   "execution_count": null,
   "id": "fe3a4ec3",
   "metadata": {},
   "outputs": [],
   "source": [
    "from langchain_community.document_loaders import TextLoader\n",
    "from langchain_community.vectorstores import FAISS\n",
    "from langchain_openai import OpenAIEmbeddings\n",
    "from langchain_text_splitters import CharacterTextSplitter\n",
    "\n",
    "loader = TextLoader(\"../../sources/letter.txt\")\n",
    "\n",
    "documents = loader.load()\n",
    "text_splitter = CharacterTextSplitter(chunk_size=1000, chunk_overlap=0)\n",
    "texts = text_splitter.split_documents(documents)\n",
    "\n",
    "# 进行向量存储\n",
    "vectorstore = FAISS.from_documents(texts, embeddings_model)"
   ]
  },
  {
   "cell_type": "code",
   "execution_count": null,
   "id": "9063f3f4",
   "metadata": {},
   "outputs": [
    {
     "name": "stdout",
     "output_type": "stream",
     "text": [
      "[Document(id='7468f31c-4f9d-451d-8ddd-4b62280e090b', metadata={'source': '../../sources/letter.txt'}, page_content='Marketing Initiatives and Campaigns\\nOur marketing team has been actively working on developing new strategies to increase brand awareness and drive customer engagement. We would like to thank Sarah Thompson (phone: 415-555-1234) for her exceptional efforts in managing our social media platforms. Sarah has successfully increased our follower base by 20% in the past month alone. Moreover, please mark your calendars for the upcoming product launch event on July 15th. We encourage all team members to attend and support this exciting milestone for our company.'), Document(id='c4395f41-63be-4b60-99ea-dac6e81a1586', metadata={'source': '../../sources/letter.txt'}, page_content=\"[Generated with ChatGPT]\\n\\nConfidential Document - For Internal Use Only\\n\\nDate: July 1, 2023\\n\\nSubject: Updates and Discussions on Various Topics\\n\\nDear Team,\\n\\nI hope this email finds you well. In this document, I would like to provide you with some important updates and discuss various topics that require our attention. Please treat the information contained herein as highly confidential.\\n\\nSecurity and Privacy Measures\\nAs part of our ongoing commitment to ensure the security and privacy of our customers' data, we have implemented robust measures across all our systems. We would like to commend John Doe (email: john.doe@example.com) from the IT department for his diligent work in enhancing our network security. Moving forward, we kindly remind everyone to strictly adhere to our data protection policies and guidelines. Additionally, if you come across any potential security risks or incidents, please report them immediately to our dedicated team at security@example.com.\"), Document(id='5059d064-b2dd-4bdf-a473-b9c89c2472fc', metadata={'source': '../../sources/letter.txt'}, page_content=\"Research and Development Projects\\nIn our pursuit of innovation, our research and development department has been working tirelessly on various projects. I would like to acknowledge the exceptional work of David Rodriguez (email: david.rodriguez@example.com) in his role as project lead. David's contributions to the development of our cutting-edge technology have been instrumental. Furthermore, we would like to remind everyone to share their ideas and suggestions for potential new projects during our monthly R&D brainstorming session, scheduled for July 10th.\\n\\nPlease treat the information in this document with utmost confidentiality and ensure that it is not shared with unauthorized individuals. If you have any questions or concerns regarding the topics discussed, please do not hesitate to reach out to me directly.\\n\\nThank you for your attention, and let's continue to work together to achieve our goals.\\n\\nBest regards,\\n\\nJason Fan\\nCofounder & CEO\\nPsychic\\njason@psychic.dev\"), Document(id='d7c2fe2a-73d1-43b3-ac4f-d6dc3ae7c897', metadata={'source': '../../sources/letter.txt'}, page_content='HR Updates and Employee Benefits\\nRecently, we welcomed several new team members who have made significant contributions to their respective departments. I would like to recognize Jane Smith (SSN: 049-45-5928) for her outstanding performance in customer service. Jane has consistently received positive feedback from our clients. Furthermore, please remember that the open enrollment period for our employee benefits program is fast approaching. Should you have any questions or require assistance, please contact our HR representative, Michael Johnson (phone: 418-492-3850, email: michael.johnson@example.com).')]\n"
     ]
    }
   ],
   "source": [
    "# 将向量数据库实例化为检索器\n",
    "retriever = vectorstore.as_retriever()\n",
    "\n",
    "docs = retriever.invoke(\"deepseek是什么\")\n",
    "print(docs)"
   ]
  },
  {
   "cell_type": "code",
   "execution_count": null,
   "id": "7494953a",
   "metadata": {},
   "outputs": [],
   "source": [
    "## 词法搜索构建检索器\n",
    "BM25也称为Okapi BM25，是信息检索系统种用来估计文档与给定搜索查询的相关性的排名函数"
   ]
  },
  {
   "cell_type": "code",
   "execution_count": 5,
   "id": "d4bc2c9d",
   "metadata": {},
   "outputs": [
    {
     "name": "stdout",
     "output_type": "stream",
     "text": [
      "Looking in indexes: https://pypi.tuna.tsinghua.edu.cn/simple\n",
      "Collecting rank_bm25\n",
      "  Downloading https://pypi.tuna.tsinghua.edu.cn/packages/2a/21/f691fb2613100a62b3fa91e9988c991e9ca5b89ea31c0d3152a3210344f9/rank_bm25-0.2.2-py3-none-any.whl (8.6 kB)\n",
      "Requirement already satisfied: numpy in /home/jizhe/projects/python/langchain_learn/.venv/lib/python3.12/site-packages (from rank_bm25) (2.3.2)\n",
      "Installing collected packages: rank_bm25\n",
      "Successfully installed rank_bm25-0.2.2\n"
     ]
    }
   ],
   "source": [
    "! pip install rank_bm25"
   ]
  },
  {
   "cell_type": "code",
   "execution_count": 7,
   "id": "cc691137",
   "metadata": {},
   "outputs": [],
   "source": [
    "from langchain_community.retrievers import BM25Retriever\n",
    "from langchain_core.documents import Document\n",
    "\n",
    "# 使用所创建的文档来创建一个新的检索其\n",
    "retriever = BM25Retriever.from_texts([\"foo\", \"bar\", \"world\", \"hello\", \"foo bar\"])\n",
    "\n",
    "retriever = BM25Retriever.from_documents(\n",
    "    [\n",
    "        Document(page_content=\"foo\"),\n",
    "        Document(page_content=\"bar\"),\n",
    "        Document(page_content=\"world\"),\n",
    "        Document(page_content=\"hello\"),\n",
    "        Document(page_content=\"foo bar\"),\n",
    "    ]\n",
    ")"
   ]
  },
  {
   "cell_type": "code",
   "execution_count": 8,
   "id": "7afec4c4",
   "metadata": {},
   "outputs": [
    {
     "name": "stdout",
     "output_type": "stream",
     "text": [
      "[Document(metadata={}, page_content='foo'), Document(metadata={}, page_content='foo bar'), Document(metadata={}, page_content='hello'), Document(metadata={}, page_content='world')]\n"
     ]
    }
   ],
   "source": [
    "# 进行检索\n",
    "result = retriever.invoke(\"foo\")\n",
    "print(result)"
   ]
  },
  {
   "cell_type": "markdown",
   "id": "1b062356",
   "metadata": {},
   "source": [
    "## 使用NLTK方式在预处理器进行增强，在词语级别检索效果比较显著"
   ]
  },
  {
   "cell_type": "code",
   "execution_count": 9,
   "id": "922a1598",
   "metadata": {},
   "outputs": [
    {
     "name": "stderr",
     "output_type": "stream",
     "text": [
      "[nltk_data] Downloading package punkt_tab to /home/jizhe/nltk_data...\n",
      "[nltk_data]   Package punkt_tab is already up-to-date!\n"
     ]
    },
    {
     "data": {
      "text/plain": [
       "True"
      ]
     },
     "execution_count": 9,
     "metadata": {},
     "output_type": "execute_result"
    }
   ],
   "source": [
    "import nltk\n",
    "\n",
    "# punkt 是一个句子分割器模型\n",
    "nltk.download(\"punkt_tab\")"
   ]
  },
  {
   "cell_type": "code",
   "execution_count": 11,
   "id": "b96b071e",
   "metadata": {},
   "outputs": [
    {
     "data": {
      "text/plain": [
       "[Document(metadata={}, page_content='bar'),\n",
       " Document(metadata={}, page_content='foo bar')]"
      ]
     },
     "execution_count": 11,
     "metadata": {},
     "output_type": "execute_result"
    }
   ],
   "source": [
    "from nltk.tokenize import word_tokenize\n",
    "from langchain_community.retrievers import BM25Retriever\n",
    "from langchain_core.documents import Document\n",
    "\n",
    "retriever = BM25Retriever.from_documents(\n",
    "    [\n",
    "        Document(page_content=\"foo\"),\n",
    "        Document(page_content=\"bar\"),\n",
    "        Document(page_content=\"world\"),\n",
    "        Document(page_content=\"hello\"),\n",
    "        Document(page_content=\"foo bar\"),\n",
    "    ],\n",
    "    k=2,\n",
    "    preprocess_func=word_tokenize,\n",
    ")\n",
    "\n",
    "# 检索\n",
    "retriever.invoke(\"bar\")"
   ]
  }
 ],
 "metadata": {
  "kernelspec": {
   "display_name": ".venv (3.12.11)",
   "language": "python",
   "name": "python3"
  },
  "language_info": {
   "codemirror_mode": {
    "name": "ipython",
    "version": 3
   },
   "file_extension": ".py",
   "mimetype": "text/x-python",
   "name": "python",
   "nbconvert_exporter": "python",
   "pygments_lexer": "ipython3",
   "version": "3.12.11"
  }
 },
 "nbformat": 4,
 "nbformat_minor": 5
}
